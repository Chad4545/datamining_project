{
 "cells": [
  {
   "cell_type": "code",
   "execution_count": 1,
   "metadata": {
    "scrolled": true
   },
   "outputs": [
    {
     "data": {
      "text/html": [
       "'/Users/sungjinpark/OneDrive - konkuk.ac.kr/datamining/appstore_2/3randomforest'"
      ],
      "text/latex": [
       "'/Users/sungjinpark/OneDrive - konkuk.ac.kr/datamining/appstore\\_2/3randomforest'"
      ],
      "text/markdown": [
       "'/Users/sungjinpark/OneDrive - konkuk.ac.kr/datamining/appstore_2/3randomforest'"
      ],
      "text/plain": [
       "[1] \"/Users/sungjinpark/OneDrive - konkuk.ac.kr/datamining/appstore_2/3randomforest\""
      ]
     },
     "metadata": {},
     "output_type": "display_data"
    }
   ],
   "source": [
    "rm(list=ls())\n",
    "dir = '/Users/sungjinpark/OneDrive - konkuk.ac.kr/datamining/appstore_2/3randomforest'\n",
    "setwd(dir)\n",
    "getwd()\n",
    "load('cls_1_train.rda')\n",
    "load('cls_1_test.rda')"
   ]
  },
  {
   "cell_type": "markdown",
   "metadata": {},
   "source": [
    "# 5 classes\n",
    "\n",
    "## 'Education' 'Entertainment' 'Games' 'Photo & Video' 'Utilities' 'etc'"
   ]
  },
  {
   "cell_type": "code",
   "execution_count": 2,
   "metadata": {},
   "outputs": [
    {
     "data": {
      "text/html": [
       "<ol class=list-inline>\n",
       "\t<li>'1'</li>\n",
       "\t<li>'2'</li>\n",
       "\t<li>'3'</li>\n",
       "\t<li>'4'</li>\n",
       "\t<li>'5'</li>\n",
       "</ol>\n"
      ],
      "text/latex": [
       "\\begin{enumerate*}\n",
       "\\item '1'\n",
       "\\item '2'\n",
       "\\item '3'\n",
       "\\item '4'\n",
       "\\item '5'\n",
       "\\end{enumerate*}\n"
      ],
      "text/markdown": [
       "1. '1'\n",
       "2. '2'\n",
       "3. '3'\n",
       "4. '4'\n",
       "5. '5'\n",
       "\n",
       "\n"
      ],
      "text/plain": [
       "[1] \"1\" \"2\" \"3\" \"4\" \"5\""
      ]
     },
     "metadata": {},
     "output_type": "display_data"
    },
    {
     "data": {
      "text/html": [
       "<ol class=list-inline>\n",
       "\t<li>'Education'</li>\n",
       "\t<li>'Entertainment'</li>\n",
       "\t<li>'Games'</li>\n",
       "\t<li>'Photo &amp; Video'</li>\n",
       "\t<li>'Utilities'</li>\n",
       "\t<li>'etc'</li>\n",
       "</ol>\n"
      ],
      "text/latex": [
       "\\begin{enumerate*}\n",
       "\\item 'Education'\n",
       "\\item 'Entertainment'\n",
       "\\item 'Games'\n",
       "\\item 'Photo \\& Video'\n",
       "\\item 'Utilities'\n",
       "\\item 'etc'\n",
       "\\end{enumerate*}\n"
      ],
      "text/markdown": [
       "1. 'Education'\n",
       "2. 'Entertainment'\n",
       "3. 'Games'\n",
       "4. 'Photo &amp; Video'\n",
       "5. 'Utilities'\n",
       "6. 'etc'\n",
       "\n",
       "\n"
      ],
      "text/plain": [
       "[1] \"Education\"     \"Entertainment\" \"Games\"         \"Photo & Video\"\n",
       "[5] \"Utilities\"     \"etc\"          "
      ]
     },
     "metadata": {},
     "output_type": "display_data"
    }
   ],
   "source": [
    "load('cls_3_train.rda')\n",
    "load('cls_3_test.rda')\n",
    "cls_1_train = cls_3_train\n",
    "cls_1_test = cls_3_test\n",
    "#str(cls_1_train)\n",
    "colnames(cls_1_train)[4] <- \"Y\"\n",
    "colnames(cls_1_test)[4]<- \"Y\"\n",
    "##################################################################\n",
    "# relevel categorical variables\n",
    "##################################################################\n",
    "cls_1_train <- droplevels(cls_1_train)    \n",
    "cls_1_test <- droplevels(cls_1_test)\n",
    "levels(cls_1_train$Y)\n",
    "levels(cls_1_train$prime_genre)"
   ]
  },
  {
   "cell_type": "markdown",
   "metadata": {},
   "source": [
    "# Randomforest Tuning"
   ]
  },
  {
   "cell_type": "code",
   "execution_count": 4,
   "metadata": {},
   "outputs": [
    {
     "data": {
      "text/html": [
       "<table>\n",
       "<caption>A matrix: 4 × 6 of type dbl</caption>\n",
       "<thead>\n",
       "\t<tr><th></th><th scope=col>default</th><th scope=col>mtry:3</th><th scope=col>mtry:5</th><th scope=col>mtry:7</th><th scope=col>mtry9</th><th scope=col>mtry:11</th></tr>\n",
       "</thead>\n",
       "<tbody>\n",
       "\t<tr><th scope=row>mtry</th><td>0</td><td>0</td><td>0</td><td>0</td><td>0</td><td>0</td></tr>\n",
       "\t<tr><th scope=row>ntree</th><td>0</td><td>0</td><td>0</td><td>0</td><td>0</td><td>0</td></tr>\n",
       "\t<tr><th scope=row>node</th><td>0</td><td>0</td><td>0</td><td>0</td><td>0</td><td>0</td></tr>\n",
       "\t<tr><th scope=row>test_acc</th><td>0</td><td>0</td><td>0</td><td>0</td><td>0</td><td>0</td></tr>\n",
       "</tbody>\n",
       "</table>\n"
      ],
      "text/latex": [
       "A matrix: 4 × 6 of type dbl\n",
       "\\begin{tabular}{r|llllll}\n",
       "  & default & mtry:3 & mtry:5 & mtry:7 & mtry9 & mtry:11\\\\\n",
       "\\hline\n",
       "\tmtry & 0 & 0 & 0 & 0 & 0 & 0\\\\\n",
       "\tntree & 0 & 0 & 0 & 0 & 0 & 0\\\\\n",
       "\tnode & 0 & 0 & 0 & 0 & 0 & 0\\\\\n",
       "\ttest\\_acc & 0 & 0 & 0 & 0 & 0 & 0\\\\\n",
       "\\end{tabular}\n"
      ],
      "text/markdown": [
       "\n",
       "A matrix: 4 × 6 of type dbl\n",
       "\n",
       "| <!--/--> | default | mtry:3 | mtry:5 | mtry:7 | mtry9 | mtry:11 |\n",
       "|---|---|---|---|---|---|---|\n",
       "| mtry | 0 | 0 | 0 | 0 | 0 | 0 |\n",
       "| ntree | 0 | 0 | 0 | 0 | 0 | 0 |\n",
       "| node | 0 | 0 | 0 | 0 | 0 | 0 |\n",
       "| test_acc | 0 | 0 | 0 | 0 | 0 | 0 |\n",
       "\n"
      ],
      "text/plain": [
       "         default mtry:3 mtry:5 mtry:7 mtry9 mtry:11\n",
       "mtry     0       0      0      0      0     0      \n",
       "ntree    0       0      0      0      0     0      \n",
       "node     0       0      0      0      0     0      \n",
       "test_acc 0       0      0      0      0     0      "
      ]
     },
     "metadata": {},
     "output_type": "display_data"
    }
   ],
   "source": [
    "################################################\n",
    "## Randomforest\n",
    "################################################\n",
    "library(randomForest)\n",
    "tune_mat = matrix(0,4,6)\n",
    "colnames(tune_mat) = c(\"default\",\"mtry:3\",\"mtry:5\",\"mtry:7\",\"mtry9\",\"mtry:11\")\n",
    "rownames(tune_mat) = c('mtry','ntree','node','test_acc');tune_mat"
   ]
  },
  {
   "cell_type": "markdown",
   "metadata": {},
   "source": [
    "### Default model"
   ]
  },
  {
   "cell_type": "code",
   "execution_count": 5,
   "metadata": {},
   "outputs": [
    {
     "data": {
      "text/html": [
       "<table>\n",
       "<caption>A matrix: 4 × 6 of type dbl</caption>\n",
       "<thead>\n",
       "\t<tr><th></th><th scope=col>default</th><th scope=col>mtry:3</th><th scope=col>mtry:5</th><th scope=col>mtry:7</th><th scope=col>mtry9</th><th scope=col>mtry:11</th></tr>\n",
       "</thead>\n",
       "<tbody>\n",
       "\t<tr><th scope=row>mtry</th><td>  3.000000</td><td>0</td><td>0</td><td>0</td><td>0</td><td>0</td></tr>\n",
       "\t<tr><th scope=row>ntree</th><td>500.000000</td><td>0</td><td>0</td><td>0</td><td>0</td><td>0</td></tr>\n",
       "\t<tr><th scope=row>node</th><td>  1.000000</td><td>0</td><td>0</td><td>0</td><td>0</td><td>0</td></tr>\n",
       "\t<tr><th scope=row>test_acc</th><td>  0.735007</td><td>0</td><td>0</td><td>0</td><td>0</td><td>0</td></tr>\n",
       "</tbody>\n",
       "</table>\n"
      ],
      "text/latex": [
       "A matrix: 4 × 6 of type dbl\n",
       "\\begin{tabular}{r|llllll}\n",
       "  & default & mtry:3 & mtry:5 & mtry:7 & mtry9 & mtry:11\\\\\n",
       "\\hline\n",
       "\tmtry &   3.000000 & 0 & 0 & 0 & 0 & 0\\\\\n",
       "\tntree & 500.000000 & 0 & 0 & 0 & 0 & 0\\\\\n",
       "\tnode &   1.000000 & 0 & 0 & 0 & 0 & 0\\\\\n",
       "\ttest\\_acc &   0.735007 & 0 & 0 & 0 & 0 & 0\\\\\n",
       "\\end{tabular}\n"
      ],
      "text/markdown": [
       "\n",
       "A matrix: 4 × 6 of type dbl\n",
       "\n",
       "| <!--/--> | default | mtry:3 | mtry:5 | mtry:7 | mtry9 | mtry:11 |\n",
       "|---|---|---|---|---|---|---|\n",
       "| mtry |   3.000000 | 0 | 0 | 0 | 0 | 0 |\n",
       "| ntree | 500.000000 | 0 | 0 | 0 | 0 | 0 |\n",
       "| node |   1.000000 | 0 | 0 | 0 | 0 | 0 |\n",
       "| test_acc |   0.735007 | 0 | 0 | 0 | 0 | 0 |\n",
       "\n"
      ],
      "text/plain": [
       "         default    mtry:3 mtry:5 mtry:7 mtry9 mtry:11\n",
       "mtry       3.000000 0      0      0      0     0      \n",
       "ntree    500.000000 0      0      0      0     0      \n",
       "node       1.000000 0      0      0      0     0      \n",
       "test_acc   0.735007 0      0      0      0     0      "
      ]
     },
     "metadata": {},
     "output_type": "display_data"
    }
   ],
   "source": [
    "set.seed(1)\n",
    "default.fit = randomForest(Y~.,data=cls_1_train)\n",
    "set.seed(1)\n",
    "tab = table(cls_1_test[,4],predict(default.fit,newdata=cls_1_test[,-4]))\n",
    "ts.ccp = sum(diag(tab))/sum(tab);\n",
    "#default.fit$ntree\n",
    "#default.fit$mtry # 3\n",
    "#default.fit$nodesize # 1\n",
    "tune_mat[,1]=c(3,500,1,0.735007);tune_mat"
   ]
  },
  {
   "cell_type": "markdown",
   "metadata": {},
   "source": [
    "## Randomforest -Tuning"
   ]
  },
  {
   "cell_type": "code",
   "execution_count": 6,
   "metadata": {},
   "outputs": [
    {
     "name": "stdout",
     "output_type": "stream",
     "text": [
      "               30 60 90 120 150 180 210 240 270 300\n",
      "ntree  30.0000000  0  0   0   0   0   0   0   0   0\n",
      "node    3.0000000  0  0   0   0   0   0   0   0   0\n",
      "ts_acc  0.7426778  0  0   0   0   0   0   0   0   0\n",
      "               30         60 90 120 150 180 210 240 270 300\n",
      "ntree  30.0000000 60.0000000  0   0   0   0   0   0   0   0\n",
      "node    3.0000000  3.0000000  0   0   0   0   0   0   0   0\n",
      "ts_acc  0.7426778  0.7412831  0   0   0   0   0   0   0   0\n",
      "               30         60        90 120 150 180 210 240 270 300\n",
      "ntree  30.0000000 60.0000000 90.000000   0   0   0   0   0   0   0\n",
      "node    3.0000000  3.0000000  2.000000   0   0   0   0   0   0   0\n",
      "ts_acc  0.7426778  0.7412831  0.737099   0   0   0   0   0   0   0\n",
      "               30         60        90         120 150 180 210 240 270 300\n",
      "ntree  30.0000000 60.0000000 90.000000 120.0000000   0   0   0   0   0   0\n",
      "node    3.0000000  3.0000000  2.000000   1.0000000   0   0   0   0   0   0\n",
      "ts_acc  0.7426778  0.7412831  0.737099   0.7447699   0   0   0   0   0   0\n",
      "               30         60        90         120         150 180 210 240 270\n",
      "ntree  30.0000000 60.0000000 90.000000 120.0000000 150.0000000   0   0   0   0\n",
      "node    3.0000000  3.0000000  2.000000   1.0000000   1.0000000   0   0   0   0\n",
      "ts_acc  0.7426778  0.7412831  0.737099   0.7447699   0.7475593   0   0   0   0\n",
      "       300\n",
      "ntree    0\n",
      "node     0\n",
      "ts_acc   0\n",
      "               30         60        90         120         150         180 210\n",
      "ntree  30.0000000 60.0000000 90.000000 120.0000000 150.0000000 180.0000000   0\n",
      "node    3.0000000  3.0000000  2.000000   1.0000000   1.0000000   1.0000000   0\n",
      "ts_acc  0.7426778  0.7412831  0.737099   0.7447699   0.7475593   0.7454672   0\n",
      "       240 270 300\n",
      "ntree    0   0   0\n",
      "node     0   0   0\n",
      "ts_acc   0   0   0\n",
      "               30         60        90         120         150         180\n",
      "ntree  30.0000000 60.0000000 90.000000 120.0000000 150.0000000 180.0000000\n",
      "node    3.0000000  3.0000000  2.000000   1.0000000   1.0000000   1.0000000\n",
      "ts_acc  0.7426778  0.7412831  0.737099   0.7447699   0.7475593   0.7454672\n",
      "               210 240 270 300\n",
      "ntree  210.0000000   0   0   0\n",
      "node     1.0000000   0   0   0\n",
      "ts_acc   0.7447699   0   0   0\n",
      "               30         60        90         120         150         180\n",
      "ntree  30.0000000 60.0000000 90.000000 120.0000000 150.0000000 180.0000000\n",
      "node    3.0000000  3.0000000  2.000000   1.0000000   1.0000000   1.0000000\n",
      "ts_acc  0.7426778  0.7412831  0.737099   0.7447699   0.7475593   0.7454672\n",
      "               210         240 270 300\n",
      "ntree  210.0000000 240.0000000   0   0\n",
      "node     1.0000000   1.0000000   0   0\n",
      "ts_acc   0.7447699   0.7468619   0   0\n",
      "               30         60        90         120         150         180\n",
      "ntree  30.0000000 60.0000000 90.000000 120.0000000 150.0000000 180.0000000\n",
      "node    3.0000000  3.0000000  2.000000   1.0000000   1.0000000   1.0000000\n",
      "ts_acc  0.7426778  0.7412831  0.737099   0.7447699   0.7475593   0.7454672\n",
      "               210         240         270 300\n",
      "ntree  210.0000000 240.0000000 270.0000000   0\n",
      "node     1.0000000   1.0000000   1.0000000   0\n",
      "ts_acc   0.7447699   0.7468619   0.7461646   0\n",
      "               30         60        90         120         150         180\n",
      "ntree  30.0000000 60.0000000 90.000000 120.0000000 150.0000000 180.0000000\n",
      "node    3.0000000  3.0000000  2.000000   1.0000000   1.0000000   1.0000000\n",
      "ts_acc  0.7426778  0.7412831  0.737099   0.7447699   0.7475593   0.7454672\n",
      "               210         240         270         300\n",
      "ntree  210.0000000 240.0000000 270.0000000 300.0000000\n",
      "node     1.0000000   1.0000000   1.0000000   1.0000000\n",
      "ts_acc   0.7447699   0.7468619   0.7461646   0.7482566\n",
      "               30 60 90 120 150 180 210 240 270 300\n",
      "ntree  30.0000000  0  0   0   0   0   0   0   0   0\n",
      "node    1.0000000  0  0   0   0   0   0   0   0   0\n",
      "ts_acc  0.7426778  0  0   0   0   0   0   0   0   0\n",
      "               30         60 90 120 150 180 210 240 270 300\n",
      "ntree  30.0000000 60.0000000  0   0   0   0   0   0   0   0\n",
      "node    1.0000000  2.0000000  0   0   0   0   0   0   0   0\n",
      "ts_acc  0.7426778  0.7531381  0   0   0   0   0   0   0   0\n",
      "               30         60         90 120 150 180 210 240 270 300\n",
      "ntree  30.0000000 60.0000000 90.0000000   0   0   0   0   0   0   0\n",
      "node    1.0000000  2.0000000  1.0000000   0   0   0   0   0   0   0\n",
      "ts_acc  0.7426778  0.7531381  0.7538354   0   0   0   0   0   0   0\n",
      "               30         60         90         120 150 180 210 240 270 300\n",
      "ntree  30.0000000 60.0000000 90.0000000 120.0000000   0   0   0   0   0   0\n",
      "node    1.0000000  2.0000000  1.0000000   1.0000000   0   0   0   0   0   0\n",
      "ts_acc  0.7426778  0.7531381  0.7538354   0.7517434   0   0   0   0   0   0\n",
      "               30         60         90         120         150 180 210 240 270\n",
      "ntree  30.0000000 60.0000000 90.0000000 120.0000000 150.0000000   0   0   0   0\n",
      "node    1.0000000  2.0000000  1.0000000   1.0000000   2.0000000   0   0   0   0\n",
      "ts_acc  0.7426778  0.7531381  0.7538354   0.7517434   0.7517434   0   0   0   0\n",
      "       300\n",
      "ntree    0\n",
      "node     0\n",
      "ts_acc   0\n",
      "               30         60         90         120         150         180 210\n",
      "ntree  30.0000000 60.0000000 90.0000000 120.0000000 150.0000000 180.0000000   0\n",
      "node    1.0000000  2.0000000  1.0000000   1.0000000   2.0000000   1.0000000   0\n",
      "ts_acc  0.7426778  0.7531381  0.7538354   0.7517434   0.7517434   0.7517434   0\n",
      "       240 270 300\n",
      "ntree    0   0   0\n",
      "node     0   0   0\n",
      "ts_acc   0   0   0\n",
      "               30         60         90         120         150         180\n",
      "ntree  30.0000000 60.0000000 90.0000000 120.0000000 150.0000000 180.0000000\n",
      "node    1.0000000  2.0000000  1.0000000   1.0000000   2.0000000   1.0000000\n",
      "ts_acc  0.7426778  0.7531381  0.7538354   0.7517434   0.7517434   0.7517434\n",
      "               210 240 270 300\n",
      "ntree  210.0000000   0   0   0\n",
      "node     1.0000000   0   0   0\n",
      "ts_acc   0.7475593   0   0   0\n",
      "               30         60         90         120         150         180\n",
      "ntree  30.0000000 60.0000000 90.0000000 120.0000000 150.0000000 180.0000000\n",
      "node    1.0000000  2.0000000  1.0000000   1.0000000   2.0000000   1.0000000\n",
      "ts_acc  0.7426778  0.7531381  0.7538354   0.7517434   0.7517434   0.7517434\n",
      "               210         240 270 300\n",
      "ntree  210.0000000 240.0000000   0   0\n",
      "node     1.0000000   1.0000000   0   0\n",
      "ts_acc   0.7475593   0.7482566   0   0\n",
      "               30         60         90         120         150         180\n",
      "ntree  30.0000000 60.0000000 90.0000000 120.0000000 150.0000000 180.0000000\n",
      "node    1.0000000  2.0000000  1.0000000   1.0000000   2.0000000   1.0000000\n",
      "ts_acc  0.7426778  0.7531381  0.7538354   0.7517434   0.7517434   0.7517434\n",
      "               210         240        270 300\n",
      "ntree  210.0000000 240.0000000 270.000000   0\n",
      "node     1.0000000   1.0000000   1.000000   0\n",
      "ts_acc   0.7475593   0.7482566   0.751046   0\n",
      "               30         60         90         120         150         180\n",
      "ntree  30.0000000 60.0000000 90.0000000 120.0000000 150.0000000 180.0000000\n",
      "node    1.0000000  2.0000000  1.0000000   1.0000000   2.0000000   1.0000000\n",
      "ts_acc  0.7426778  0.7531381  0.7538354   0.7517434   0.7517434   0.7517434\n",
      "               210         240        270         300\n",
      "ntree  210.0000000 240.0000000 270.000000 300.0000000\n",
      "node     1.0000000   1.0000000   1.000000   2.0000000\n",
      "ts_acc   0.7475593   0.7482566   0.751046   0.7517434\n",
      "               30 60 90 120 150 180 210 240 270 300\n",
      "ntree  30.0000000  0  0   0   0   0   0   0   0   0\n",
      "node    1.0000000  0  0   0   0   0   0   0   0   0\n",
      "ts_acc  0.7412831  0  0   0   0   0   0   0   0   0\n",
      "               30         60 90 120 150 180 210 240 270 300\n",
      "ntree  30.0000000 60.0000000  0   0   0   0   0   0   0   0\n",
      "node    1.0000000  3.0000000  0   0   0   0   0   0   0   0\n",
      "ts_acc  0.7412831  0.7468619  0   0   0   0   0   0   0   0\n",
      "               30         60         90 120 150 180 210 240 270 300\n",
      "ntree  30.0000000 60.0000000 90.0000000   0   0   0   0   0   0   0\n",
      "node    1.0000000  3.0000000  1.0000000   0   0   0   0   0   0   0\n",
      "ts_acc  0.7412831  0.7468619  0.7538354   0   0   0   0   0   0   0\n",
      "               30         60         90         120 150 180 210 240 270 300\n",
      "ntree  30.0000000 60.0000000 90.0000000 120.0000000   0   0   0   0   0   0\n",
      "node    1.0000000  3.0000000  1.0000000   1.0000000   0   0   0   0   0   0\n",
      "ts_acc  0.7412831  0.7468619  0.7538354   0.7580195   0   0   0   0   0   0\n",
      "               30         60         90         120         150 180 210 240 270\n",
      "ntree  30.0000000 60.0000000 90.0000000 120.0000000 150.0000000   0   0   0   0\n",
      "node    1.0000000  3.0000000  1.0000000   1.0000000   1.0000000   0   0   0   0\n",
      "ts_acc  0.7412831  0.7468619  0.7538354   0.7580195   0.7538354   0   0   0   0\n",
      "       300\n",
      "ntree    0\n",
      "node     0\n",
      "ts_acc   0\n",
      "               30         60         90         120         150         180 210\n",
      "ntree  30.0000000 60.0000000 90.0000000 120.0000000 150.0000000 180.0000000   0\n",
      "node    1.0000000  3.0000000  1.0000000   1.0000000   1.0000000   1.0000000   0\n",
      "ts_acc  0.7412831  0.7468619  0.7538354   0.7580195   0.7538354   0.7538354   0\n",
      "       240 270 300\n",
      "ntree    0   0   0\n",
      "node     0   0   0\n",
      "ts_acc   0   0   0\n",
      "               30         60         90         120         150         180\n",
      "ntree  30.0000000 60.0000000 90.0000000 120.0000000 150.0000000 180.0000000\n",
      "node    1.0000000  3.0000000  1.0000000   1.0000000   1.0000000   1.0000000\n",
      "ts_acc  0.7412831  0.7468619  0.7538354   0.7580195   0.7538354   0.7538354\n",
      "               210 240 270 300\n",
      "ntree  210.0000000   0   0   0\n",
      "node     1.0000000   0   0   0\n",
      "ts_acc   0.7524407   0   0   0\n",
      "               30         60         90         120         150         180\n",
      "ntree  30.0000000 60.0000000 90.0000000 120.0000000 150.0000000 180.0000000\n",
      "node    1.0000000  3.0000000  1.0000000   1.0000000   1.0000000   1.0000000\n",
      "ts_acc  0.7412831  0.7468619  0.7538354   0.7580195   0.7538354   0.7538354\n",
      "               210         240 270 300\n",
      "ntree  210.0000000 240.0000000   0   0\n",
      "node     1.0000000   1.0000000   0   0\n",
      "ts_acc   0.7524407   0.7524407   0   0\n",
      "               30         60         90         120         150         180\n",
      "ntree  30.0000000 60.0000000 90.0000000 120.0000000 150.0000000 180.0000000\n",
      "node    1.0000000  3.0000000  1.0000000   1.0000000   1.0000000   1.0000000\n",
      "ts_acc  0.7412831  0.7468619  0.7538354   0.7580195   0.7538354   0.7538354\n",
      "               210         240         270 300\n",
      "ntree  210.0000000 240.0000000 270.0000000   0\n",
      "node     1.0000000   1.0000000   1.0000000   0\n",
      "ts_acc   0.7524407   0.7524407   0.7482566   0\n",
      "               30         60         90         120         150         180\n",
      "ntree  30.0000000 60.0000000 90.0000000 120.0000000 150.0000000 180.0000000\n",
      "node    1.0000000  3.0000000  1.0000000   1.0000000   1.0000000   1.0000000\n",
      "ts_acc  0.7412831  0.7468619  0.7538354   0.7580195   0.7538354   0.7538354\n",
      "               210         240         270         300\n",
      "ntree  210.0000000 240.0000000 270.0000000 300.0000000\n",
      "node     1.0000000   1.0000000   1.0000000   1.0000000\n",
      "ts_acc   0.7524407   0.7524407   0.7482566   0.7503487\n",
      "               30 60 90 120 150 180 210 240 270 300\n",
      "ntree  30.0000000  0  0   0   0   0   0   0   0   0\n",
      "node    2.0000000  0  0   0   0   0   0   0   0   0\n",
      "ts_acc  0.7426778  0  0   0   0   0   0   0   0   0\n",
      "               30         60 90 120 150 180 210 240 270 300\n",
      "ntree  30.0000000 60.0000000  0   0   0   0   0   0   0   0\n",
      "node    2.0000000  1.0000000  0   0   0   0   0   0   0   0\n",
      "ts_acc  0.7426778  0.7412831  0   0   0   0   0   0   0   0\n",
      "               30         60         90 120 150 180 210 240 270 300\n",
      "ntree  30.0000000 60.0000000 90.0000000   0   0   0   0   0   0   0\n",
      "node    2.0000000  1.0000000  3.0000000   0   0   0   0   0   0   0\n",
      "ts_acc  0.7426778  0.7412831  0.7475593   0   0   0   0   0   0   0\n",
      "               30         60         90         120 150 180 210 240 270 300\n",
      "ntree  30.0000000 60.0000000 90.0000000 120.0000000   0   0   0   0   0   0\n",
      "node    2.0000000  1.0000000  3.0000000   2.0000000   0   0   0   0   0   0\n",
      "ts_acc  0.7426778  0.7412831  0.7475593   0.7440725   0   0   0   0   0   0\n",
      "               30         60         90         120         150 180 210 240 270\n",
      "ntree  30.0000000 60.0000000 90.0000000 120.0000000 150.0000000   0   0   0   0\n",
      "node    2.0000000  1.0000000  3.0000000   2.0000000   3.0000000   0   0   0   0\n",
      "ts_acc  0.7426778  0.7412831  0.7475593   0.7440725   0.7461646   0   0   0   0\n",
      "       300\n",
      "ntree    0\n",
      "node     0\n",
      "ts_acc   0\n",
      "               30         60         90         120         150         180 210\n",
      "ntree  30.0000000 60.0000000 90.0000000 120.0000000 150.0000000 180.0000000   0\n",
      "node    2.0000000  1.0000000  3.0000000   2.0000000   3.0000000   3.0000000   0\n",
      "ts_acc  0.7426778  0.7412831  0.7475593   0.7440725   0.7461646   0.7447699   0\n",
      "       240 270 300\n",
      "ntree    0   0   0\n",
      "node     0   0   0\n",
      "ts_acc   0   0   0\n",
      "               30         60         90         120         150         180\n",
      "ntree  30.0000000 60.0000000 90.0000000 120.0000000 150.0000000 180.0000000\n",
      "node    2.0000000  1.0000000  3.0000000   2.0000000   3.0000000   3.0000000\n",
      "ts_acc  0.7426778  0.7412831  0.7475593   0.7440725   0.7461646   0.7447699\n",
      "               210 240 270 300\n",
      "ntree  210.0000000   0   0   0\n",
      "node     3.0000000   0   0   0\n",
      "ts_acc   0.7475593   0   0   0\n",
      "               30         60         90         120         150         180\n",
      "ntree  30.0000000 60.0000000 90.0000000 120.0000000 150.0000000 180.0000000\n",
      "node    2.0000000  1.0000000  3.0000000   2.0000000   3.0000000   3.0000000\n",
      "ts_acc  0.7426778  0.7412831  0.7475593   0.7440725   0.7461646   0.7447699\n",
      "               210         240 270 300\n",
      "ntree  210.0000000 240.0000000   0   0\n",
      "node     3.0000000   3.0000000   0   0\n",
      "ts_acc   0.7475593   0.7496513   0   0\n",
      "               30         60         90         120         150         180\n",
      "ntree  30.0000000 60.0000000 90.0000000 120.0000000 150.0000000 180.0000000\n",
      "node    2.0000000  1.0000000  3.0000000   2.0000000   3.0000000   3.0000000\n",
      "ts_acc  0.7426778  0.7412831  0.7475593   0.7440725   0.7461646   0.7447699\n",
      "               210         240         270 300\n",
      "ntree  210.0000000 240.0000000 270.0000000   0\n",
      "node     3.0000000   3.0000000   3.0000000   0\n",
      "ts_acc   0.7475593   0.7496513   0.7475593   0\n",
      "               30         60         90         120         150         180\n",
      "ntree  30.0000000 60.0000000 90.0000000 120.0000000 150.0000000 180.0000000\n",
      "node    2.0000000  1.0000000  3.0000000   2.0000000   3.0000000   3.0000000\n",
      "ts_acc  0.7426778  0.7412831  0.7475593   0.7440725   0.7461646   0.7447699\n",
      "               210         240         270         300\n",
      "ntree  210.0000000 240.0000000 270.0000000 300.0000000\n",
      "node     3.0000000   3.0000000   3.0000000   3.0000000\n",
      "ts_acc   0.7475593   0.7496513   0.7475593   0.7524407\n",
      "               30 60 90 120 150 180 210 240 270 300\n",
      "ntree  30.0000000  0  0   0   0   0   0   0   0   0\n",
      "node    2.0000000  0  0   0   0   0   0   0   0   0\n",
      "ts_acc  0.7322176  0  0   0   0   0   0   0   0   0\n",
      "               30         60 90 120 150 180 210 240 270 300\n",
      "ntree  30.0000000 60.0000000  0   0   0   0   0   0   0   0\n",
      "node    2.0000000  1.0000000  0   0   0   0   0   0   0   0\n",
      "ts_acc  0.7322176  0.7398884  0   0   0   0   0   0   0   0\n",
      "               30         60         90 120 150 180 210 240 270 300\n",
      "ntree  30.0000000 60.0000000 90.0000000   0   0   0   0   0   0   0\n",
      "node    2.0000000  1.0000000  3.0000000   0   0   0   0   0   0   0\n",
      "ts_acc  0.7322176  0.7398884  0.7391911   0   0   0   0   0   0   0\n",
      "               30         60         90         120 150 180 210 240 270 300\n",
      "ntree  30.0000000 60.0000000 90.0000000 120.0000000   0   0   0   0   0   0\n",
      "node    2.0000000  1.0000000  3.0000000   1.0000000   0   0   0   0   0   0\n",
      "ts_acc  0.7322176  0.7398884  0.7391911   0.7426778   0   0   0   0   0   0\n",
      "               30         60         90         120         150 180 210 240 270\n",
      "ntree  30.0000000 60.0000000 90.0000000 120.0000000 150.0000000   0   0   0   0\n",
      "node    2.0000000  1.0000000  3.0000000   1.0000000   1.0000000   0   0   0   0\n",
      "ts_acc  0.7322176  0.7398884  0.7391911   0.7426778   0.7433752   0   0   0   0\n",
      "       300\n",
      "ntree    0\n",
      "node     0\n",
      "ts_acc   0\n",
      "               30         60         90         120         150        180 210\n",
      "ntree  30.0000000 60.0000000 90.0000000 120.0000000 150.0000000 180.000000   0\n",
      "node    2.0000000  1.0000000  3.0000000   1.0000000   1.0000000   1.000000   0\n",
      "ts_acc  0.7322176  0.7398884  0.7391911   0.7426778   0.7433752   0.748954   0\n",
      "       240 270 300\n",
      "ntree    0   0   0\n",
      "node     0   0   0\n",
      "ts_acc   0   0   0\n",
      "               30         60         90         120         150        180\n",
      "ntree  30.0000000 60.0000000 90.0000000 120.0000000 150.0000000 180.000000\n",
      "node    2.0000000  1.0000000  3.0000000   1.0000000   1.0000000   1.000000\n",
      "ts_acc  0.7322176  0.7398884  0.7391911   0.7426778   0.7433752   0.748954\n",
      "               210 240 270 300\n",
      "ntree  210.0000000   0   0   0\n",
      "node     1.0000000   0   0   0\n",
      "ts_acc   0.7496513   0   0   0\n",
      "               30         60         90         120         150        180\n",
      "ntree  30.0000000 60.0000000 90.0000000 120.0000000 150.0000000 180.000000\n",
      "node    2.0000000  1.0000000  3.0000000   1.0000000   1.0000000   1.000000\n",
      "ts_acc  0.7322176  0.7398884  0.7391911   0.7426778   0.7433752   0.748954\n",
      "               210         240 270 300\n",
      "ntree  210.0000000 240.0000000   0   0\n",
      "node     1.0000000   1.0000000   0   0\n",
      "ts_acc   0.7496513   0.7475593   0   0\n",
      "               30         60         90         120         150        180\n",
      "ntree  30.0000000 60.0000000 90.0000000 120.0000000 150.0000000 180.000000\n",
      "node    2.0000000  1.0000000  3.0000000   1.0000000   1.0000000   1.000000\n",
      "ts_acc  0.7322176  0.7398884  0.7391911   0.7426778   0.7433752   0.748954\n",
      "               210         240         270 300\n",
      "ntree  210.0000000 240.0000000 270.0000000   0\n",
      "node     1.0000000   1.0000000   1.0000000   0\n",
      "ts_acc   0.7496513   0.7475593   0.7475593   0\n",
      "               30         60         90         120         150        180\n",
      "ntree  30.0000000 60.0000000 90.0000000 120.0000000 150.0000000 180.000000\n",
      "node    2.0000000  1.0000000  3.0000000   1.0000000   1.0000000   1.000000\n",
      "ts_acc  0.7322176  0.7398884  0.7391911   0.7426778   0.7433752   0.748954\n",
      "               210         240         270         300\n",
      "ntree  210.0000000 240.0000000 270.0000000 300.0000000\n",
      "node     1.0000000   1.0000000   1.0000000   1.0000000\n",
      "ts_acc   0.7496513   0.7475593   0.7475593   0.7447699\n"
     ]
    },
    {
     "data": {
      "text/html": [
       "<table>\n",
       "<caption>A matrix: 4 × 6 of type dbl</caption>\n",
       "<thead>\n",
       "\t<tr><th></th><th scope=col>default</th><th scope=col>mtry:3</th><th scope=col>mtry:5</th><th scope=col>mtry:7</th><th scope=col>mtry9</th><th scope=col>mtry:11</th></tr>\n",
       "</thead>\n",
       "<tbody>\n",
       "\t<tr><th scope=row>mtry</th><td>  3.000000</td><td>  3.0000000</td><td> 5.0000000</td><td>  7.0000000</td><td>  9.0000000</td><td> 11.0000000</td></tr>\n",
       "\t<tr><th scope=row>ntree</th><td>500.000000</td><td>300.0000000</td><td>90.0000000</td><td>120.0000000</td><td>300.0000000</td><td>210.0000000</td></tr>\n",
       "\t<tr><th scope=row>node</th><td>  1.000000</td><td>  1.0000000</td><td> 1.0000000</td><td>  1.0000000</td><td>  3.0000000</td><td>  1.0000000</td></tr>\n",
       "\t<tr><th scope=row>test_acc</th><td>  0.735007</td><td>  0.7482566</td><td> 0.7538354</td><td>  0.7580195</td><td>  0.7524407</td><td>  0.7496513</td></tr>\n",
       "</tbody>\n",
       "</table>\n"
      ],
      "text/latex": [
       "A matrix: 4 × 6 of type dbl\n",
       "\\begin{tabular}{r|llllll}\n",
       "  & default & mtry:3 & mtry:5 & mtry:7 & mtry9 & mtry:11\\\\\n",
       "\\hline\n",
       "\tmtry &   3.000000 &   3.0000000 &  5.0000000 &   7.0000000 &   9.0000000 &  11.0000000\\\\\n",
       "\tntree & 500.000000 & 300.0000000 & 90.0000000 & 120.0000000 & 300.0000000 & 210.0000000\\\\\n",
       "\tnode &   1.000000 &   1.0000000 &  1.0000000 &   1.0000000 &   3.0000000 &   1.0000000\\\\\n",
       "\ttest\\_acc &   0.735007 &   0.7482566 &  0.7538354 &   0.7580195 &   0.7524407 &   0.7496513\\\\\n",
       "\\end{tabular}\n"
      ],
      "text/markdown": [
       "\n",
       "A matrix: 4 × 6 of type dbl\n",
       "\n",
       "| <!--/--> | default | mtry:3 | mtry:5 | mtry:7 | mtry9 | mtry:11 |\n",
       "|---|---|---|---|---|---|---|\n",
       "| mtry |   3.000000 |   3.0000000 |  5.0000000 |   7.0000000 |   9.0000000 |  11.0000000 |\n",
       "| ntree | 500.000000 | 300.0000000 | 90.0000000 | 120.0000000 | 300.0000000 | 210.0000000 |\n",
       "| node |   1.000000 |   1.0000000 |  1.0000000 |   1.0000000 |   3.0000000 |   1.0000000 |\n",
       "| test_acc |   0.735007 |   0.7482566 |  0.7538354 |   0.7580195 |   0.7524407 |   0.7496513 |\n",
       "\n"
      ],
      "text/plain": [
       "         default    mtry:3      mtry:5     mtry:7      mtry9       mtry:11    \n",
       "mtry       3.000000   3.0000000  5.0000000   7.0000000   9.0000000  11.0000000\n",
       "ntree    500.000000 300.0000000 90.0000000 120.0000000 300.0000000 210.0000000\n",
       "node       1.000000   1.0000000  1.0000000   1.0000000   3.0000000   1.0000000\n",
       "test_acc   0.735007   0.7482566  0.7538354   0.7580195   0.7524407   0.7496513"
      ]
     },
     "metadata": {},
     "output_type": "display_data"
    }
   ],
   "source": [
    "mtry=seq(3,11,2) # \n",
    "ntree = seq(30,300,by=30) # 10개\n",
    "count_mtry=2\n",
    "count_ntree = 1\n",
    "for(i in mtry){\n",
    "  #print(\"mtry\")\n",
    "  #print(i)\n",
    "  ntree.mat = matrix(0,3,10);\n",
    "  colnames(ntree.mat) = seq(30,300,by=30)\n",
    "  rownames(ntree.mat) = c(\"ntree\",\"node\",\"ts_acc\")\n",
    "  for(j in ntree)\n",
    "  {\n",
    "    node.mat=matrix(0,3,3)\n",
    "    colnames(node.mat) = c(\"node1\",\"node2\",\"node3\")\n",
    "    rownames(node.mat) = c(\"ntree\",\"node\",\"ts_acc\")\n",
    "    #print(\"ntree\")\n",
    "    #print(j)\n",
    "    for(k in c(1:3))\n",
    "    {\n",
    "      set.seed(1);\n",
    "      rf.fit=randomForest(Y~.,data=cls_1_train,ntree=j,mtry=i,nodesize=k,type='C') \n",
    "      set.seed(1)\n",
    "      tab = table(cls_1_test[,4],predict(rf.fit,newdata=cls_1_test[,-4]))\n",
    "      ts.ccp = sum(diag(tab))/sum(tab)\n",
    "      node.mat[,k] = c(j,k,ts.ccp)\n",
    "    }\n",
    "    opt.node = which.max(node.mat[3,])\n",
    "    ntree.mat[,count_ntree] = node.mat[,opt.node]\n",
    "    count_ntree = count_ntree + 1\n",
    "    print(ntree.mat)\n",
    "  }\n",
    "  count_ntree = 1\n",
    "  opt.ntree = which.max(ntree.mat[3,])\n",
    "  ntree.mat[,opt.ntree]\n",
    "  tune_mat[,count_mtry] = c(i,ntree.mat[,opt.ntree])\n",
    "  count_mtry = count_mtry + 1\n",
    "}\n",
    "\n",
    "tune_mat"
   ]
  },
  {
   "cell_type": "code",
   "execution_count": 7,
   "metadata": {},
   "outputs": [
    {
     "data": {
      "text/html": [
       "<dl class=dl-horizontal>\n",
       "\t<dt>mtry</dt>\n",
       "\t\t<dd>7</dd>\n",
       "\t<dt>ntree</dt>\n",
       "\t\t<dd>120</dd>\n",
       "\t<dt>node</dt>\n",
       "\t\t<dd>1</dd>\n",
       "\t<dt>test_acc</dt>\n",
       "\t\t<dd>0.758019525801953</dd>\n",
       "</dl>\n"
      ],
      "text/latex": [
       "\\begin{description*}\n",
       "\\item[mtry] 7\n",
       "\\item[ntree] 120\n",
       "\\item[node] 1\n",
       "\\item[test\\textbackslash{}\\_acc] 0.758019525801953\n",
       "\\end{description*}\n"
      ],
      "text/markdown": [
       "mtry\n",
       ":   7ntree\n",
       ":   120node\n",
       ":   1test_acc\n",
       ":   0.758019525801953\n",
       "\n"
      ],
      "text/plain": [
       "       mtry       ntree        node    test_acc \n",
       "  7.0000000 120.0000000   1.0000000   0.7580195 "
      ]
     },
     "metadata": {},
     "output_type": "display_data"
    }
   ],
   "source": [
    "tune_mat[,which.max(tune_mat[4,])]"
   ]
  },
  {
   "cell_type": "markdown",
   "metadata": {},
   "source": [
    "## Result \n",
    "\n",
    "- Default : mtry: 3 , ntree: 5, nodesize: 1\n",
    "\n",
    "- best_tune : mtry: 7, ntree: 120, nodesize: 1"
   ]
  },
  {
   "cell_type": "code",
   "execution_count": 8,
   "metadata": {},
   "outputs": [
    {
     "data": {
      "text/html": [
       "<table>\n",
       "<caption>A matrix: 1 × 2 of type dbl</caption>\n",
       "<thead>\n",
       "\t<tr><th></th><th scope=col>default</th><th scope=col>tune</th></tr>\n",
       "</thead>\n",
       "<tbody>\n",
       "\t<tr><th scope=row>test_acc</th><td>0.7433752</td><td>0</td></tr>\n",
       "</tbody>\n",
       "</table>\n"
      ],
      "text/latex": [
       "A matrix: 1 × 2 of type dbl\n",
       "\\begin{tabular}{r|ll}\n",
       "  & default & tune\\\\\n",
       "\\hline\n",
       "\ttest\\_acc & 0.7433752 & 0\\\\\n",
       "\\end{tabular}\n"
      ],
      "text/markdown": [
       "\n",
       "A matrix: 1 × 2 of type dbl\n",
       "\n",
       "| <!--/--> | default | tune |\n",
       "|---|---|---|\n",
       "| test_acc | 0.7433752 | 0 |\n",
       "\n"
      ],
      "text/plain": [
       "         default   tune\n",
       "test_acc 0.7433752 0   "
      ]
     },
     "metadata": {},
     "output_type": "display_data"
    }
   ],
   "source": [
    "result.mat = matrix(0,1,2)\n",
    "colnames(result.mat)=c(\"default\",\"tune\")\n",
    "rownames(result.mat)=c(\"test_acc\")\n",
    "set.seed(1)\n",
    "default_fit=randomForest(Y~.,data=cls_1_train,type='C')\n",
    "set.seed(1)\n",
    "tab = table(cls_1_test[,4],predict(default_fit,newdata=cls_1_test[,-4]))\n",
    "ts.ccp = sum(diag(tab))/sum(tab)\n",
    "result.mat[,1] = c(ts.ccp);result.mat"
   ]
  },
  {
   "cell_type": "code",
   "execution_count": 10,
   "metadata": {},
   "outputs": [
    {
     "data": {
      "text/html": [
       "<table>\n",
       "<caption>A matrix: 1 × 2 of type dbl</caption>\n",
       "<thead>\n",
       "\t<tr><th></th><th scope=col>default</th><th scope=col>tune</th></tr>\n",
       "</thead>\n",
       "<tbody>\n",
       "\t<tr><th scope=row>test_acc</th><td>0.7433752</td><td>0.7580195</td></tr>\n",
       "</tbody>\n",
       "</table>\n"
      ],
      "text/latex": [
       "A matrix: 1 × 2 of type dbl\n",
       "\\begin{tabular}{r|ll}\n",
       "  & default & tune\\\\\n",
       "\\hline\n",
       "\ttest\\_acc & 0.7433752 & 0.7580195\\\\\n",
       "\\end{tabular}\n"
      ],
      "text/markdown": [
       "\n",
       "A matrix: 1 × 2 of type dbl\n",
       "\n",
       "| <!--/--> | default | tune |\n",
       "|---|---|---|\n",
       "| test_acc | 0.7433752 | 0.7580195 |\n",
       "\n"
      ],
      "text/plain": [
       "         default   tune     \n",
       "test_acc 0.7433752 0.7580195"
      ]
     },
     "metadata": {},
     "output_type": "display_data"
    }
   ],
   "source": [
    "set.seed(1)\n",
    "tune_model1.fit=randomForest(Y~.,data=cls_1_train,ntree=120,mtry=7,nodesize=1,type='C') #default = 1\n",
    "set.seed(1)\n",
    "tab = table(cls_1_test[,4],predict(tune_model1.fit,newdata=cls_1_test[,-4]))\n",
    "ts.ccp = sum(diag(tab))/sum(tab)\n",
    "result.mat[,2] = c(ts.ccp);result.mat"
   ]
  },
  {
   "cell_type": "markdown",
   "metadata": {},
   "source": [
    "## Result\n",
    "\n",
    "- Randomfores Importance"
   ]
  },
  {
   "cell_type": "code",
   "execution_count": 11,
   "metadata": {},
   "outputs": [
    {
     "data": {
      "text/html": [
       "<table>\n",
       "<caption>A data.frame: 12 × 2</caption>\n",
       "<thead>\n",
       "\t<tr><th></th><th scope=col>Default</th><th scope=col>Tune_1</th></tr>\n",
       "\t<tr><th></th><th scope=col>&lt;dbl&gt;</th><th scope=col>&lt;dbl&gt;</th></tr>\n",
       "</thead>\n",
       "<tbody>\n",
       "\t<tr><th scope=row>ver</th><td> 65.44724</td><td>  51.05558</td></tr>\n",
       "\t<tr><th scope=row>ipadSc_urls.num</th><td>105.56901</td><td>  93.03890</td></tr>\n",
       "\t<tr><th scope=row>cont_rating</th><td>109.44690</td><td>  98.71968</td></tr>\n",
       "\t<tr><th scope=row>sup_devices.num</th><td>131.52843</td><td> 124.54008</td></tr>\n",
       "\t<tr><th scope=row>price</th><td>143.50830</td><td> 130.80223</td></tr>\n",
       "\t<tr><th scope=row>prime_genre</th><td>152.07793</td><td> 150.35731</td></tr>\n",
       "\t<tr><th scope=row>lang.num</th><td>180.48850</td><td> 169.06017</td></tr>\n",
       "\t<tr><th scope=row>rating_count_ver</th><td>370.77711</td><td> 243.89448</td></tr>\n",
       "\t<tr><th scope=row>sum_rate_ver</th><td>451.30312</td><td> 334.84487</td></tr>\n",
       "\t<tr><th scope=row>size_mega</th><td>369.29145</td><td> 399.74598</td></tr>\n",
       "\t<tr><th scope=row>user_rating_ver</th><td>774.62448</td><td> 832.36433</td></tr>\n",
       "\t<tr><th scope=row>rating_count_tot</th><td>952.63122</td><td>1257.56594</td></tr>\n",
       "</tbody>\n",
       "</table>\n"
      ],
      "text/latex": [
       "A data.frame: 12 × 2\n",
       "\\begin{tabular}{r|ll}\n",
       "  & Default & Tune\\_1\\\\\n",
       "  & <dbl> & <dbl>\\\\\n",
       "\\hline\n",
       "\tver &  65.44724 &   51.05558\\\\\n",
       "\tipadSc\\_urls.num & 105.56901 &   93.03890\\\\\n",
       "\tcont\\_rating & 109.44690 &   98.71968\\\\\n",
       "\tsup\\_devices.num & 131.52843 &  124.54008\\\\\n",
       "\tprice & 143.50830 &  130.80223\\\\\n",
       "\tprime\\_genre & 152.07793 &  150.35731\\\\\n",
       "\tlang.num & 180.48850 &  169.06017\\\\\n",
       "\trating\\_count\\_ver & 370.77711 &  243.89448\\\\\n",
       "\tsum\\_rate\\_ver & 451.30312 &  334.84487\\\\\n",
       "\tsize\\_mega & 369.29145 &  399.74598\\\\\n",
       "\tuser\\_rating\\_ver & 774.62448 &  832.36433\\\\\n",
       "\trating\\_count\\_tot & 952.63122 & 1257.56594\\\\\n",
       "\\end{tabular}\n"
      ],
      "text/markdown": [
       "\n",
       "A data.frame: 12 × 2\n",
       "\n",
       "| <!--/--> | Default &lt;dbl&gt; | Tune_1 &lt;dbl&gt; |\n",
       "|---|---|---|\n",
       "| ver |  65.44724 |   51.05558 |\n",
       "| ipadSc_urls.num | 105.56901 |   93.03890 |\n",
       "| cont_rating | 109.44690 |   98.71968 |\n",
       "| sup_devices.num | 131.52843 |  124.54008 |\n",
       "| price | 143.50830 |  130.80223 |\n",
       "| prime_genre | 152.07793 |  150.35731 |\n",
       "| lang.num | 180.48850 |  169.06017 |\n",
       "| rating_count_ver | 370.77711 |  243.89448 |\n",
       "| sum_rate_ver | 451.30312 |  334.84487 |\n",
       "| size_mega | 369.29145 |  399.74598 |\n",
       "| user_rating_ver | 774.62448 |  832.36433 |\n",
       "| rating_count_tot | 952.63122 | 1257.56594 |\n",
       "\n"
      ],
      "text/plain": [
       "                 Default   Tune_1    \n",
       "ver               65.44724   51.05558\n",
       "ipadSc_urls.num  105.56901   93.03890\n",
       "cont_rating      109.44690   98.71968\n",
       "sup_devices.num  131.52843  124.54008\n",
       "price            143.50830  130.80223\n",
       "prime_genre      152.07793  150.35731\n",
       "lang.num         180.48850  169.06017\n",
       "rating_count_ver 370.77711  243.89448\n",
       "sum_rate_ver     451.30312  334.84487\n",
       "size_mega        369.29145  399.74598\n",
       "user_rating_ver  774.62448  832.36433\n",
       "rating_count_tot 952.63122 1257.56594"
      ]
     },
     "metadata": {},
     "output_type": "display_data"
    }
   ],
   "source": [
    "important_vars=cbind(default_fit$importance,tune_model1.fit$importance)\n",
    "colnames(important_vars)=c('Default',\"Tune_1\")\n",
    "important_vars=as.data.frame(important_vars)\n",
    "order=important_vars[order(important_vars$Tune_1),]\n",
    "order"
   ]
  },
  {
   "cell_type": "code",
   "execution_count": null,
   "metadata": {},
   "outputs": [],
   "source": []
  }
 ],
 "metadata": {
  "kernelspec": {
   "display_name": "R",
   "language": "R",
   "name": "ir"
  },
  "language_info": {
   "codemirror_mode": "r",
   "file_extension": ".r",
   "mimetype": "text/x-r-source",
   "name": "R",
   "pygments_lexer": "r",
   "version": "3.5.3"
  }
 },
 "nbformat": 4,
 "nbformat_minor": 2
}
