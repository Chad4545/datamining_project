{
 "cells": [
  {
   "cell_type": "code",
   "execution_count": 1,
   "metadata": {},
   "outputs": [
    {
     "data": {
      "text/html": [
       "'/Users/sungjinpark/OneDrive - konkuk.ac.kr/datamining/appstore_2/3randomforest'"
      ],
      "text/latex": [
       "'/Users/sungjinpark/OneDrive - konkuk.ac.kr/datamining/appstore\\_2/3randomforest'"
      ],
      "text/markdown": [
       "'/Users/sungjinpark/OneDrive - konkuk.ac.kr/datamining/appstore_2/3randomforest'"
      ],
      "text/plain": [
       "[1] \"/Users/sungjinpark/OneDrive - konkuk.ac.kr/datamining/appstore_2/3randomforest\""
      ]
     },
     "metadata": {},
     "output_type": "display_data"
    }
   ],
   "source": [
    "rm(list=ls())\n",
    "dir = '/Users/sungjinpark/OneDrive - konkuk.ac.kr/datamining/appstore_2/3randomforest'\n",
    "setwd(dir)\n",
    "getwd()\n",
    "load('cls_1_train.rda')\n",
    "load('cls_1_test.rda')"
   ]
  },
  {
   "cell_type": "markdown",
   "metadata": {},
   "source": [
    "# 5 classes\n",
    "\n",
    "## Game vs Non_Games"
   ]
  },
  {
   "cell_type": "code",
   "execution_count": 2,
   "metadata": {},
   "outputs": [
    {
     "data": {
      "text/html": [
       "<ol class=list-inline>\n",
       "\t<li>'1'</li>\n",
       "\t<li>'2'</li>\n",
       "\t<li>'3'</li>\n",
       "\t<li>'4'</li>\n",
       "\t<li>'5'</li>\n",
       "</ol>\n"
      ],
      "text/latex": [
       "\\begin{enumerate*}\n",
       "\\item '1'\n",
       "\\item '2'\n",
       "\\item '3'\n",
       "\\item '4'\n",
       "\\item '5'\n",
       "\\end{enumerate*}\n"
      ],
      "text/markdown": [
       "1. '1'\n",
       "2. '2'\n",
       "3. '3'\n",
       "4. '4'\n",
       "5. '5'\n",
       "\n",
       "\n"
      ],
      "text/plain": [
       "[1] \"1\" \"2\" \"3\" \"4\" \"5\""
      ]
     },
     "metadata": {},
     "output_type": "display_data"
    },
    {
     "data": {
      "text/html": [
       "<ol class=list-inline>\n",
       "\t<li>'Games'</li>\n",
       "\t<li>'Non_Games'</li>\n",
       "</ol>\n"
      ],
      "text/latex": [
       "\\begin{enumerate*}\n",
       "\\item 'Games'\n",
       "\\item 'Non\\_Games'\n",
       "\\end{enumerate*}\n"
      ],
      "text/markdown": [
       "1. 'Games'\n",
       "2. 'Non_Games'\n",
       "\n",
       "\n"
      ],
      "text/plain": [
       "[1] \"Games\"     \"Non_Games\""
      ]
     },
     "metadata": {},
     "output_type": "display_data"
    }
   ],
   "source": [
    "#str(cls_1_train)\n",
    "colnames(cls_1_train)[4] <- \"Y\"\n",
    "colnames(cls_1_test)[4]<- \"Y\"\n",
    "##################################################################\n",
    "# relevel categorical variables\n",
    "##################################################################\n",
    "cls_1_train <- droplevels(cls_1_train)    \n",
    "cls_1_test <- droplevels(cls_1_test)\n",
    "levels(cls_1_train$Y)\n",
    "levels(cls_1_train$prime_genre)"
   ]
  },
  {
   "cell_type": "markdown",
   "metadata": {},
   "source": [
    "# Randomforest Tuning"
   ]
  },
  {
   "cell_type": "code",
   "execution_count": 4,
   "metadata": {},
   "outputs": [
    {
     "data": {
      "text/html": [
       "<table>\n",
       "<caption>A matrix: 4 × 6 of type dbl</caption>\n",
       "<thead>\n",
       "\t<tr><th></th><th scope=col>default</th><th scope=col>mtry:3</th><th scope=col>mtry:5</th><th scope=col>mtry:7</th><th scope=col>mtry9</th><th scope=col>mtry:11</th></tr>\n",
       "</thead>\n",
       "<tbody>\n",
       "\t<tr><th scope=row>mtry</th><td>0</td><td>0</td><td>0</td><td>0</td><td>0</td><td>0</td></tr>\n",
       "\t<tr><th scope=row>ntree</th><td>0</td><td>0</td><td>0</td><td>0</td><td>0</td><td>0</td></tr>\n",
       "\t<tr><th scope=row>node</th><td>0</td><td>0</td><td>0</td><td>0</td><td>0</td><td>0</td></tr>\n",
       "\t<tr><th scope=row>test_acc</th><td>0</td><td>0</td><td>0</td><td>0</td><td>0</td><td>0</td></tr>\n",
       "</tbody>\n",
       "</table>\n"
      ],
      "text/latex": [
       "A matrix: 4 × 6 of type dbl\n",
       "\\begin{tabular}{r|llllll}\n",
       "  & default & mtry:3 & mtry:5 & mtry:7 & mtry9 & mtry:11\\\\\n",
       "\\hline\n",
       "\tmtry & 0 & 0 & 0 & 0 & 0 & 0\\\\\n",
       "\tntree & 0 & 0 & 0 & 0 & 0 & 0\\\\\n",
       "\tnode & 0 & 0 & 0 & 0 & 0 & 0\\\\\n",
       "\ttest\\_acc & 0 & 0 & 0 & 0 & 0 & 0\\\\\n",
       "\\end{tabular}\n"
      ],
      "text/markdown": [
       "\n",
       "A matrix: 4 × 6 of type dbl\n",
       "\n",
       "| <!--/--> | default | mtry:3 | mtry:5 | mtry:7 | mtry9 | mtry:11 |\n",
       "|---|---|---|---|---|---|---|\n",
       "| mtry | 0 | 0 | 0 | 0 | 0 | 0 |\n",
       "| ntree | 0 | 0 | 0 | 0 | 0 | 0 |\n",
       "| node | 0 | 0 | 0 | 0 | 0 | 0 |\n",
       "| test_acc | 0 | 0 | 0 | 0 | 0 | 0 |\n",
       "\n"
      ],
      "text/plain": [
       "         default mtry:3 mtry:5 mtry:7 mtry9 mtry:11\n",
       "mtry     0       0      0      0      0     0      \n",
       "ntree    0       0      0      0      0     0      \n",
       "node     0       0      0      0      0     0      \n",
       "test_acc 0       0      0      0      0     0      "
      ]
     },
     "metadata": {},
     "output_type": "display_data"
    }
   ],
   "source": [
    "################################################\n",
    "## Randomforest\n",
    "################################################\n",
    "library(randomForest)\n",
    "tune_mat = matrix(0,4,6)\n",
    "colnames(tune_mat) = c(\"default\",\"mtry:3\",\"mtry:5\",\"mtry:7\",\"mtry9\",\"mtry:11\")\n",
    "rownames(tune_mat) = c('mtry','ntree','node','test_acc');tune_mat"
   ]
  },
  {
   "cell_type": "markdown",
   "metadata": {},
   "source": [
    "### Default model"
   ]
  },
  {
   "cell_type": "code",
   "execution_count": 5,
   "metadata": {},
   "outputs": [
    {
     "data": {
      "text/html": [
       "<table>\n",
       "<caption>A matrix: 4 × 6 of type dbl</caption>\n",
       "<thead>\n",
       "\t<tr><th></th><th scope=col>default</th><th scope=col>mtry:3</th><th scope=col>mtry:5</th><th scope=col>mtry:7</th><th scope=col>mtry9</th><th scope=col>mtry:11</th></tr>\n",
       "</thead>\n",
       "<tbody>\n",
       "\t<tr><th scope=row>mtry</th><td>  3.000000</td><td>0</td><td>0</td><td>0</td><td>0</td><td>0</td></tr>\n",
       "\t<tr><th scope=row>ntree</th><td>500.000000</td><td>0</td><td>0</td><td>0</td><td>0</td><td>0</td></tr>\n",
       "\t<tr><th scope=row>node</th><td>  1.000000</td><td>0</td><td>0</td><td>0</td><td>0</td><td>0</td></tr>\n",
       "\t<tr><th scope=row>test_acc</th><td>  0.735007</td><td>0</td><td>0</td><td>0</td><td>0</td><td>0</td></tr>\n",
       "</tbody>\n",
       "</table>\n"
      ],
      "text/latex": [
       "A matrix: 4 × 6 of type dbl\n",
       "\\begin{tabular}{r|llllll}\n",
       "  & default & mtry:3 & mtry:5 & mtry:7 & mtry9 & mtry:11\\\\\n",
       "\\hline\n",
       "\tmtry &   3.000000 & 0 & 0 & 0 & 0 & 0\\\\\n",
       "\tntree & 500.000000 & 0 & 0 & 0 & 0 & 0\\\\\n",
       "\tnode &   1.000000 & 0 & 0 & 0 & 0 & 0\\\\\n",
       "\ttest\\_acc &   0.735007 & 0 & 0 & 0 & 0 & 0\\\\\n",
       "\\end{tabular}\n"
      ],
      "text/markdown": [
       "\n",
       "A matrix: 4 × 6 of type dbl\n",
       "\n",
       "| <!--/--> | default | mtry:3 | mtry:5 | mtry:7 | mtry9 | mtry:11 |\n",
       "|---|---|---|---|---|---|---|\n",
       "| mtry |   3.000000 | 0 | 0 | 0 | 0 | 0 |\n",
       "| ntree | 500.000000 | 0 | 0 | 0 | 0 | 0 |\n",
       "| node |   1.000000 | 0 | 0 | 0 | 0 | 0 |\n",
       "| test_acc |   0.735007 | 0 | 0 | 0 | 0 | 0 |\n",
       "\n"
      ],
      "text/plain": [
       "         default    mtry:3 mtry:5 mtry:7 mtry9 mtry:11\n",
       "mtry       3.000000 0      0      0      0     0      \n",
       "ntree    500.000000 0      0      0      0     0      \n",
       "node       1.000000 0      0      0      0     0      \n",
       "test_acc   0.735007 0      0      0      0     0      "
      ]
     },
     "metadata": {},
     "output_type": "display_data"
    }
   ],
   "source": [
    "set.seed(1)\n",
    "default.fit = randomForest(Y~.,data=cls_1_train)\n",
    "set.seed(1)\n",
    "tab = table(cls_1_test[,4],predict(default.fit,newdata=cls_1_test[,-4]))\n",
    "ts.ccp = sum(diag(tab))/sum(tab);\n",
    "#default.fit$ntree\n",
    "#default.fit$mtry # 3\n",
    "#default.fit$nodesize # 1\n",
    "tune_mat[,1]=c(3,500,1,0.735007);tune_mat"
   ]
  },
  {
   "cell_type": "markdown",
   "metadata": {},
   "source": [
    "## Randomforest -Tuning"
   ]
  },
  {
   "cell_type": "code",
   "execution_count": 6,
   "metadata": {},
   "outputs": [
    {
     "name": "stdout",
     "output_type": "stream",
     "text": [
      "              30 60 90 120 150 180 210 240 270 300\n",
      "ntree  30.000000  0  0   0   0   0   0   0   0   0\n",
      "node    1.000000  0  0   0   0   0   0   0   0   0\n",
      "ts_acc  0.737099  0  0   0   0   0   0   0   0   0\n",
      "              30         60 90 120 150 180 210 240 270 300\n",
      "ntree  30.000000 60.0000000  0   0   0   0   0   0   0   0\n",
      "node    1.000000  1.0000000  0   0   0   0   0   0   0   0\n",
      "ts_acc  0.737099  0.7315202  0   0   0   0   0   0   0   0\n",
      "              30         60         90 120 150 180 210 240 270 300\n",
      "ntree  30.000000 60.0000000 90.0000000   0   0   0   0   0   0   0\n",
      "node    1.000000  1.0000000  2.0000000   0   0   0   0   0   0   0\n",
      "ts_acc  0.737099  0.7315202  0.7343096   0   0   0   0   0   0   0\n",
      "              30         60         90         120 150 180 210 240 270 300\n",
      "ntree  30.000000 60.0000000 90.0000000 120.0000000   0   0   0   0   0   0\n",
      "node    1.000000  1.0000000  2.0000000   2.0000000   0   0   0   0   0   0\n",
      "ts_acc  0.737099  0.7315202  0.7343096   0.7412831   0   0   0   0   0   0\n",
      "              30         60         90         120         150 180 210 240 270\n",
      "ntree  30.000000 60.0000000 90.0000000 120.0000000 150.0000000   0   0   0   0\n",
      "node    1.000000  1.0000000  2.0000000   2.0000000   3.0000000   0   0   0   0\n",
      "ts_acc  0.737099  0.7315202  0.7343096   0.7412831   0.7343096   0   0   0   0\n",
      "       300\n",
      "ntree    0\n",
      "node     0\n",
      "ts_acc   0\n",
      "              30         60         90         120         150        180 210\n",
      "ntree  30.000000 60.0000000 90.0000000 120.0000000 150.0000000 180.000000   0\n",
      "node    1.000000  1.0000000  2.0000000   2.0000000   3.0000000   2.000000   0\n",
      "ts_acc  0.737099  0.7315202  0.7343096   0.7412831   0.7343096   0.735007   0\n",
      "       240 270 300\n",
      "ntree    0   0   0\n",
      "node     0   0   0\n",
      "ts_acc   0   0   0\n",
      "              30         60         90         120         150        180\n",
      "ntree  30.000000 60.0000000 90.0000000 120.0000000 150.0000000 180.000000\n",
      "node    1.000000  1.0000000  2.0000000   2.0000000   3.0000000   2.000000\n",
      "ts_acc  0.737099  0.7315202  0.7343096   0.7412831   0.7343096   0.735007\n",
      "               210 240 270 300\n",
      "ntree  210.0000000   0   0   0\n",
      "node     3.0000000   0   0   0\n",
      "ts_acc   0.7391911   0   0   0\n",
      "              30         60         90         120         150        180\n",
      "ntree  30.000000 60.0000000 90.0000000 120.0000000 150.0000000 180.000000\n",
      "node    1.000000  1.0000000  2.0000000   2.0000000   3.0000000   2.000000\n",
      "ts_acc  0.737099  0.7315202  0.7343096   0.7412831   0.7343096   0.735007\n",
      "               210         240 270 300\n",
      "ntree  210.0000000 240.0000000   0   0\n",
      "node     3.0000000   3.0000000   0   0\n",
      "ts_acc   0.7391911   0.7398884   0   0\n",
      "              30         60         90         120         150        180\n",
      "ntree  30.000000 60.0000000 90.0000000 120.0000000 150.0000000 180.000000\n",
      "node    1.000000  1.0000000  2.0000000   2.0000000   3.0000000   2.000000\n",
      "ts_acc  0.737099  0.7315202  0.7343096   0.7412831   0.7343096   0.735007\n",
      "               210         240         270 300\n",
      "ntree  210.0000000 240.0000000 270.0000000   0\n",
      "node     3.0000000   3.0000000   3.0000000   0\n",
      "ts_acc   0.7391911   0.7398884   0.7377964   0\n",
      "              30         60         90         120         150        180\n",
      "ntree  30.000000 60.0000000 90.0000000 120.0000000 150.0000000 180.000000\n",
      "node    1.000000  1.0000000  2.0000000   2.0000000   3.0000000   2.000000\n",
      "ts_acc  0.737099  0.7315202  0.7343096   0.7412831   0.7343096   0.735007\n",
      "               210         240         270         300\n",
      "ntree  210.0000000 240.0000000 270.0000000 300.0000000\n",
      "node     3.0000000   3.0000000   3.0000000   3.0000000\n",
      "ts_acc   0.7391911   0.7398884   0.7377964   0.7391911\n",
      "               30 60 90 120 150 180 210 240 270 300\n",
      "ntree  30.0000000  0  0   0   0   0   0   0   0   0\n",
      "node    2.0000000  0  0   0   0   0   0   0   0   0\n",
      "ts_acc  0.7391911  0  0   0   0   0   0   0   0   0\n",
      "               30         60 90 120 150 180 210 240 270 300\n",
      "ntree  30.0000000 60.0000000  0   0   0   0   0   0   0   0\n",
      "node    2.0000000  1.0000000  0   0   0   0   0   0   0   0\n",
      "ts_acc  0.7391911  0.7545328  0   0   0   0   0   0   0   0\n",
      "               30         60         90 120 150 180 210 240 270 300\n",
      "ntree  30.0000000 60.0000000 90.0000000   0   0   0   0   0   0   0\n",
      "node    2.0000000  1.0000000  2.0000000   0   0   0   0   0   0   0\n",
      "ts_acc  0.7391911  0.7545328  0.7482566   0   0   0   0   0   0   0\n",
      "               30         60         90         120 150 180 210 240 270 300\n",
      "ntree  30.0000000 60.0000000 90.0000000 120.0000000   0   0   0   0   0   0\n",
      "node    2.0000000  1.0000000  2.0000000   1.0000000   0   0   0   0   0   0\n",
      "ts_acc  0.7391911  0.7545328  0.7482566   0.7461646   0   0   0   0   0   0\n",
      "               30         60         90         120         150 180 210 240 270\n",
      "ntree  30.0000000 60.0000000 90.0000000 120.0000000 150.0000000   0   0   0   0\n",
      "node    2.0000000  1.0000000  2.0000000   1.0000000   1.0000000   0   0   0   0\n",
      "ts_acc  0.7391911  0.7545328  0.7482566   0.7461646   0.7433752   0   0   0   0\n",
      "       300\n",
      "ntree    0\n",
      "node     0\n",
      "ts_acc   0\n",
      "               30         60         90         120         150         180 210\n",
      "ntree  30.0000000 60.0000000 90.0000000 120.0000000 150.0000000 180.0000000   0\n",
      "node    2.0000000  1.0000000  2.0000000   1.0000000   1.0000000   2.0000000   0\n",
      "ts_acc  0.7391911  0.7545328  0.7482566   0.7461646   0.7433752   0.7419805   0\n",
      "       240 270 300\n",
      "ntree    0   0   0\n",
      "node     0   0   0\n",
      "ts_acc   0   0   0\n",
      "               30         60         90         120         150         180\n",
      "ntree  30.0000000 60.0000000 90.0000000 120.0000000 150.0000000 180.0000000\n",
      "node    2.0000000  1.0000000  2.0000000   1.0000000   1.0000000   2.0000000\n",
      "ts_acc  0.7391911  0.7545328  0.7482566   0.7461646   0.7433752   0.7419805\n",
      "               210 240 270 300\n",
      "ntree  210.0000000   0   0   0\n",
      "node     2.0000000   0   0   0\n",
      "ts_acc   0.7461646   0   0   0\n",
      "               30         60         90         120         150         180\n",
      "ntree  30.0000000 60.0000000 90.0000000 120.0000000 150.0000000 180.0000000\n",
      "node    2.0000000  1.0000000  2.0000000   1.0000000   1.0000000   2.0000000\n",
      "ts_acc  0.7391911  0.7545328  0.7482566   0.7461646   0.7433752   0.7419805\n",
      "               210        240 270 300\n",
      "ntree  210.0000000 240.000000   0   0\n",
      "node     2.0000000   2.000000   0   0\n",
      "ts_acc   0.7461646   0.748954   0   0\n",
      "               30         60         90         120         150         180\n",
      "ntree  30.0000000 60.0000000 90.0000000 120.0000000 150.0000000 180.0000000\n",
      "node    2.0000000  1.0000000  2.0000000   1.0000000   1.0000000   2.0000000\n",
      "ts_acc  0.7391911  0.7545328  0.7482566   0.7461646   0.7433752   0.7419805\n",
      "               210        240         270 300\n",
      "ntree  210.0000000 240.000000 270.0000000   0\n",
      "node     2.0000000   2.000000   2.0000000   0\n",
      "ts_acc   0.7461646   0.748954   0.7475593   0\n",
      "               30         60         90         120         150         180\n",
      "ntree  30.0000000 60.0000000 90.0000000 120.0000000 150.0000000 180.0000000\n",
      "node    2.0000000  1.0000000  2.0000000   1.0000000   1.0000000   2.0000000\n",
      "ts_acc  0.7391911  0.7545328  0.7482566   0.7461646   0.7433752   0.7419805\n",
      "               210        240         270         300\n",
      "ntree  210.0000000 240.000000 270.0000000 300.0000000\n",
      "node     2.0000000   2.000000   2.0000000   2.0000000\n",
      "ts_acc   0.7461646   0.748954   0.7475593   0.7468619\n",
      "               30 60 90 120 150 180 210 240 270 300\n",
      "ntree  30.0000000  0  0   0   0   0   0   0   0   0\n",
      "node    2.0000000  0  0   0   0   0   0   0   0   0\n",
      "ts_acc  0.7447699  0  0   0   0   0   0   0   0   0\n",
      "               30         60 90 120 150 180 210 240 270 300\n",
      "ntree  30.0000000 60.0000000  0   0   0   0   0   0   0   0\n",
      "node    2.0000000  2.0000000  0   0   0   0   0   0   0   0\n",
      "ts_acc  0.7447699  0.7475593  0   0   0   0   0   0   0   0\n",
      "               30         60         90 120 150 180 210 240 270 300\n",
      "ntree  30.0000000 60.0000000 90.0000000   0   0   0   0   0   0   0\n",
      "node    2.0000000  2.0000000  1.0000000   0   0   0   0   0   0   0\n",
      "ts_acc  0.7447699  0.7475593  0.7419805   0   0   0   0   0   0   0\n",
      "               30         60         90         120 150 180 210 240 270 300\n",
      "ntree  30.0000000 60.0000000 90.0000000 120.0000000   0   0   0   0   0   0\n",
      "node    2.0000000  2.0000000  1.0000000   3.0000000   0   0   0   0   0   0\n",
      "ts_acc  0.7447699  0.7475593  0.7419805   0.7461646   0   0   0   0   0   0\n",
      "               30         60         90         120         150 180 210 240 270\n",
      "ntree  30.0000000 60.0000000 90.0000000 120.0000000 150.0000000   0   0   0   0\n",
      "node    2.0000000  2.0000000  1.0000000   3.0000000   2.0000000   0   0   0   0\n",
      "ts_acc  0.7447699  0.7475593  0.7419805   0.7461646   0.7475593   0   0   0   0\n",
      "       300\n",
      "ntree    0\n",
      "node     0\n",
      "ts_acc   0\n",
      "               30         60         90         120         150         180 210\n",
      "ntree  30.0000000 60.0000000 90.0000000 120.0000000 150.0000000 180.0000000   0\n",
      "node    2.0000000  2.0000000  1.0000000   3.0000000   2.0000000   2.0000000   0\n",
      "ts_acc  0.7447699  0.7475593  0.7419805   0.7461646   0.7475593   0.7482566   0\n",
      "       240 270 300\n",
      "ntree    0   0   0\n",
      "node     0   0   0\n",
      "ts_acc   0   0   0\n",
      "               30         60         90         120         150         180\n",
      "ntree  30.0000000 60.0000000 90.0000000 120.0000000 150.0000000 180.0000000\n",
      "node    2.0000000  2.0000000  1.0000000   3.0000000   2.0000000   2.0000000\n",
      "ts_acc  0.7447699  0.7475593  0.7419805   0.7461646   0.7475593   0.7482566\n",
      "               210 240 270 300\n",
      "ntree  210.0000000   0   0   0\n",
      "node     2.0000000   0   0   0\n",
      "ts_acc   0.7461646   0   0   0\n",
      "               30         60         90         120         150         180\n",
      "ntree  30.0000000 60.0000000 90.0000000 120.0000000 150.0000000 180.0000000\n",
      "node    2.0000000  2.0000000  1.0000000   3.0000000   2.0000000   2.0000000\n",
      "ts_acc  0.7447699  0.7475593  0.7419805   0.7461646   0.7475593   0.7482566\n",
      "               210         240 270 300\n",
      "ntree  210.0000000 240.0000000   0   0\n",
      "node     2.0000000   2.0000000   0   0\n",
      "ts_acc   0.7461646   0.7454672   0   0\n",
      "               30         60         90         120         150         180\n",
      "ntree  30.0000000 60.0000000 90.0000000 120.0000000 150.0000000 180.0000000\n",
      "node    2.0000000  2.0000000  1.0000000   3.0000000   2.0000000   2.0000000\n",
      "ts_acc  0.7447699  0.7475593  0.7419805   0.7461646   0.7475593   0.7482566\n",
      "               210         240         270 300\n",
      "ntree  210.0000000 240.0000000 270.0000000   0\n",
      "node     2.0000000   2.0000000   2.0000000   0\n",
      "ts_acc   0.7461646   0.7454672   0.7454672   0\n",
      "               30         60         90         120         150         180\n",
      "ntree  30.0000000 60.0000000 90.0000000 120.0000000 150.0000000 180.0000000\n",
      "node    2.0000000  2.0000000  1.0000000   3.0000000   2.0000000   2.0000000\n",
      "ts_acc  0.7447699  0.7475593  0.7419805   0.7461646   0.7475593   0.7482566\n",
      "               210         240         270         300\n",
      "ntree  210.0000000 240.0000000 270.0000000 300.0000000\n",
      "node     2.0000000   2.0000000   2.0000000   2.0000000\n",
      "ts_acc   0.7461646   0.7454672   0.7454672   0.7482566\n",
      "               30 60 90 120 150 180 210 240 270 300\n",
      "ntree  30.0000000  0  0   0   0   0   0   0   0   0\n",
      "node    1.0000000  0  0   0   0   0   0   0   0   0\n",
      "ts_acc  0.7364017  0  0   0   0   0   0   0   0   0\n",
      "               30         60 90 120 150 180 210 240 270 300\n",
      "ntree  30.0000000 60.0000000  0   0   0   0   0   0   0   0\n",
      "node    1.0000000  2.0000000  0   0   0   0   0   0   0   0\n",
      "ts_acc  0.7364017  0.7447699  0   0   0   0   0   0   0   0\n",
      "               30         60         90 120 150 180 210 240 270 300\n",
      "ntree  30.0000000 60.0000000 90.0000000   0   0   0   0   0   0   0\n",
      "node    1.0000000  2.0000000  2.0000000   0   0   0   0   0   0   0\n",
      "ts_acc  0.7364017  0.7447699  0.7405858   0   0   0   0   0   0   0\n",
      "               30         60         90        120 150 180 210 240 270 300\n",
      "ntree  30.0000000 60.0000000 90.0000000 120.000000   0   0   0   0   0   0\n",
      "node    1.0000000  2.0000000  2.0000000   2.000000   0   0   0   0   0   0\n",
      "ts_acc  0.7364017  0.7447699  0.7405858   0.735007   0   0   0   0   0   0\n",
      "               30         60         90        120         150 180 210 240 270\n",
      "ntree  30.0000000 60.0000000 90.0000000 120.000000 150.0000000   0   0   0   0\n",
      "node    1.0000000  2.0000000  2.0000000   2.000000   2.0000000   0   0   0   0\n",
      "ts_acc  0.7364017  0.7447699  0.7405858   0.735007   0.7391911   0   0   0   0\n",
      "       300\n",
      "ntree    0\n",
      "node     0\n",
      "ts_acc   0\n",
      "               30         60         90        120         150         180 210\n",
      "ntree  30.0000000 60.0000000 90.0000000 120.000000 150.0000000 180.0000000   0\n",
      "node    1.0000000  2.0000000  2.0000000   2.000000   2.0000000   2.0000000   0\n",
      "ts_acc  0.7364017  0.7447699  0.7405858   0.735007   0.7391911   0.7384937   0\n",
      "       240 270 300\n",
      "ntree    0   0   0\n",
      "node     0   0   0\n",
      "ts_acc   0   0   0\n",
      "               30         60         90        120         150         180\n",
      "ntree  30.0000000 60.0000000 90.0000000 120.000000 150.0000000 180.0000000\n",
      "node    1.0000000  2.0000000  2.0000000   2.000000   2.0000000   2.0000000\n",
      "ts_acc  0.7364017  0.7447699  0.7405858   0.735007   0.7391911   0.7384937\n",
      "               210 240 270 300\n",
      "ntree  210.0000000   0   0   0\n",
      "node     2.0000000   0   0   0\n",
      "ts_acc   0.7412831   0   0   0\n",
      "               30         60         90        120         150         180\n",
      "ntree  30.0000000 60.0000000 90.0000000 120.000000 150.0000000 180.0000000\n",
      "node    1.0000000  2.0000000  2.0000000   2.000000   2.0000000   2.0000000\n",
      "ts_acc  0.7364017  0.7447699  0.7405858   0.735007   0.7391911   0.7384937\n",
      "               210         240 270 300\n",
      "ntree  210.0000000 240.0000000   0   0\n",
      "node     2.0000000   2.0000000   0   0\n",
      "ts_acc   0.7412831   0.7412831   0   0\n",
      "               30         60         90        120         150         180\n",
      "ntree  30.0000000 60.0000000 90.0000000 120.000000 150.0000000 180.0000000\n",
      "node    1.0000000  2.0000000  2.0000000   2.000000   2.0000000   2.0000000\n",
      "ts_acc  0.7364017  0.7447699  0.7405858   0.735007   0.7391911   0.7384937\n",
      "               210         240         270 300\n",
      "ntree  210.0000000 240.0000000 270.0000000   0\n",
      "node     2.0000000   2.0000000   2.0000000   0\n",
      "ts_acc   0.7412831   0.7412831   0.7419805   0\n",
      "               30         60         90        120         150         180\n",
      "ntree  30.0000000 60.0000000 90.0000000 120.000000 150.0000000 180.0000000\n",
      "node    1.0000000  2.0000000  2.0000000   2.000000   2.0000000   2.0000000\n",
      "ts_acc  0.7364017  0.7447699  0.7405858   0.735007   0.7391911   0.7384937\n",
      "               210         240         270         300\n",
      "ntree  210.0000000 240.0000000 270.0000000 300.0000000\n",
      "node     2.0000000   2.0000000   2.0000000   2.0000000\n",
      "ts_acc   0.7412831   0.7412831   0.7419805   0.7384937\n",
      "              30 60 90 120 150 180 210 240 270 300\n",
      "ntree  30.000000  0  0   0   0   0   0   0   0   0\n",
      "node    2.000000  0  0   0   0   0   0   0   0   0\n",
      "ts_acc  0.737099  0  0   0   0   0   0   0   0   0\n",
      "              30         60 90 120 150 180 210 240 270 300\n",
      "ntree  30.000000 60.0000000  0   0   0   0   0   0   0   0\n",
      "node    2.000000  1.0000000  0   0   0   0   0   0   0   0\n",
      "ts_acc  0.737099  0.7433752  0   0   0   0   0   0   0   0\n",
      "              30         60         90 120 150 180 210 240 270 300\n",
      "ntree  30.000000 60.0000000 90.0000000   0   0   0   0   0   0   0\n",
      "node    2.000000  1.0000000  1.0000000   0   0   0   0   0   0   0\n",
      "ts_acc  0.737099  0.7433752  0.7454672   0   0   0   0   0   0   0\n",
      "              30         60         90         120 150 180 210 240 270 300\n",
      "ntree  30.000000 60.0000000 90.0000000 120.0000000   0   0   0   0   0   0\n",
      "node    2.000000  1.0000000  1.0000000   1.0000000   0   0   0   0   0   0\n",
      "ts_acc  0.737099  0.7433752  0.7454672   0.7440725   0   0   0   0   0   0\n",
      "              30         60         90         120         150 180 210 240 270\n",
      "ntree  30.000000 60.0000000 90.0000000 120.0000000 150.0000000   0   0   0   0\n",
      "node    2.000000  1.0000000  1.0000000   1.0000000   2.0000000   0   0   0   0\n",
      "ts_acc  0.737099  0.7433752  0.7454672   0.7440725   0.7412831   0   0   0   0\n",
      "       300\n",
      "ntree    0\n",
      "node     0\n",
      "ts_acc   0\n",
      "              30         60         90         120         150         180 210\n",
      "ntree  30.000000 60.0000000 90.0000000 120.0000000 150.0000000 180.0000000   0\n",
      "node    2.000000  1.0000000  1.0000000   1.0000000   2.0000000   1.0000000   0\n",
      "ts_acc  0.737099  0.7433752  0.7454672   0.7440725   0.7412831   0.7405858   0\n",
      "       240 270 300\n",
      "ntree    0   0   0\n",
      "node     0   0   0\n",
      "ts_acc   0   0   0\n",
      "              30         60         90         120         150         180\n",
      "ntree  30.000000 60.0000000 90.0000000 120.0000000 150.0000000 180.0000000\n",
      "node    2.000000  1.0000000  1.0000000   1.0000000   2.0000000   1.0000000\n",
      "ts_acc  0.737099  0.7433752  0.7454672   0.7440725   0.7412831   0.7405858\n",
      "               210 240 270 300\n",
      "ntree  210.0000000   0   0   0\n",
      "node     3.0000000   0   0   0\n",
      "ts_acc   0.7412831   0   0   0\n",
      "              30         60         90         120         150         180\n",
      "ntree  30.000000 60.0000000 90.0000000 120.0000000 150.0000000 180.0000000\n",
      "node    2.000000  1.0000000  1.0000000   1.0000000   2.0000000   1.0000000\n",
      "ts_acc  0.737099  0.7433752  0.7454672   0.7440725   0.7412831   0.7405858\n",
      "               210         240 270 300\n",
      "ntree  210.0000000 240.0000000   0   0\n",
      "node     3.0000000   3.0000000   0   0\n",
      "ts_acc   0.7412831   0.7398884   0   0\n",
      "              30         60         90         120         150         180\n",
      "ntree  30.000000 60.0000000 90.0000000 120.0000000 150.0000000 180.0000000\n",
      "node    2.000000  1.0000000  1.0000000   1.0000000   2.0000000   1.0000000\n",
      "ts_acc  0.737099  0.7433752  0.7454672   0.7440725   0.7412831   0.7405858\n",
      "               210         240        270 300\n",
      "ntree  210.0000000 240.0000000 270.000000   0\n",
      "node     3.0000000   3.0000000   1.000000   0\n",
      "ts_acc   0.7412831   0.7398884   0.737099   0\n",
      "              30         60         90         120         150         180\n",
      "ntree  30.000000 60.0000000 90.0000000 120.0000000 150.0000000 180.0000000\n",
      "node    2.000000  1.0000000  1.0000000   1.0000000   2.0000000   1.0000000\n",
      "ts_acc  0.737099  0.7433752  0.7454672   0.7440725   0.7412831   0.7405858\n",
      "               210         240        270         300\n",
      "ntree  210.0000000 240.0000000 270.000000 300.0000000\n",
      "node     3.0000000   3.0000000   1.000000   3.0000000\n",
      "ts_acc   0.7412831   0.7398884   0.737099   0.7419805\n"
     ]
    },
    {
     "data": {
      "text/html": [
       "<table>\n",
       "<caption>A matrix: 4 × 6 of type dbl</caption>\n",
       "<thead>\n",
       "\t<tr><th></th><th scope=col>default</th><th scope=col>mtry:3</th><th scope=col>mtry:5</th><th scope=col>mtry:7</th><th scope=col>mtry9</th><th scope=col>mtry:11</th></tr>\n",
       "</thead>\n",
       "<tbody>\n",
       "\t<tr><th scope=row>mtry</th><td>  3.000000</td><td>  3.0000000</td><td> 5.0000000</td><td>  7.0000000</td><td> 9.0000000</td><td>11.0000000</td></tr>\n",
       "\t<tr><th scope=row>ntree</th><td>500.000000</td><td>120.0000000</td><td>60.0000000</td><td>180.0000000</td><td>60.0000000</td><td>90.0000000</td></tr>\n",
       "\t<tr><th scope=row>node</th><td>  1.000000</td><td>  2.0000000</td><td> 1.0000000</td><td>  2.0000000</td><td> 2.0000000</td><td> 1.0000000</td></tr>\n",
       "\t<tr><th scope=row>test_acc</th><td>  0.735007</td><td>  0.7412831</td><td> 0.7545328</td><td>  0.7482566</td><td> 0.7447699</td><td> 0.7454672</td></tr>\n",
       "</tbody>\n",
       "</table>\n"
      ],
      "text/latex": [
       "A matrix: 4 × 6 of type dbl\n",
       "\\begin{tabular}{r|llllll}\n",
       "  & default & mtry:3 & mtry:5 & mtry:7 & mtry9 & mtry:11\\\\\n",
       "\\hline\n",
       "\tmtry &   3.000000 &   3.0000000 &  5.0000000 &   7.0000000 &  9.0000000 & 11.0000000\\\\\n",
       "\tntree & 500.000000 & 120.0000000 & 60.0000000 & 180.0000000 & 60.0000000 & 90.0000000\\\\\n",
       "\tnode &   1.000000 &   2.0000000 &  1.0000000 &   2.0000000 &  2.0000000 &  1.0000000\\\\\n",
       "\ttest\\_acc &   0.735007 &   0.7412831 &  0.7545328 &   0.7482566 &  0.7447699 &  0.7454672\\\\\n",
       "\\end{tabular}\n"
      ],
      "text/markdown": [
       "\n",
       "A matrix: 4 × 6 of type dbl\n",
       "\n",
       "| <!--/--> | default | mtry:3 | mtry:5 | mtry:7 | mtry9 | mtry:11 |\n",
       "|---|---|---|---|---|---|---|\n",
       "| mtry |   3.000000 |   3.0000000 |  5.0000000 |   7.0000000 |  9.0000000 | 11.0000000 |\n",
       "| ntree | 500.000000 | 120.0000000 | 60.0000000 | 180.0000000 | 60.0000000 | 90.0000000 |\n",
       "| node |   1.000000 |   2.0000000 |  1.0000000 |   2.0000000 |  2.0000000 |  1.0000000 |\n",
       "| test_acc |   0.735007 |   0.7412831 |  0.7545328 |   0.7482566 |  0.7447699 |  0.7454672 |\n",
       "\n"
      ],
      "text/plain": [
       "         default    mtry:3      mtry:5     mtry:7      mtry9      mtry:11   \n",
       "mtry       3.000000   3.0000000  5.0000000   7.0000000  9.0000000 11.0000000\n",
       "ntree    500.000000 120.0000000 60.0000000 180.0000000 60.0000000 90.0000000\n",
       "node       1.000000   2.0000000  1.0000000   2.0000000  2.0000000  1.0000000\n",
       "test_acc   0.735007   0.7412831  0.7545328   0.7482566  0.7447699  0.7454672"
      ]
     },
     "metadata": {},
     "output_type": "display_data"
    }
   ],
   "source": [
    "mtry=seq(3,11,2) # \n",
    "ntree = seq(30,300,by=30) # 10개\n",
    "count_mtry=2\n",
    "count_ntree = 1\n",
    "for(i in mtry){\n",
    "  #print(\"mtry\")\n",
    "  #print(i)\n",
    "  ntree.mat = matrix(0,3,10);\n",
    "  colnames(ntree.mat) = seq(30,300,by=30)\n",
    "  rownames(ntree.mat) = c(\"ntree\",\"node\",\"ts_acc\")\n",
    "  for(j in ntree)\n",
    "  {\n",
    "    node.mat=matrix(0,3,3)\n",
    "    colnames(node.mat) = c(\"node1\",\"node2\",\"node3\")\n",
    "    rownames(node.mat) = c(\"ntree\",\"node\",\"ts_acc\")\n",
    "    #print(\"ntree\")\n",
    "    #print(j)\n",
    "    for(k in c(1:3))\n",
    "    {\n",
    "      set.seed(1);\n",
    "      rf.fit=randomForest(Y~.,data=cls_1_train,ntree=j,mtry=i,nodesize=k,type='C') \n",
    "      set.seed(1)\n",
    "      tab = table(cls_1_test[,4],predict(rf.fit,newdata=cls_1_test[,-4]))\n",
    "      ts.ccp = sum(diag(tab))/sum(tab)\n",
    "      node.mat[,k] = c(j,k,ts.ccp)\n",
    "    }\n",
    "    opt.node = which.max(node.mat[3,])\n",
    "    ntree.mat[,count_ntree] = node.mat[,opt.node]\n",
    "    count_ntree = count_ntree + 1\n",
    "    print(ntree.mat)\n",
    "  }\n",
    "  count_ntree = 1\n",
    "  opt.ntree = which.max(ntree.mat[3,])\n",
    "  ntree.mat[,opt.ntree]\n",
    "  tune_mat[,count_mtry] = c(i,ntree.mat[,opt.ntree])\n",
    "  count_mtry = count_mtry + 1\n",
    "}\n",
    "\n",
    "tune_mat"
   ]
  },
  {
   "cell_type": "code",
   "execution_count": 7,
   "metadata": {},
   "outputs": [
    {
     "data": {
      "text/html": [
       "<dl class=dl-horizontal>\n",
       "\t<dt>mtry</dt>\n",
       "\t\t<dd>5</dd>\n",
       "\t<dt>ntree</dt>\n",
       "\t\t<dd>60</dd>\n",
       "\t<dt>node</dt>\n",
       "\t\t<dd>1</dd>\n",
       "\t<dt>test_acc</dt>\n",
       "\t\t<dd>0.754532775453278</dd>\n",
       "</dl>\n"
      ],
      "text/latex": [
       "\\begin{description*}\n",
       "\\item[mtry] 5\n",
       "\\item[ntree] 60\n",
       "\\item[node] 1\n",
       "\\item[test\\textbackslash{}\\_acc] 0.754532775453278\n",
       "\\end{description*}\n"
      ],
      "text/markdown": [
       "mtry\n",
       ":   5ntree\n",
       ":   60node\n",
       ":   1test_acc\n",
       ":   0.754532775453278\n",
       "\n"
      ],
      "text/plain": [
       "      mtry      ntree       node   test_acc \n",
       " 5.0000000 60.0000000  1.0000000  0.7545328 "
      ]
     },
     "metadata": {},
     "output_type": "display_data"
    }
   ],
   "source": [
    "tune_mat[,which.max(tune_mat[4,])]"
   ]
  },
  {
   "cell_type": "markdown",
   "metadata": {},
   "source": [
    "## Result \n",
    "\n",
    "- Default : mtry: 3 , ntree: 5, nodesize: 1\n",
    "\n",
    "- best_tune : mtry: 5, ntree: 60, nodesize: 1"
   ]
  },
  {
   "cell_type": "code",
   "execution_count": 8,
   "metadata": {},
   "outputs": [
    {
     "data": {
      "text/html": [
       "<table>\n",
       "<caption>A matrix: 1 × 2 of type dbl</caption>\n",
       "<thead>\n",
       "\t<tr><th></th><th scope=col>default</th><th scope=col>tune</th></tr>\n",
       "</thead>\n",
       "<tbody>\n",
       "\t<tr><th scope=row>test_acc</th><td>0.735007</td><td>0</td></tr>\n",
       "</tbody>\n",
       "</table>\n"
      ],
      "text/latex": [
       "A matrix: 1 × 2 of type dbl\n",
       "\\begin{tabular}{r|ll}\n",
       "  & default & tune\\\\\n",
       "\\hline\n",
       "\ttest\\_acc & 0.735007 & 0\\\\\n",
       "\\end{tabular}\n"
      ],
      "text/markdown": [
       "\n",
       "A matrix: 1 × 2 of type dbl\n",
       "\n",
       "| <!--/--> | default | tune |\n",
       "|---|---|---|\n",
       "| test_acc | 0.735007 | 0 |\n",
       "\n"
      ],
      "text/plain": [
       "         default  tune\n",
       "test_acc 0.735007 0   "
      ]
     },
     "metadata": {},
     "output_type": "display_data"
    }
   ],
   "source": [
    "result.mat = matrix(0,1,2)\n",
    "colnames(result.mat)=c(\"default\",\"tune\")\n",
    "rownames(result.mat)=c(\"test_acc\")\n",
    "set.seed(1)\n",
    "default_fit=randomForest(Y~.,data=cls_1_train,type='C')\n",
    "set.seed(1)\n",
    "tab = table(cls_1_test[,4],predict(default_fit,newdata=cls_1_test[,-4]))\n",
    "ts.ccp = sum(diag(tab))/sum(tab)\n",
    "result.mat[,1] = c(ts.ccp);result.mat"
   ]
  },
  {
   "cell_type": "code",
   "execution_count": 9,
   "metadata": {},
   "outputs": [
    {
     "data": {
      "text/html": [
       "<table>\n",
       "<caption>A matrix: 1 × 2 of type dbl</caption>\n",
       "<thead>\n",
       "\t<tr><th></th><th scope=col>default</th><th scope=col>tune</th></tr>\n",
       "</thead>\n",
       "<tbody>\n",
       "\t<tr><th scope=row>test_acc</th><td>0.735007</td><td>0.7545328</td></tr>\n",
       "</tbody>\n",
       "</table>\n"
      ],
      "text/latex": [
       "A matrix: 1 × 2 of type dbl\n",
       "\\begin{tabular}{r|ll}\n",
       "  & default & tune\\\\\n",
       "\\hline\n",
       "\ttest\\_acc & 0.735007 & 0.7545328\\\\\n",
       "\\end{tabular}\n"
      ],
      "text/markdown": [
       "\n",
       "A matrix: 1 × 2 of type dbl\n",
       "\n",
       "| <!--/--> | default | tune |\n",
       "|---|---|---|\n",
       "| test_acc | 0.735007 | 0.7545328 |\n",
       "\n"
      ],
      "text/plain": [
       "         default  tune     \n",
       "test_acc 0.735007 0.7545328"
      ]
     },
     "metadata": {},
     "output_type": "display_data"
    }
   ],
   "source": [
    "set.seed(1)\n",
    "tune_model1.fit=randomForest(Y~.,data=cls_1_train,ntree=60,mtry=5,nodesize=1,type='C') #default = 1\n",
    "set.seed(1)\n",
    "tab = table(cls_1_test[,4],predict(tune_model1.fit,newdata=cls_1_test[,-4]))\n",
    "ts.ccp = sum(diag(tab))/sum(tab)\n",
    "result.mat[,2] = c(ts.ccp);result.mat"
   ]
  },
  {
   "cell_type": "markdown",
   "metadata": {},
   "source": [
    "## Result\n",
    "\n",
    "- Randomfores Importance"
   ]
  },
  {
   "cell_type": "code",
   "execution_count": 10,
   "metadata": {},
   "outputs": [
    {
     "data": {
      "text/html": [
       "<table>\n",
       "<caption>A data.frame: 12 × 2</caption>\n",
       "<thead>\n",
       "\t<tr><th></th><th scope=col>Default</th><th scope=col>Tune_1</th></tr>\n",
       "\t<tr><th></th><th scope=col>&lt;dbl&gt;</th><th scope=col>&lt;dbl&gt;</th></tr>\n",
       "</thead>\n",
       "<tbody>\n",
       "\t<tr><th scope=row>prime_genre</th><td> 52.26411</td><td>  49.08133</td></tr>\n",
       "\t<tr><th scope=row>ver</th><td> 66.11011</td><td>  60.89468</td></tr>\n",
       "\t<tr><th scope=row>ipadSc_urls.num</th><td>110.05350</td><td> 105.65855</td></tr>\n",
       "\t<tr><th scope=row>cont_rating</th><td>111.00494</td><td> 105.68346</td></tr>\n",
       "\t<tr><th scope=row>sup_devices.num</th><td>136.87607</td><td> 134.21120</td></tr>\n",
       "\t<tr><th scope=row>price</th><td>146.40671</td><td> 143.66123</td></tr>\n",
       "\t<tr><th scope=row>lang.num</th><td>188.57370</td><td> 186.68957</td></tr>\n",
       "\t<tr><th scope=row>rating_count_ver</th><td>381.50443</td><td> 305.02678</td></tr>\n",
       "\t<tr><th scope=row>size_mega</th><td>380.82701</td><td> 412.17344</td></tr>\n",
       "\t<tr><th scope=row>sum_rate_ver</th><td>448.30154</td><td> 433.36286</td></tr>\n",
       "\t<tr><th scope=row>user_rating_ver</th><td>782.57222</td><td> 839.49489</td></tr>\n",
       "\t<tr><th scope=row>rating_count_tot</th><td>967.59524</td><td>1098.41070</td></tr>\n",
       "</tbody>\n",
       "</table>\n"
      ],
      "text/latex": [
       "A data.frame: 12 × 2\n",
       "\\begin{tabular}{r|ll}\n",
       "  & Default & Tune\\_1\\\\\n",
       "  & <dbl> & <dbl>\\\\\n",
       "\\hline\n",
       "\tprime\\_genre &  52.26411 &   49.08133\\\\\n",
       "\tver &  66.11011 &   60.89468\\\\\n",
       "\tipadSc\\_urls.num & 110.05350 &  105.65855\\\\\n",
       "\tcont\\_rating & 111.00494 &  105.68346\\\\\n",
       "\tsup\\_devices.num & 136.87607 &  134.21120\\\\\n",
       "\tprice & 146.40671 &  143.66123\\\\\n",
       "\tlang.num & 188.57370 &  186.68957\\\\\n",
       "\trating\\_count\\_ver & 381.50443 &  305.02678\\\\\n",
       "\tsize\\_mega & 380.82701 &  412.17344\\\\\n",
       "\tsum\\_rate\\_ver & 448.30154 &  433.36286\\\\\n",
       "\tuser\\_rating\\_ver & 782.57222 &  839.49489\\\\\n",
       "\trating\\_count\\_tot & 967.59524 & 1098.41070\\\\\n",
       "\\end{tabular}\n"
      ],
      "text/markdown": [
       "\n",
       "A data.frame: 12 × 2\n",
       "\n",
       "| <!--/--> | Default &lt;dbl&gt; | Tune_1 &lt;dbl&gt; |\n",
       "|---|---|---|\n",
       "| prime_genre |  52.26411 |   49.08133 |\n",
       "| ver |  66.11011 |   60.89468 |\n",
       "| ipadSc_urls.num | 110.05350 |  105.65855 |\n",
       "| cont_rating | 111.00494 |  105.68346 |\n",
       "| sup_devices.num | 136.87607 |  134.21120 |\n",
       "| price | 146.40671 |  143.66123 |\n",
       "| lang.num | 188.57370 |  186.68957 |\n",
       "| rating_count_ver | 381.50443 |  305.02678 |\n",
       "| size_mega | 380.82701 |  412.17344 |\n",
       "| sum_rate_ver | 448.30154 |  433.36286 |\n",
       "| user_rating_ver | 782.57222 |  839.49489 |\n",
       "| rating_count_tot | 967.59524 | 1098.41070 |\n",
       "\n"
      ],
      "text/plain": [
       "                 Default   Tune_1    \n",
       "prime_genre       52.26411   49.08133\n",
       "ver               66.11011   60.89468\n",
       "ipadSc_urls.num  110.05350  105.65855\n",
       "cont_rating      111.00494  105.68346\n",
       "sup_devices.num  136.87607  134.21120\n",
       "price            146.40671  143.66123\n",
       "lang.num         188.57370  186.68957\n",
       "rating_count_ver 381.50443  305.02678\n",
       "size_mega        380.82701  412.17344\n",
       "sum_rate_ver     448.30154  433.36286\n",
       "user_rating_ver  782.57222  839.49489\n",
       "rating_count_tot 967.59524 1098.41070"
      ]
     },
     "metadata": {},
     "output_type": "display_data"
    }
   ],
   "source": [
    "important_vars=cbind(default_fit$importance,tune_model1.fit$importance)\n",
    "colnames(important_vars)=c('Default',\"Tune_1\")\n",
    "important_vars=as.data.frame(important_vars)\n",
    "order=important_vars[order(important_vars$Tune_1),]\n",
    "order"
   ]
  },
  {
   "cell_type": "code",
   "execution_count": null,
   "metadata": {},
   "outputs": [],
   "source": []
  }
 ],
 "metadata": {
  "kernelspec": {
   "display_name": "R",
   "language": "R",
   "name": "ir"
  },
  "language_info": {
   "codemirror_mode": "r",
   "file_extension": ".r",
   "mimetype": "text/x-r-source",
   "name": "R",
   "pygments_lexer": "r",
   "version": "3.5.3"
  }
 },
 "nbformat": 4,
 "nbformat_minor": 2
}
