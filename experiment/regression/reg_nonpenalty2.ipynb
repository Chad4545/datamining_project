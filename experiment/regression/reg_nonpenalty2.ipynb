{
 "cells": [
  {
   "cell_type": "code",
   "execution_count": 1,
   "metadata": {},
   "outputs": [
    {
     "data": {
      "text/html": [
       "'/Users/sungjinpark/OneDrive - konkuk.ac.kr/datamining/appstore_2/2experiment'"
      ],
      "text/latex": [
       "'/Users/sungjinpark/OneDrive - konkuk.ac.kr/datamining/appstore\\_2/2experiment'"
      ],
      "text/markdown": [
       "'/Users/sungjinpark/OneDrive - konkuk.ac.kr/datamining/appstore_2/2experiment'"
      ],
      "text/plain": [
       "[1] \"/Users/sungjinpark/OneDrive - konkuk.ac.kr/datamining/appstore_2/2experiment\""
      ]
     },
     "metadata": {},
     "output_type": "display_data"
    }
   ],
   "source": [
    "rm(list=ls())\n",
    "getwd()\n",
    "dir='/Users/sungjinpark/OneDrive - konkuk.ac.kr/datamining/appstore_2/2experiment'\n",
    "setwd(dir)"
   ]
  },
  {
   "cell_type": "code",
   "execution_count": 2,
   "metadata": {},
   "outputs": [
    {
     "data": {
      "text/html": [
       "<ol class=list-inline>\n",
       "\t<li>'Games'</li>\n",
       "\t<li>'Non_Games'</li>\n",
       "</ol>\n"
      ],
      "text/latex": [
       "\\begin{enumerate*}\n",
       "\\item 'Games'\n",
       "\\item 'Non\\_Games'\n",
       "\\end{enumerate*}\n"
      ],
      "text/markdown": [
       "1. 'Games'\n",
       "2. 'Non_Games'\n",
       "\n",
       "\n"
      ],
      "text/plain": [
       "[1] \"Games\"     \"Non_Games\""
      ]
     },
     "metadata": {},
     "output_type": "display_data"
    }
   ],
   "source": [
    "load('reg_1_train.rda')\n",
    "load('reg_1_test.rda')\n",
    "levels(reg_1_train$prime_genre)"
   ]
  },
  {
   "cell_type": "markdown",
   "metadata": {},
   "source": [
    "# 1.    Data 1\n",
    "\n",
    "## prime_genre : Games NonGames\n",
    "\n",
    "\n",
    "- 6measure\n",
    "\n",
    "      Average Error, MAE(Mean Absolute Error), \n",
    "      MAPE(Mean Absolute Percentage Error), MSE, RMSE, R^2_adj\n",
    "      \n",
    "\n",
    "- data : reg_1_train & reg_1_test      "
   ]
  },
  {
   "cell_type": "code",
   "execution_count": 7,
   "metadata": {},
   "outputs": [],
   "source": [
    "reg_1_train<-droplevels(reg_1_train)\n",
    "reg_1_test <- droplevels(reg_1_test)"
   ]
  },
  {
   "cell_type": "code",
   "execution_count": 8,
   "metadata": {},
   "outputs": [
    {
     "data": {
      "text/html": [
       "<table>\n",
       "<caption>A matrix: 12 × 3 of type dbl</caption>\n",
       "<thead>\n",
       "\t<tr><th></th><th scope=col>GVIF</th><th scope=col>Df</th><th scope=col>GVIF^(1/(2*Df))</th></tr>\n",
       "</thead>\n",
       "<tbody>\n",
       "\t<tr><th scope=row>price</th><td>  1.052870</td><td>1</td><td> 1.026095</td></tr>\n",
       "\t<tr><th scope=row>rating_count_tot</th><td>  1.061510</td><td>1</td><td> 1.030296</td></tr>\n",
       "\t<tr><th scope=row>rating_count_ver</th><td>116.388911</td><td>1</td><td>10.788369</td></tr>\n",
       "\t<tr><th scope=row>user_rating_ver</th><td>  1.163316</td><td>1</td><td> 1.078571</td></tr>\n",
       "\t<tr><th scope=row>ver</th><td>  1.221739</td><td>1</td><td> 1.105323</td></tr>\n",
       "\t<tr><th scope=row>cont_rating</th><td>  1.241018</td><td>3</td><td> 1.036644</td></tr>\n",
       "\t<tr><th scope=row>prime_genre</th><td>  1.556395</td><td>1</td><td> 1.247555</td></tr>\n",
       "\t<tr><th scope=row>sup_devices.num</th><td>  1.092360</td><td>1</td><td> 1.045160</td></tr>\n",
       "\t<tr><th scope=row>ipadSc_urls.num</th><td>  1.231630</td><td>1</td><td> 1.109788</td></tr>\n",
       "\t<tr><th scope=row>lang.num</th><td>  1.090321</td><td>1</td><td> 1.044184</td></tr>\n",
       "\t<tr><th scope=row>size_mega</th><td>  1.181417</td><td>1</td><td> 1.086930</td></tr>\n",
       "\t<tr><th scope=row>sum_rate_ver</th><td>116.294713</td><td>1</td><td>10.784003</td></tr>\n",
       "</tbody>\n",
       "</table>\n"
      ],
      "text/latex": [
       "A matrix: 12 × 3 of type dbl\n",
       "\\begin{tabular}{r|lll}\n",
       "  & GVIF & Df & GVIF\\textasciicircum{}(1/(2*Df))\\\\\n",
       "\\hline\n",
       "\tprice &   1.052870 & 1 &  1.026095\\\\\n",
       "\trating\\_count\\_tot &   1.061510 & 1 &  1.030296\\\\\n",
       "\trating\\_count\\_ver & 116.388911 & 1 & 10.788369\\\\\n",
       "\tuser\\_rating\\_ver &   1.163316 & 1 &  1.078571\\\\\n",
       "\tver &   1.221739 & 1 &  1.105323\\\\\n",
       "\tcont\\_rating &   1.241018 & 3 &  1.036644\\\\\n",
       "\tprime\\_genre &   1.556395 & 1 &  1.247555\\\\\n",
       "\tsup\\_devices.num &   1.092360 & 1 &  1.045160\\\\\n",
       "\tipadSc\\_urls.num &   1.231630 & 1 &  1.109788\\\\\n",
       "\tlang.num &   1.090321 & 1 &  1.044184\\\\\n",
       "\tsize\\_mega &   1.181417 & 1 &  1.086930\\\\\n",
       "\tsum\\_rate\\_ver & 116.294713 & 1 & 10.784003\\\\\n",
       "\\end{tabular}\n"
      ],
      "text/markdown": [
       "\n",
       "A matrix: 12 × 3 of type dbl\n",
       "\n",
       "| <!--/--> | GVIF | Df | GVIF^(1/(2*Df)) |\n",
       "|---|---|---|---|\n",
       "| price |   1.052870 | 1 |  1.026095 |\n",
       "| rating_count_tot |   1.061510 | 1 |  1.030296 |\n",
       "| rating_count_ver | 116.388911 | 1 | 10.788369 |\n",
       "| user_rating_ver |   1.163316 | 1 |  1.078571 |\n",
       "| ver |   1.221739 | 1 |  1.105323 |\n",
       "| cont_rating |   1.241018 | 3 |  1.036644 |\n",
       "| prime_genre |   1.556395 | 1 |  1.247555 |\n",
       "| sup_devices.num |   1.092360 | 1 |  1.045160 |\n",
       "| ipadSc_urls.num |   1.231630 | 1 |  1.109788 |\n",
       "| lang.num |   1.090321 | 1 |  1.044184 |\n",
       "| size_mega |   1.181417 | 1 |  1.086930 |\n",
       "| sum_rate_ver | 116.294713 | 1 | 10.784003 |\n",
       "\n"
      ],
      "text/plain": [
       "                 GVIF       Df GVIF^(1/(2*Df))\n",
       "price              1.052870 1   1.026095      \n",
       "rating_count_tot   1.061510 1   1.030296      \n",
       "rating_count_ver 116.388911 1  10.788369      \n",
       "user_rating_ver    1.163316 1   1.078571      \n",
       "ver                1.221739 1   1.105323      \n",
       "cont_rating        1.241018 3   1.036644      \n",
       "prime_genre        1.556395 1   1.247555      \n",
       "sup_devices.num    1.092360 1   1.045160      \n",
       "ipadSc_urls.num    1.231630 1   1.109788      \n",
       "lang.num           1.090321 1   1.044184      \n",
       "size_mega          1.181417 1   1.086930      \n",
       "sum_rate_ver     116.294713 1  10.784003      "
      ]
     },
     "metadata": {},
     "output_type": "display_data"
    }
   ],
   "source": [
    "set.seed(1)\n",
    "library(car)\n",
    "lm.fit_1=lm(user_rating_scaled~.,data=reg_1_train)\n",
    "vif(lm.fit_1)"
   ]
  },
  {
   "cell_type": "code",
   "execution_count": 9,
   "metadata": {},
   "outputs": [],
   "source": [
    "drops=c(\"rating_count_ver\",\"sum_rate_ver\")\n",
    "reg_1_train=reg_1_train[ , !(names(reg_1_train) %in% drops)]\n",
    "reg_1_test=reg_1_test[ , !(names(reg_1_test) %in% drops)]\n"
   ]
  },
  {
   "cell_type": "markdown",
   "metadata": {},
   "source": [
    "- rating_count_ver, sum_rate_ver은 상관계수와 VIF가 높게 나와 제거했다"
   ]
  },
  {
   "cell_type": "markdown",
   "metadata": {},
   "source": [
    "## 1.1 linear-regression"
   ]
  },
  {
   "cell_type": "code",
   "execution_count": 4,
   "metadata": {},
   "outputs": [
    {
     "data": {
      "text/html": [
       "<table>\n",
       "<caption>A matrix: 4 × 6 of type dbl</caption>\n",
       "<thead>\n",
       "\t<tr><th></th><th scope=col>AE</th><th scope=col>MAE</th><th scope=col>MAPE</th><th scope=col>MSE</th><th scope=col>RMSE</th><th scope=col>R_adj</th></tr>\n",
       "</thead>\n",
       "<tbody>\n",
       "\t<tr><th scope=row>Default_reg</th><td>0</td><td>0</td><td>0</td><td>0</td><td>0</td><td>0</td></tr>\n",
       "\t<tr><th scope=row>Forward</th><td>0</td><td>0</td><td>0</td><td>0</td><td>0</td><td>0</td></tr>\n",
       "\t<tr><th scope=row>Backward</th><td>0</td><td>0</td><td>0</td><td>0</td><td>0</td><td>0</td></tr>\n",
       "\t<tr><th scope=row>Stepwise</th><td>0</td><td>0</td><td>0</td><td>0</td><td>0</td><td>0</td></tr>\n",
       "</tbody>\n",
       "</table>\n"
      ],
      "text/latex": [
       "A matrix: 4 × 6 of type dbl\n",
       "\\begin{tabular}{r|llllll}\n",
       "  & AE & MAE & MAPE & MSE & RMSE & R\\_adj\\\\\n",
       "\\hline\n",
       "\tDefault\\_reg & 0 & 0 & 0 & 0 & 0 & 0\\\\\n",
       "\tForward & 0 & 0 & 0 & 0 & 0 & 0\\\\\n",
       "\tBackward & 0 & 0 & 0 & 0 & 0 & 0\\\\\n",
       "\tStepwise & 0 & 0 & 0 & 0 & 0 & 0\\\\\n",
       "\\end{tabular}\n"
      ],
      "text/markdown": [
       "\n",
       "A matrix: 4 × 6 of type dbl\n",
       "\n",
       "| <!--/--> | AE | MAE | MAPE | MSE | RMSE | R_adj |\n",
       "|---|---|---|---|---|---|---|\n",
       "| Default_reg | 0 | 0 | 0 | 0 | 0 | 0 |\n",
       "| Forward | 0 | 0 | 0 | 0 | 0 | 0 |\n",
       "| Backward | 0 | 0 | 0 | 0 | 0 | 0 |\n",
       "| Stepwise | 0 | 0 | 0 | 0 | 0 | 0 |\n",
       "\n"
      ],
      "text/plain": [
       "            AE MAE MAPE MSE RMSE R_adj\n",
       "Default_reg 0  0   0    0   0    0    \n",
       "Forward     0  0   0    0   0    0    \n",
       "Backward    0  0   0    0   0    0    \n",
       "Stepwise    0  0   0    0   0    0    "
      ]
     },
     "metadata": {},
     "output_type": "display_data"
    }
   ],
   "source": [
    "c_data1.mat = matrix(0,4,6)\n",
    "colnames(c_data1.mat) = c( \"AE\",\"MAE\",\"MAPE\",\"MSE\",\"RMSE\",\"R_adj\") \n",
    "rownames(c_data1.mat) = c(\"Default_reg\",\"Forward\",\"Backward\",'Stepwise')\n",
    "c_data1.mat"
   ]
  },
  {
   "cell_type": "code",
   "execution_count": 5,
   "metadata": {},
   "outputs": [
    {
     "data": {
      "text/html": [
       "<table>\n",
       "<caption>A matrix: 4 × 6 of type dbl</caption>\n",
       "<thead>\n",
       "\t<tr><th></th><th scope=col>AE</th><th scope=col>MAE</th><th scope=col>MAPE</th><th scope=col>MSE</th><th scope=col>RMSE</th><th scope=col>R_adj</th></tr>\n",
       "</thead>\n",
       "<tbody>\n",
       "\t<tr><th scope=row>Default_reg</th><td>-0.01989207</td><td>0.4217136</td><td>0.03124681</td><td>0.3840257</td><td>0.6196981</td><td>0.6113801</td></tr>\n",
       "\t<tr><th scope=row>Forward</th><td> 0.00000000</td><td>0.0000000</td><td>0.00000000</td><td>0.0000000</td><td>0.0000000</td><td>0.0000000</td></tr>\n",
       "\t<tr><th scope=row>Backward</th><td> 0.00000000</td><td>0.0000000</td><td>0.00000000</td><td>0.0000000</td><td>0.0000000</td><td>0.0000000</td></tr>\n",
       "\t<tr><th scope=row>Stepwise</th><td> 0.00000000</td><td>0.0000000</td><td>0.00000000</td><td>0.0000000</td><td>0.0000000</td><td>0.0000000</td></tr>\n",
       "</tbody>\n",
       "</table>\n"
      ],
      "text/latex": [
       "A matrix: 4 × 6 of type dbl\n",
       "\\begin{tabular}{r|llllll}\n",
       "  & AE & MAE & MAPE & MSE & RMSE & R\\_adj\\\\\n",
       "\\hline\n",
       "\tDefault\\_reg & -0.01989207 & 0.4217136 & 0.03124681 & 0.3840257 & 0.6196981 & 0.6113801\\\\\n",
       "\tForward &  0.00000000 & 0.0000000 & 0.00000000 & 0.0000000 & 0.0000000 & 0.0000000\\\\\n",
       "\tBackward &  0.00000000 & 0.0000000 & 0.00000000 & 0.0000000 & 0.0000000 & 0.0000000\\\\\n",
       "\tStepwise &  0.00000000 & 0.0000000 & 0.00000000 & 0.0000000 & 0.0000000 & 0.0000000\\\\\n",
       "\\end{tabular}\n"
      ],
      "text/markdown": [
       "\n",
       "A matrix: 4 × 6 of type dbl\n",
       "\n",
       "| <!--/--> | AE | MAE | MAPE | MSE | RMSE | R_adj |\n",
       "|---|---|---|---|---|---|---|\n",
       "| Default_reg | -0.01989207 | 0.4217136 | 0.03124681 | 0.3840257 | 0.6196981 | 0.6113801 |\n",
       "| Forward |  0.00000000 | 0.0000000 | 0.00000000 | 0.0000000 | 0.0000000 | 0.0000000 |\n",
       "| Backward |  0.00000000 | 0.0000000 | 0.00000000 | 0.0000000 | 0.0000000 | 0.0000000 |\n",
       "| Stepwise |  0.00000000 | 0.0000000 | 0.00000000 | 0.0000000 | 0.0000000 | 0.0000000 |\n",
       "\n"
      ],
      "text/plain": [
       "            AE          MAE       MAPE       MSE       RMSE      R_adj    \n",
       "Default_reg -0.01989207 0.4217136 0.03124681 0.3840257 0.6196981 0.6113801\n",
       "Forward      0.00000000 0.0000000 0.00000000 0.0000000 0.0000000 0.0000000\n",
       "Backward     0.00000000 0.0000000 0.00000000 0.0000000 0.0000000 0.0000000\n",
       "Stepwise     0.00000000 0.0000000 0.00000000 0.0000000 0.0000000 0.0000000"
      ]
     },
     "metadata": {},
     "output_type": "display_data"
    }
   ],
   "source": [
    "reg_1_train<-droplevels(reg_1_train)\n",
    "reg_1_test <- droplevels(reg_1_test)\n",
    "####Default####\n",
    "set.seed(1)\n",
    "lm.fit_1=lm(user_rating_scaled~.,data=reg_1_train)\n",
    "#reg_1 predict\n",
    "set.seed(1)\n",
    "p.df_1=predict(lm.fit_1,newdata=reg_1_test)\n",
    "###6Measure###\n",
    "#average error\n",
    "ave.err.df_1=mean(reg_1_test$user_rating_scaled-p.df_1)\n",
    "c_data1.mat[1,1]=ave.err.df_1\n",
    "#mae\n",
    "mae.df_1=mean(abs(reg_1_test$user_rating_scaled-p.df_1))\n",
    "c_data1.mat[1,2]=mae.df_1\n",
    "#mape\n",
    "mape.df_1=0.01*mean(abs(reg_1_test$user_rating_scaled-p.df_1)/abs(reg_1_test$user_rating_scaled))\n",
    "c_data1.mat[1,3]=mape.df_1\n",
    "#mse\n",
    "mse.df_1=mean((reg_1_test$user_rating_scaled-p.df_1)^2)\n",
    "c_data1.mat[1,4]=mse.df_1\n",
    "#rmse\n",
    "rmse.df_1=sqrt(mse.df_1)\n",
    "c_data1.mat[1,5]=rmse.df_1\n",
    "#adj.r.squared\n",
    "adj.df_1=summary(lm.fit_1)$adj.r.squared\n",
    "c_data1.mat[1,6]=adj.df_1\n",
    "c_data1.mat\n"
   ]
  },
  {
   "cell_type": "markdown",
   "metadata": {},
   "source": [
    "## 1.2 Forward Selection"
   ]
  },
  {
   "cell_type": "code",
   "execution_count": 6,
   "metadata": {},
   "outputs": [
    {
     "name": "stdout",
     "output_type": "stream",
     "text": [
      "Start:  AIC=20.07\n",
      "user_rating_scaled ~ 1\n",
      "\n",
      "                   Df Sum of Sq    RSS     AIC\n",
      "+ user_rating_ver   1    3439.2 2314.9 -5200.8\n",
      "+ ipadSc_urls.num   1     418.8 5335.3  -411.4\n",
      "+ lang.num          1     167.7 5586.4  -147.6\n",
      "+ cont_rating       3     166.4 5587.7  -142.3\n",
      "+ prime_genre       1      81.8 5672.3   -60.1\n",
      "+ rating_count_tot  1      37.9 5716.2   -15.8\n",
      "+ size_mega         1      35.4 5718.7   -13.3\n",
      "+ ver               1      27.0 5727.1    -4.9\n",
      "+ price             1      10.2 5743.9    11.9\n",
      "+ sup_devices.num   1       9.0 5745.1    13.1\n",
      "<none>                          5754.1    20.1\n",
      "\n",
      "Step:  AIC=-5200.83\n",
      "user_rating_scaled ~ user_rating_ver\n",
      "\n",
      "                   Df Sum of Sq    RSS     AIC\n",
      "+ ver               1    48.156 2266.7 -5319.4\n",
      "+ ipadSc_urls.num   1    20.816 2294.1 -5250.6\n",
      "+ lang.num          1     6.896 2308.0 -5215.9\n",
      "+ price             1     5.453 2309.4 -5212.4\n",
      "+ sup_devices.num   1     5.371 2309.5 -5212.2\n",
      "+ prime_genre       1     2.966 2311.9 -5206.2\n",
      "+ rating_count_tot  1     1.334 2313.6 -5202.1\n",
      "<none>                          2314.9 -5200.8\n",
      "+ size_mega         1     0.104 2314.8 -5199.1\n",
      "+ cont_rating       3     1.359 2313.5 -5198.2\n",
      "\n",
      "Step:  AIC=-5319.41\n",
      "user_rating_scaled ~ user_rating_ver + ver\n",
      "\n",
      "                   Df Sum of Sq    RSS     AIC\n",
      "+ ipadSc_urls.num   1   24.8995 2241.8 -5380.8\n",
      "+ price             1    5.6693 2261.1 -5331.8\n",
      "+ lang.num          1    3.1544 2263.6 -5325.4\n",
      "+ cont_rating       3    4.6445 2262.1 -5325.2\n",
      "+ sup_devices.num   1    2.2938 2264.4 -5323.2\n",
      "+ size_mega         1    1.5198 2265.2 -5321.3\n",
      "+ prime_genre       1    1.1076 2265.6 -5320.2\n",
      "<none>                          2266.7 -5319.4\n",
      "+ rating_count_tot  1    0.1804 2266.6 -5317.9\n",
      "\n",
      "Step:  AIC=-5380.77\n",
      "user_rating_scaled ~ user_rating_ver + ver + ipadSc_urls.num\n",
      "\n",
      "                   Df Sum of Sq    RSS     AIC\n",
      "+ price             1    4.3293 2237.5 -5389.9\n",
      "+ lang.num          1    2.2444 2239.6 -5384.5\n",
      "+ sup_devices.num   1    1.7354 2240.1 -5383.2\n",
      "<none>                          2241.8 -5380.8\n",
      "+ cont_rating       3    2.2111 2239.6 -5380.4\n",
      "+ size_mega         1    0.3590 2241.5 -5379.7\n",
      "+ rating_count_tot  1    0.2219 2241.6 -5379.3\n",
      "+ prime_genre       1    0.1622 2241.7 -5379.2\n",
      "\n",
      "Step:  AIC=-5389.86\n",
      "user_rating_scaled ~ user_rating_ver + ver + ipadSc_urls.num + \n",
      "    price\n",
      "\n",
      "                   Df Sum of Sq    RSS     AIC\n",
      "+ lang.num          1   2.32413 2235.2 -5393.8\n",
      "+ sup_devices.num   1   1.21549 2236.3 -5391.0\n",
      "<none>                          2237.5 -5389.9\n",
      "+ cont_rating       3   2.08299 2235.4 -5389.2\n",
      "+ rating_count_tot  1   0.29608 2237.2 -5388.6\n",
      "+ size_mega         1   0.07575 2237.4 -5388.1\n",
      "+ prime_genre       1   0.05260 2237.5 -5388.0\n",
      "\n",
      "Step:  AIC=-5393.82\n",
      "user_rating_scaled ~ user_rating_ver + ver + ipadSc_urls.num + \n",
      "    price + lang.num\n",
      "\n",
      "                   Df Sum of Sq    RSS     AIC\n",
      "+ sup_devices.num   1   1.12757 2234.1 -5394.7\n",
      "<none>                          2235.2 -5393.8\n",
      "+ cont_rating       3   2.33054 2232.9 -5393.8\n",
      "+ rating_count_tot  1   0.15025 2235.0 -5392.2\n",
      "+ size_mega         1   0.07279 2235.1 -5392.0\n",
      "+ prime_genre       1   0.00051 2235.2 -5391.8\n",
      "\n",
      "Step:  AIC=-5394.71\n",
      "user_rating_scaled ~ user_rating_ver + ver + ipadSc_urls.num + \n",
      "    price + lang.num + sup_devices.num\n",
      "\n",
      "                   Df Sum of Sq    RSS     AIC\n",
      "+ cont_rating       3   2.44001 2231.6 -5395.0\n",
      "<none>                          2234.1 -5394.7\n",
      "+ rating_count_tot  1   0.16777 2233.9 -5393.1\n",
      "+ prime_genre       1   0.02718 2234.0 -5392.8\n",
      "+ size_mega         1   0.02405 2234.0 -5392.8\n",
      "\n",
      "Step:  AIC=-5394.98\n",
      "user_rating_scaled ~ user_rating_ver + ver + ipadSc_urls.num + \n",
      "    price + lang.num + sup_devices.num + cont_rating\n",
      "\n",
      "                   Df Sum of Sq    RSS     AIC\n",
      "<none>                          2231.6 -5395.0\n",
      "+ rating_count_tot  1  0.116820 2231.5 -5393.3\n",
      "+ prime_genre       1  0.018254 2231.6 -5393.0\n",
      "+ size_mega         1  0.003396 2231.6 -5393.0\n"
     ]
    }
   ],
   "source": [
    "####Forward####\n",
    "lm.null_1=lm(user_rating_scaled~1,data=reg_1_train)\n",
    "for_1=step(lm.null_1,direction=\"forward\",scope=formula(lm.fit_1))\n",
    "f.for_1=lm(formula(for_1),data=reg_1_train)\n",
    "#reg_1 predict\n",
    "p.for_1=predict(f.for_1,newdata=reg_1_test)\n",
    "###6Measure###\n",
    "\n",
    "#average error\n",
    "ave.err.for_1=mean(reg_1_test$user_rating_scaled-p.for_1)\n",
    "c_data1.mat[2,1]=ave.err.for_1\n",
    "#mae\n",
    "mae.for_1=mean(abs(reg_1_test$user_rating_scaled-p.for_1))\n",
    "c_data1.mat[2,2]=mae.for_1\n",
    "#mape\n",
    "mape.for_1=0.01*mean(abs(reg_1_test$user_rating_scaled-p.for_1)/abs(reg_1_test$user_rating_scaled))\n",
    "c_data1.mat[2,3]=mape.for_1\n",
    "#mse\n",
    "mse.for_1=mean((reg_1_test$user_rating_scaled-p.for_1)^2)\n",
    "c_data1.mat[2,4]=mse.for_1\n",
    "#rmse\n",
    "rmse.for_1=sqrt(mse.for_1)\n",
    "c_data1.mat[2,5]=rmse.for_1\n",
    "#adj.r.squared\n",
    "adj.for_1=summary(for_1)$adj.r.squared\n",
    "c_data1.mat[2,6]=adj.for_1"
   ]
  },
  {
   "cell_type": "code",
   "execution_count": 7,
   "metadata": {},
   "outputs": [
    {
     "data": {
      "text/html": [
       "<table>\n",
       "<caption>A matrix: 4 × 6 of type dbl</caption>\n",
       "<thead>\n",
       "\t<tr><th></th><th scope=col>AE</th><th scope=col>MAE</th><th scope=col>MAPE</th><th scope=col>MSE</th><th scope=col>RMSE</th><th scope=col>R_adj</th></tr>\n",
       "</thead>\n",
       "<tbody>\n",
       "\t<tr><th scope=row>Default_reg</th><td>-0.01989207</td><td>0.4217136</td><td>0.03124681</td><td>0.3840257</td><td>0.6196981</td><td>0.6113801</td></tr>\n",
       "\t<tr><th scope=row>Forward</th><td>-0.02012952</td><td>0.4215807</td><td>0.03124251</td><td>0.3840035</td><td>0.6196801</td><td>0.6115592</td></tr>\n",
       "\t<tr><th scope=row>Backward</th><td> 0.00000000</td><td>0.0000000</td><td>0.00000000</td><td>0.0000000</td><td>0.0000000</td><td>0.0000000</td></tr>\n",
       "\t<tr><th scope=row>Stepwise</th><td> 0.00000000</td><td>0.0000000</td><td>0.00000000</td><td>0.0000000</td><td>0.0000000</td><td>0.0000000</td></tr>\n",
       "</tbody>\n",
       "</table>\n"
      ],
      "text/latex": [
       "A matrix: 4 × 6 of type dbl\n",
       "\\begin{tabular}{r|llllll}\n",
       "  & AE & MAE & MAPE & MSE & RMSE & R\\_adj\\\\\n",
       "\\hline\n",
       "\tDefault\\_reg & -0.01989207 & 0.4217136 & 0.03124681 & 0.3840257 & 0.6196981 & 0.6113801\\\\\n",
       "\tForward & -0.02012952 & 0.4215807 & 0.03124251 & 0.3840035 & 0.6196801 & 0.6115592\\\\\n",
       "\tBackward &  0.00000000 & 0.0000000 & 0.00000000 & 0.0000000 & 0.0000000 & 0.0000000\\\\\n",
       "\tStepwise &  0.00000000 & 0.0000000 & 0.00000000 & 0.0000000 & 0.0000000 & 0.0000000\\\\\n",
       "\\end{tabular}\n"
      ],
      "text/markdown": [
       "\n",
       "A matrix: 4 × 6 of type dbl\n",
       "\n",
       "| <!--/--> | AE | MAE | MAPE | MSE | RMSE | R_adj |\n",
       "|---|---|---|---|---|---|---|\n",
       "| Default_reg | -0.01989207 | 0.4217136 | 0.03124681 | 0.3840257 | 0.6196981 | 0.6113801 |\n",
       "| Forward | -0.02012952 | 0.4215807 | 0.03124251 | 0.3840035 | 0.6196801 | 0.6115592 |\n",
       "| Backward |  0.00000000 | 0.0000000 | 0.00000000 | 0.0000000 | 0.0000000 | 0.0000000 |\n",
       "| Stepwise |  0.00000000 | 0.0000000 | 0.00000000 | 0.0000000 | 0.0000000 | 0.0000000 |\n",
       "\n"
      ],
      "text/plain": [
       "            AE          MAE       MAPE       MSE       RMSE      R_adj    \n",
       "Default_reg -0.01989207 0.4217136 0.03124681 0.3840257 0.6196981 0.6113801\n",
       "Forward     -0.02012952 0.4215807 0.03124251 0.3840035 0.6196801 0.6115592\n",
       "Backward     0.00000000 0.0000000 0.00000000 0.0000000 0.0000000 0.0000000\n",
       "Stepwise     0.00000000 0.0000000 0.00000000 0.0000000 0.0000000 0.0000000"
      ]
     },
     "metadata": {},
     "output_type": "display_data"
    }
   ],
   "source": [
    "c_data1.mat"
   ]
  },
  {
   "cell_type": "markdown",
   "metadata": {},
   "source": [
    "## 1.3 backward elimination"
   ]
  },
  {
   "cell_type": "code",
   "execution_count": 8,
   "metadata": {},
   "outputs": [
    {
     "name": "stdout",
     "output_type": "stream",
     "text": [
      "Start:  AIC=-5389.34\n",
      "user_rating_scaled ~ price + rating_count_tot + user_rating_ver + \n",
      "    ver + cont_rating + prime_genre + sup_devices.num + ipadSc_urls.num + \n",
      "    lang.num + size_mega\n",
      "\n",
      "                   Df Sum of Sq    RSS     AIC\n",
      "- size_mega         1      0.00 2231.5 -5391.3\n",
      "- prime_genre       1      0.02 2231.5 -5391.3\n",
      "- rating_count_tot  1      0.12 2231.6 -5391.0\n",
      "<none>                          2231.5 -5389.3\n",
      "- cont_rating       3      2.38 2233.9 -5389.2\n",
      "- sup_devices.num   1      1.14 2232.6 -5388.4\n",
      "- lang.num          1      2.24 2233.7 -5385.6\n",
      "- price             1      3.66 2235.1 -5382.0\n",
      "- ipadSc_urls.num   1     18.64 2250.1 -5343.6\n",
      "- ver               1     40.90 2272.4 -5287.2\n",
      "- user_rating_ver   1   2799.81 5031.3  -727.9\n",
      "\n",
      "Step:  AIC=-5391.34\n",
      "user_rating_scaled ~ price + rating_count_tot + user_rating_ver + \n",
      "    ver + cont_rating + prime_genre + sup_devices.num + ipadSc_urls.num + \n",
      "    lang.num\n",
      "\n",
      "                   Df Sum of Sq    RSS     AIC\n",
      "- prime_genre       1      0.02 2231.5 -5393.3\n",
      "- rating_count_tot  1      0.12 2231.6 -5393.0\n",
      "<none>                          2231.5 -5391.3\n",
      "- cont_rating       3      2.39 2233.9 -5391.2\n",
      "- sup_devices.num   1      1.15 2232.6 -5390.4\n",
      "- lang.num          1      2.24 2233.7 -5387.6\n",
      "- price             1      3.74 2235.2 -5383.7\n",
      "- ipadSc_urls.num   1     18.67 2250.2 -5345.5\n",
      "- ver               1     41.01 2272.5 -5288.9\n",
      "- user_rating_ver   1   2802.33 5033.8  -727.0\n",
      "\n",
      "Step:  AIC=-5393.28\n",
      "user_rating_scaled ~ price + rating_count_tot + user_rating_ver + \n",
      "    ver + cont_rating + sup_devices.num + ipadSc_urls.num + lang.num\n",
      "\n",
      "                   Df Sum of Sq    RSS     AIC\n",
      "- rating_count_tot  1      0.12 2231.6 -5395.0\n",
      "<none>                          2231.5 -5393.3\n",
      "- cont_rating       3      2.39 2233.9 -5393.1\n",
      "- sup_devices.num   1      1.25 2232.8 -5392.1\n",
      "- lang.num          1      2.34 2233.8 -5389.3\n",
      "- price             1      3.80 2235.3 -5385.5\n",
      "- ipadSc_urls.num   1     20.07 2251.6 -5343.9\n",
      "- ver               1     46.93 2278.4 -5275.9\n",
      "- user_rating_ver   1   2833.34 5064.8  -693.8\n",
      "\n",
      "Step:  AIC=-5394.98\n",
      "user_rating_scaled ~ price + user_rating_ver + ver + cont_rating + \n",
      "    sup_devices.num + ipadSc_urls.num + lang.num\n",
      "\n",
      "                  Df Sum of Sq    RSS     AIC\n",
      "<none>                         2231.6 -5395.0\n",
      "- cont_rating      3      2.44 2234.1 -5394.7\n",
      "- sup_devices.num  1      1.24 2232.9 -5393.8\n",
      "- lang.num         1      2.48 2234.1 -5390.6\n",
      "- price            1      3.76 2235.4 -5387.3\n",
      "- ipadSc_urls.num  1     20.03 2251.6 -5345.7\n",
      "- ver              1     47.85 2279.5 -5275.3\n",
      "- user_rating_ver  1   2848.09 5079.7  -679.0\n"
     ]
    }
   ],
   "source": [
    "####Backward####\n",
    "back_1=step(lm.fit_1,direction=\"backward\")\n",
    "f.back_1=lm(formula(back_1),data=reg_1_train)\n",
    "#reg_1 predict\n",
    "p.back_1=predict(f.back_1,newdata=reg_1_test)\n",
    "\n",
    "\n",
    "#average error\n",
    "ave.err.back_1=mean(reg_1_test$user_rating_scaled-p.back_1)\n",
    "c_data1.mat[3,1]=ave.err.back_1\n",
    "#mae\n",
    "mae.back_1=mean(abs(reg_1_test$user_rating_scaled-p.back_1))\n",
    "c_data1.mat[3,2]=mae.back_1\n",
    "#mape\n",
    "mape.back_1=0.01*mean(abs(reg_1_test$user_rating_scaled-p.back_1)/abs(reg_1_test$user_rating_scaled))\n",
    "c_data1.mat[3,3]=mape.back_1\n",
    "#mse\n",
    "mse.back_1=mean((reg_1_test$user_rating_scaled-p.back_1)^2)\n",
    "c_data1.mat[3,4]=mse.back_1\n",
    "#rmse\n",
    "rmse.back_1=sqrt(mse.back_1)\n",
    "c_data1.mat[3,5]=rmse.back_1\n",
    "#adj.r.squared\n",
    "adj.back_1=summary(back_1)$adj.r.squared\n",
    "c_data1.mat[3,6]=adj.back_1\n"
   ]
  },
  {
   "cell_type": "code",
   "execution_count": 9,
   "metadata": {},
   "outputs": [
    {
     "data": {
      "text/html": [
       "<table>\n",
       "<caption>A matrix: 4 × 6 of type dbl</caption>\n",
       "<thead>\n",
       "\t<tr><th></th><th scope=col>AE</th><th scope=col>MAE</th><th scope=col>MAPE</th><th scope=col>MSE</th><th scope=col>RMSE</th><th scope=col>R_adj</th></tr>\n",
       "</thead>\n",
       "<tbody>\n",
       "\t<tr><th scope=row>Default_reg</th><td>-0.01989207</td><td>0.4217136</td><td>0.03124681</td><td>0.3840257</td><td>0.6196981</td><td>0.6113801</td></tr>\n",
       "\t<tr><th scope=row>Forward</th><td>-0.02012952</td><td>0.4215807</td><td>0.03124251</td><td>0.3840035</td><td>0.6196801</td><td>0.6115592</td></tr>\n",
       "\t<tr><th scope=row>Backward</th><td>-0.02012952</td><td>0.4215807</td><td>0.03124251</td><td>0.3840035</td><td>0.6196801</td><td>0.6115592</td></tr>\n",
       "\t<tr><th scope=row>Stepwise</th><td> 0.00000000</td><td>0.0000000</td><td>0.00000000</td><td>0.0000000</td><td>0.0000000</td><td>0.0000000</td></tr>\n",
       "</tbody>\n",
       "</table>\n"
      ],
      "text/latex": [
       "A matrix: 4 × 6 of type dbl\n",
       "\\begin{tabular}{r|llllll}\n",
       "  & AE & MAE & MAPE & MSE & RMSE & R\\_adj\\\\\n",
       "\\hline\n",
       "\tDefault\\_reg & -0.01989207 & 0.4217136 & 0.03124681 & 0.3840257 & 0.6196981 & 0.6113801\\\\\n",
       "\tForward & -0.02012952 & 0.4215807 & 0.03124251 & 0.3840035 & 0.6196801 & 0.6115592\\\\\n",
       "\tBackward & -0.02012952 & 0.4215807 & 0.03124251 & 0.3840035 & 0.6196801 & 0.6115592\\\\\n",
       "\tStepwise &  0.00000000 & 0.0000000 & 0.00000000 & 0.0000000 & 0.0000000 & 0.0000000\\\\\n",
       "\\end{tabular}\n"
      ],
      "text/markdown": [
       "\n",
       "A matrix: 4 × 6 of type dbl\n",
       "\n",
       "| <!--/--> | AE | MAE | MAPE | MSE | RMSE | R_adj |\n",
       "|---|---|---|---|---|---|---|\n",
       "| Default_reg | -0.01989207 | 0.4217136 | 0.03124681 | 0.3840257 | 0.6196981 | 0.6113801 |\n",
       "| Forward | -0.02012952 | 0.4215807 | 0.03124251 | 0.3840035 | 0.6196801 | 0.6115592 |\n",
       "| Backward | -0.02012952 | 0.4215807 | 0.03124251 | 0.3840035 | 0.6196801 | 0.6115592 |\n",
       "| Stepwise |  0.00000000 | 0.0000000 | 0.00000000 | 0.0000000 | 0.0000000 | 0.0000000 |\n",
       "\n"
      ],
      "text/plain": [
       "            AE          MAE       MAPE       MSE       RMSE      R_adj    \n",
       "Default_reg -0.01989207 0.4217136 0.03124681 0.3840257 0.6196981 0.6113801\n",
       "Forward     -0.02012952 0.4215807 0.03124251 0.3840035 0.6196801 0.6115592\n",
       "Backward    -0.02012952 0.4215807 0.03124251 0.3840035 0.6196801 0.6115592\n",
       "Stepwise     0.00000000 0.0000000 0.00000000 0.0000000 0.0000000 0.0000000"
      ]
     },
     "metadata": {},
     "output_type": "display_data"
    }
   ],
   "source": [
    "c_data1.mat"
   ]
  },
  {
   "cell_type": "markdown",
   "metadata": {},
   "source": [
    "## 1.4 stepwise "
   ]
  },
  {
   "cell_type": "code",
   "execution_count": 10,
   "metadata": {},
   "outputs": [
    {
     "name": "stdout",
     "output_type": "stream",
     "text": [
      "Start:  AIC=20.07\n",
      "user_rating_scaled ~ 1\n",
      "\n",
      "                   Df Sum of Sq    RSS     AIC\n",
      "+ user_rating_ver   1    3439.2 2314.9 -5200.8\n",
      "+ ipadSc_urls.num   1     418.8 5335.3  -411.4\n",
      "+ lang.num          1     167.7 5586.4  -147.6\n",
      "+ cont_rating       3     166.4 5587.7  -142.3\n",
      "+ prime_genre       1      81.8 5672.3   -60.1\n",
      "+ rating_count_tot  1      37.9 5716.2   -15.8\n",
      "+ size_mega         1      35.4 5718.7   -13.3\n",
      "+ ver               1      27.0 5727.1    -4.9\n",
      "+ price             1      10.2 5743.9    11.9\n",
      "+ sup_devices.num   1       9.0 5745.1    13.1\n",
      "<none>                          5754.1    20.1\n",
      "\n",
      "Step:  AIC=-5200.83\n",
      "user_rating_scaled ~ user_rating_ver\n",
      "\n",
      "                   Df Sum of Sq    RSS     AIC\n",
      "+ ver               1      48.2 2266.7 -5319.4\n",
      "+ ipadSc_urls.num   1      20.8 2294.1 -5250.6\n",
      "+ lang.num          1       6.9 2308.0 -5215.9\n",
      "+ price             1       5.5 2309.4 -5212.4\n",
      "+ sup_devices.num   1       5.4 2309.5 -5212.2\n",
      "+ prime_genre       1       3.0 2311.9 -5206.2\n",
      "+ rating_count_tot  1       1.3 2313.6 -5202.1\n",
      "<none>                          2314.9 -5200.8\n",
      "+ size_mega         1       0.1 2314.8 -5199.1\n",
      "+ cont_rating       3       1.4 2313.5 -5198.2\n",
      "- user_rating_ver   1    3439.2 5754.1    20.1\n",
      "\n",
      "Step:  AIC=-5319.41\n",
      "user_rating_scaled ~ user_rating_ver + ver\n",
      "\n",
      "                   Df Sum of Sq    RSS     AIC\n",
      "+ ipadSc_urls.num   1      24.9 2241.8 -5380.8\n",
      "+ price             1       5.7 2261.1 -5331.8\n",
      "+ lang.num          1       3.2 2263.6 -5325.4\n",
      "+ cont_rating       3       4.6 2262.1 -5325.2\n",
      "+ sup_devices.num   1       2.3 2264.4 -5323.2\n",
      "+ size_mega         1       1.5 2265.2 -5321.3\n",
      "+ prime_genre       1       1.1 2265.6 -5320.2\n",
      "<none>                          2266.7 -5319.4\n",
      "+ rating_count_tot  1       0.2 2266.6 -5317.9\n",
      "- ver               1      48.2 2314.9 -5200.8\n",
      "- user_rating_ver   1    3460.3 5727.1    -4.9\n",
      "\n",
      "Step:  AIC=-5380.77\n",
      "user_rating_scaled ~ user_rating_ver + ver + ipadSc_urls.num\n",
      "\n",
      "                   Df Sum of Sq    RSS     AIC\n",
      "+ price             1      4.33 2237.5 -5389.9\n",
      "+ lang.num          1      2.24 2239.6 -5384.5\n",
      "+ sup_devices.num   1      1.74 2240.1 -5383.2\n",
      "<none>                          2241.8 -5380.8\n",
      "+ cont_rating       3      2.21 2239.6 -5380.4\n",
      "+ size_mega         1      0.36 2241.5 -5379.7\n",
      "+ rating_count_tot  1      0.22 2241.6 -5379.3\n",
      "+ prime_genre       1      0.16 2241.7 -5379.2\n",
      "- ipadSc_urls.num   1     24.90 2266.7 -5319.4\n",
      "- ver               1     52.24 2294.1 -5250.6\n",
      "- user_rating_ver   1   3050.35 5292.2  -455.9\n",
      "\n",
      "Step:  AIC=-5389.86\n",
      "user_rating_scaled ~ user_rating_ver + ver + ipadSc_urls.num + \n",
      "    price\n",
      "\n",
      "                   Df Sum of Sq    RSS     AIC\n",
      "+ lang.num          1      2.32 2235.2 -5393.8\n",
      "+ sup_devices.num   1      1.22 2236.3 -5391.0\n",
      "<none>                          2237.5 -5389.9\n",
      "+ cont_rating       3      2.08 2235.4 -5389.2\n",
      "+ rating_count_tot  1      0.30 2237.2 -5388.6\n",
      "+ size_mega         1      0.08 2237.4 -5388.1\n",
      "+ prime_genre       1      0.05 2237.5 -5388.0\n",
      "- price             1      4.33 2241.8 -5380.8\n",
      "- ipadSc_urls.num   1     23.56 2261.1 -5331.8\n",
      "- ver               1     52.33 2289.8 -5259.3\n",
      "- user_rating_ver   1   3050.96 5288.5  -457.9\n",
      "\n",
      "Step:  AIC=-5393.82\n",
      "user_rating_scaled ~ user_rating_ver + ver + ipadSc_urls.num + \n",
      "    price + lang.num\n",
      "\n",
      "                   Df Sum of Sq    RSS     AIC\n",
      "+ sup_devices.num   1      1.13 2234.1 -5394.7\n",
      "<none>                          2235.2 -5393.8\n",
      "+ cont_rating       3      2.33 2232.9 -5393.8\n",
      "+ rating_count_tot  1      0.15 2235.0 -5392.2\n",
      "+ size_mega         1      0.07 2235.1 -5392.0\n",
      "+ prime_genre       1      0.00 2235.2 -5391.8\n",
      "- lang.num          1      2.32 2237.5 -5389.9\n",
      "- price             1      4.41 2239.6 -5384.5\n",
      "- ipadSc_urls.num   1     22.65 2257.8 -5338.0\n",
      "- ver               1     48.72 2283.9 -5272.1\n",
      "- user_rating_ver   1   2945.83 5181.0  -573.7\n",
      "\n",
      "Step:  AIC=-5394.71\n",
      "user_rating_scaled ~ user_rating_ver + ver + ipadSc_urls.num + \n",
      "    price + lang.num + sup_devices.num\n",
      "\n",
      "                   Df Sum of Sq    RSS     AIC\n",
      "+ cont_rating       3      2.44 2231.6 -5395.0\n",
      "<none>                          2234.1 -5394.7\n",
      "- sup_devices.num   1      1.13 2235.2 -5393.8\n",
      "+ rating_count_tot  1      0.17 2233.9 -5393.1\n",
      "+ prime_genre       1      0.03 2234.0 -5392.8\n",
      "+ size_mega         1      0.02 2234.0 -5392.8\n",
      "- lang.num          1      2.24 2236.3 -5391.0\n",
      "- price             1      3.90 2238.0 -5386.7\n",
      "- ipadSc_urls.num   1     22.31 2256.4 -5339.7\n",
      "- ver               1     46.37 2280.4 -5278.9\n",
      "- user_rating_ver   1   2945.87 5179.9  -572.9\n",
      "\n",
      "Step:  AIC=-5394.98\n",
      "user_rating_scaled ~ user_rating_ver + ver + ipadSc_urls.num + \n",
      "    price + lang.num + sup_devices.num + cont_rating\n",
      "\n",
      "                   Df Sum of Sq    RSS     AIC\n",
      "<none>                          2231.6 -5395.0\n",
      "- cont_rating       3      2.44 2234.1 -5394.7\n",
      "- sup_devices.num   1      1.24 2232.9 -5393.8\n",
      "+ rating_count_tot  1      0.12 2231.5 -5393.3\n",
      "+ prime_genre       1      0.02 2231.6 -5393.0\n",
      "+ size_mega         1      0.00 2231.6 -5393.0\n",
      "- lang.num          1      2.48 2234.1 -5390.6\n",
      "- price             1      3.76 2235.4 -5387.3\n",
      "- ipadSc_urls.num   1     20.03 2251.6 -5345.7\n",
      "- ver               1     47.85 2279.5 -5275.3\n",
      "- user_rating_ver   1   2848.09 5079.7  -679.0\n"
     ]
    }
   ],
   "source": [
    "####Stepwise####\n",
    "lm.null_1=lm(user_rating_scaled~1,data=reg_1_train)\n",
    "step_1=step(lm.null_1,direction=\"both\",scope=formula(lm.fit_1))\n",
    "f.step_1=lm(formula(step_1),data=reg_1_train)\n",
    "#reg_1 predict\n",
    "p.step_1=predict(f.step_1,newdata=reg_1_test)\n",
    "\n",
    "\n",
    "#average error\n",
    "ave.err.step_1=mean(reg_1_test$user_rating_scaled-p.step_1)\n",
    "c_data1.mat[4,1]=ave.err.step_1\n",
    "#mae\n",
    "mae.step_1=mean(abs(reg_1_test$user_rating_scaled-p.step_1))\n",
    "c_data1.mat[4,2]=mae.step_1\n",
    "#mape\n",
    "mape.step_1=0.01*mean(abs(reg_1_test$user_rating_scaled-p.step_1)/abs(reg_1_test$user_rating_scaled))\n",
    "c_data1.mat[4,3]=mape.step_1\n",
    "#mse\n",
    "mse.step_1=mean((reg_1_test$user_rating_scaled-p.step_1)^2)\n",
    "c_data1.mat[4,4]=mse.step_1\n",
    "#rmse\n",
    "rmse.step_1=sqrt(mse.step_1)\n",
    "c_data1.mat[4,5]=rmse.step_1\n",
    "#adj.r.squared\n",
    "adj.step_1=summary(step_1)$adj.r.squared\n",
    "c_data1.mat[4,6]=adj.step_1\n"
   ]
  },
  {
   "cell_type": "code",
   "execution_count": 11,
   "metadata": {},
   "outputs": [
    {
     "data": {
      "text/html": [
       "<table>\n",
       "<caption>A matrix: 4 × 6 of type dbl</caption>\n",
       "<thead>\n",
       "\t<tr><th></th><th scope=col>AE</th><th scope=col>MAE</th><th scope=col>MAPE</th><th scope=col>MSE</th><th scope=col>RMSE</th><th scope=col>R_adj</th></tr>\n",
       "</thead>\n",
       "<tbody>\n",
       "\t<tr><th scope=row>Default_reg</th><td>-0.01989207</td><td>0.4217136</td><td>0.03124681</td><td>0.3840257</td><td>0.6196981</td><td>0.6113801</td></tr>\n",
       "\t<tr><th scope=row>Forward</th><td>-0.02012952</td><td>0.4215807</td><td>0.03124251</td><td>0.3840035</td><td>0.6196801</td><td>0.6115592</td></tr>\n",
       "\t<tr><th scope=row>Backward</th><td>-0.02012952</td><td>0.4215807</td><td>0.03124251</td><td>0.3840035</td><td>0.6196801</td><td>0.6115592</td></tr>\n",
       "\t<tr><th scope=row>Stepwise</th><td>-0.02012952</td><td>0.4215807</td><td>0.03124251</td><td>0.3840035</td><td>0.6196801</td><td>0.6115592</td></tr>\n",
       "</tbody>\n",
       "</table>\n"
      ],
      "text/latex": [
       "A matrix: 4 × 6 of type dbl\n",
       "\\begin{tabular}{r|llllll}\n",
       "  & AE & MAE & MAPE & MSE & RMSE & R\\_adj\\\\\n",
       "\\hline\n",
       "\tDefault\\_reg & -0.01989207 & 0.4217136 & 0.03124681 & 0.3840257 & 0.6196981 & 0.6113801\\\\\n",
       "\tForward & -0.02012952 & 0.4215807 & 0.03124251 & 0.3840035 & 0.6196801 & 0.6115592\\\\\n",
       "\tBackward & -0.02012952 & 0.4215807 & 0.03124251 & 0.3840035 & 0.6196801 & 0.6115592\\\\\n",
       "\tStepwise & -0.02012952 & 0.4215807 & 0.03124251 & 0.3840035 & 0.6196801 & 0.6115592\\\\\n",
       "\\end{tabular}\n"
      ],
      "text/markdown": [
       "\n",
       "A matrix: 4 × 6 of type dbl\n",
       "\n",
       "| <!--/--> | AE | MAE | MAPE | MSE | RMSE | R_adj |\n",
       "|---|---|---|---|---|---|---|\n",
       "| Default_reg | -0.01989207 | 0.4217136 | 0.03124681 | 0.3840257 | 0.6196981 | 0.6113801 |\n",
       "| Forward | -0.02012952 | 0.4215807 | 0.03124251 | 0.3840035 | 0.6196801 | 0.6115592 |\n",
       "| Backward | -0.02012952 | 0.4215807 | 0.03124251 | 0.3840035 | 0.6196801 | 0.6115592 |\n",
       "| Stepwise | -0.02012952 | 0.4215807 | 0.03124251 | 0.3840035 | 0.6196801 | 0.6115592 |\n",
       "\n"
      ],
      "text/plain": [
       "            AE          MAE       MAPE       MSE       RMSE      R_adj    \n",
       "Default_reg -0.01989207 0.4217136 0.03124681 0.3840257 0.6196981 0.6113801\n",
       "Forward     -0.02012952 0.4215807 0.03124251 0.3840035 0.6196801 0.6115592\n",
       "Backward    -0.02012952 0.4215807 0.03124251 0.3840035 0.6196801 0.6115592\n",
       "Stepwise    -0.02012952 0.4215807 0.03124251 0.3840035 0.6196801 0.6115592"
      ]
     },
     "metadata": {},
     "output_type": "display_data"
    }
   ],
   "source": [
    "c_data1.mat"
   ]
  },
  {
   "cell_type": "markdown",
   "metadata": {},
   "source": [
    "# 2. result"
   ]
  },
  {
   "cell_type": "markdown",
   "metadata": {},
   "source": [
    "- 모든 measure에 대하여 변수 선택기법을 적용한 경우 같은 수치가 나왔다.\n",
    "\n",
    "- 그 이유는 3개의 모델이 모두 같은 변수를 선택했기 때문이다.\n",
    "\n",
    "- user_rating_ver, ver, ipadSc_urls.num, price, lang.num, cont_rating~"
   ]
  },
  {
   "cell_type": "code",
   "execution_count": 12,
   "metadata": {
    "scrolled": true
   },
   "outputs": [
    {
     "data": {
      "text/plain": [
       "\n",
       "Call:\n",
       "lm(formula = formula(for_1), data = reg_1_train)\n",
       "\n",
       "Coefficients:\n",
       "    (Intercept)  user_rating_ver            ver.L  ipadSc_urls.num  \n",
       "      -1.292936         0.414882         0.135269         0.031592  \n",
       "          price         lang.num  sup_devices.num   cont_rating17+  \n",
       "       0.004163         0.002730        -0.003973        -0.078198  \n",
       "  cont_rating4+    cont_rating9+  \n",
       "      -0.034431        -0.002569  \n"
      ]
     },
     "metadata": {},
     "output_type": "display_data"
    }
   ],
   "source": [
    "f.for_1"
   ]
  },
  {
   "cell_type": "code",
   "execution_count": 13,
   "metadata": {
    "scrolled": true
   },
   "outputs": [
    {
     "data": {
      "text/plain": [
       "\n",
       "Call:\n",
       "lm(formula = formula(back_1), data = reg_1_train)\n",
       "\n",
       "Coefficients:\n",
       "    (Intercept)            price  user_rating_ver            ver.L  \n",
       "      -1.292936         0.004163         0.414882         0.135269  \n",
       " cont_rating17+    cont_rating4+    cont_rating9+  sup_devices.num  \n",
       "      -0.078198        -0.034431        -0.002569        -0.003973  \n",
       "ipadSc_urls.num         lang.num  \n",
       "       0.031592         0.002730  \n"
      ]
     },
     "metadata": {},
     "output_type": "display_data"
    }
   ],
   "source": [
    "f.back_1"
   ]
  },
  {
   "cell_type": "code",
   "execution_count": 14,
   "metadata": {
    "scrolled": true
   },
   "outputs": [
    {
     "data": {
      "text/plain": [
       "\n",
       "Call:\n",
       "lm(formula = formula(step_1), data = reg_1_train)\n",
       "\n",
       "Coefficients:\n",
       "    (Intercept)  user_rating_ver            ver.L  ipadSc_urls.num  \n",
       "      -1.292936         0.414882         0.135269         0.031592  \n",
       "          price         lang.num  sup_devices.num   cont_rating17+  \n",
       "       0.004163         0.002730        -0.003973        -0.078198  \n",
       "  cont_rating4+    cont_rating9+  \n",
       "      -0.034431        -0.002569  \n"
      ]
     },
     "metadata": {},
     "output_type": "display_data"
    }
   ],
   "source": [
    "f.step_1"
   ]
  },
  {
   "cell_type": "markdown",
   "metadata": {},
   "source": [
    "# 3.   Data 2\n",
    "\n",
    "## prime_genre : \n",
    "\n",
    "### 'Education' 'Entertainment' 'Games' 'Photo & Video' 'Utilities' 'etc'\n",
    "\n",
    "\n",
    "- 6measure\n",
    "\n",
    "      Average Error, MAE(Mean Absolute Error), \n",
    "      MAPE(Mean Absolute Percentage Error), MSE, RMSE, R^2_adj\n",
    "      \n",
    "\n",
    "- data : reg_2_train & reg_2_test      "
   ]
  },
  {
   "cell_type": "markdown",
   "metadata": {},
   "source": [
    "- rating_count_ver, sum_rate_ver은 상관계수와 VIF가 높게 나와 제거했다"
   ]
  },
  {
   "cell_type": "code",
   "execution_count": 16,
   "metadata": {
    "scrolled": true
   },
   "outputs": [
    {
     "data": {
      "text/html": [
       "<ol class=list-inline>\n",
       "\t<li>'Education'</li>\n",
       "\t<li>'Entertainment'</li>\n",
       "\t<li>'Games'</li>\n",
       "\t<li>'Photo &amp; Video'</li>\n",
       "\t<li>'Utilities'</li>\n",
       "\t<li>'etc'</li>\n",
       "</ol>\n"
      ],
      "text/latex": [
       "\\begin{enumerate*}\n",
       "\\item 'Education'\n",
       "\\item 'Entertainment'\n",
       "\\item 'Games'\n",
       "\\item 'Photo \\& Video'\n",
       "\\item 'Utilities'\n",
       "\\item 'etc'\n",
       "\\end{enumerate*}\n"
      ],
      "text/markdown": [
       "1. 'Education'\n",
       "2. 'Entertainment'\n",
       "3. 'Games'\n",
       "4. 'Photo &amp; Video'\n",
       "5. 'Utilities'\n",
       "6. 'etc'\n",
       "\n",
       "\n"
      ],
      "text/plain": [
       "[1] \"Education\"     \"Entertainment\" \"Games\"         \"Photo & Video\"\n",
       "[5] \"Utilities\"     \"etc\"          "
      ]
     },
     "metadata": {},
     "output_type": "display_data"
    }
   ],
   "source": [
    "load('reg_2_train.rda')\n",
    "load('reg_2_test.rda')\n",
    "levels(reg_2_train$prime_genre)"
   ]
  },
  {
   "cell_type": "code",
   "execution_count": 17,
   "metadata": {},
   "outputs": [],
   "source": [
    "drops=c(\"rating_count_ver\",\"sum_rate_ver\")\n",
    "reg_2_train=reg_2_train[ , !(names(reg_2_train) %in% drops)]\n",
    "reg_2_test=reg_2_test[ , !(names(reg_2_test) %in% drops)]\n",
    "reg_2_train<-droplevels(reg_2_train)\n",
    "reg_2_test <- droplevels(reg_2_test)\n",
    "# 코드재사용을 위해 이름 덮어쓰기\n",
    "reg_1_train = reg_2_train\n",
    "reg_1_test = reg_2_test"
   ]
  },
  {
   "cell_type": "markdown",
   "metadata": {},
   "source": [
    "## 3.1 linear-regression"
   ]
  },
  {
   "cell_type": "code",
   "execution_count": 18,
   "metadata": {},
   "outputs": [
    {
     "data": {
      "text/html": [
       "<table>\n",
       "<caption>A matrix: 4 × 6 of type dbl</caption>\n",
       "<thead>\n",
       "\t<tr><th></th><th scope=col>AE</th><th scope=col>MAE</th><th scope=col>MAPE</th><th scope=col>MSE</th><th scope=col>RMSE</th><th scope=col>R_adj</th></tr>\n",
       "</thead>\n",
       "<tbody>\n",
       "\t<tr><th scope=row>Default_reg</th><td>0</td><td>0</td><td>0</td><td>0</td><td>0</td><td>0</td></tr>\n",
       "\t<tr><th scope=row>Forward</th><td>0</td><td>0</td><td>0</td><td>0</td><td>0</td><td>0</td></tr>\n",
       "\t<tr><th scope=row>Backward</th><td>0</td><td>0</td><td>0</td><td>0</td><td>0</td><td>0</td></tr>\n",
       "\t<tr><th scope=row>Stepwise</th><td>0</td><td>0</td><td>0</td><td>0</td><td>0</td><td>0</td></tr>\n",
       "</tbody>\n",
       "</table>\n"
      ],
      "text/latex": [
       "A matrix: 4 × 6 of type dbl\n",
       "\\begin{tabular}{r|llllll}\n",
       "  & AE & MAE & MAPE & MSE & RMSE & R\\_adj\\\\\n",
       "\\hline\n",
       "\tDefault\\_reg & 0 & 0 & 0 & 0 & 0 & 0\\\\\n",
       "\tForward & 0 & 0 & 0 & 0 & 0 & 0\\\\\n",
       "\tBackward & 0 & 0 & 0 & 0 & 0 & 0\\\\\n",
       "\tStepwise & 0 & 0 & 0 & 0 & 0 & 0\\\\\n",
       "\\end{tabular}\n"
      ],
      "text/markdown": [
       "\n",
       "A matrix: 4 × 6 of type dbl\n",
       "\n",
       "| <!--/--> | AE | MAE | MAPE | MSE | RMSE | R_adj |\n",
       "|---|---|---|---|---|---|---|\n",
       "| Default_reg | 0 | 0 | 0 | 0 | 0 | 0 |\n",
       "| Forward | 0 | 0 | 0 | 0 | 0 | 0 |\n",
       "| Backward | 0 | 0 | 0 | 0 | 0 | 0 |\n",
       "| Stepwise | 0 | 0 | 0 | 0 | 0 | 0 |\n",
       "\n"
      ],
      "text/plain": [
       "            AE MAE MAPE MSE RMSE R_adj\n",
       "Default_reg 0  0   0    0   0    0    \n",
       "Forward     0  0   0    0   0    0    \n",
       "Backward    0  0   0    0   0    0    \n",
       "Stepwise    0  0   0    0   0    0    "
      ]
     },
     "metadata": {},
     "output_type": "display_data"
    }
   ],
   "source": [
    "c_data2.mat = matrix(0,4,6)\n",
    "colnames(c_data2.mat) = c( \"AE\",\"MAE\",\"MAPE\",\"MSE\",\"RMSE\",\"R_adj\") \n",
    "rownames(c_data2.mat) = c(\"Default_reg\",\"Forward\",\"Backward\",'Stepwise')\n",
    "c_data2.mat"
   ]
  },
  {
   "cell_type": "code",
   "execution_count": 19,
   "metadata": {},
   "outputs": [
    {
     "data": {
      "text/html": [
       "<table>\n",
       "<caption>A matrix: 4 × 6 of type dbl</caption>\n",
       "<thead>\n",
       "\t<tr><th></th><th scope=col>AE</th><th scope=col>MAE</th><th scope=col>MAPE</th><th scope=col>MSE</th><th scope=col>RMSE</th><th scope=col>R_adj</th></tr>\n",
       "</thead>\n",
       "<tbody>\n",
       "\t<tr><th scope=row>Default_reg</th><td>-0.0198808</td><td>0.4217819</td><td>0.03122556</td><td>0.384271</td><td>0.619896</td><td>0.6112549</td></tr>\n",
       "\t<tr><th scope=row>Forward</th><td> 0.0000000</td><td>0.0000000</td><td>0.00000000</td><td>0.000000</td><td>0.000000</td><td>0.0000000</td></tr>\n",
       "\t<tr><th scope=row>Backward</th><td> 0.0000000</td><td>0.0000000</td><td>0.00000000</td><td>0.000000</td><td>0.000000</td><td>0.0000000</td></tr>\n",
       "\t<tr><th scope=row>Stepwise</th><td> 0.0000000</td><td>0.0000000</td><td>0.00000000</td><td>0.000000</td><td>0.000000</td><td>0.0000000</td></tr>\n",
       "</tbody>\n",
       "</table>\n"
      ],
      "text/latex": [
       "A matrix: 4 × 6 of type dbl\n",
       "\\begin{tabular}{r|llllll}\n",
       "  & AE & MAE & MAPE & MSE & RMSE & R\\_adj\\\\\n",
       "\\hline\n",
       "\tDefault\\_reg & -0.0198808 & 0.4217819 & 0.03122556 & 0.384271 & 0.619896 & 0.6112549\\\\\n",
       "\tForward &  0.0000000 & 0.0000000 & 0.00000000 & 0.000000 & 0.000000 & 0.0000000\\\\\n",
       "\tBackward &  0.0000000 & 0.0000000 & 0.00000000 & 0.000000 & 0.000000 & 0.0000000\\\\\n",
       "\tStepwise &  0.0000000 & 0.0000000 & 0.00000000 & 0.000000 & 0.000000 & 0.0000000\\\\\n",
       "\\end{tabular}\n"
      ],
      "text/markdown": [
       "\n",
       "A matrix: 4 × 6 of type dbl\n",
       "\n",
       "| <!--/--> | AE | MAE | MAPE | MSE | RMSE | R_adj |\n",
       "|---|---|---|---|---|---|---|\n",
       "| Default_reg | -0.0198808 | 0.4217819 | 0.03122556 | 0.384271 | 0.619896 | 0.6112549 |\n",
       "| Forward |  0.0000000 | 0.0000000 | 0.00000000 | 0.000000 | 0.000000 | 0.0000000 |\n",
       "| Backward |  0.0000000 | 0.0000000 | 0.00000000 | 0.000000 | 0.000000 | 0.0000000 |\n",
       "| Stepwise |  0.0000000 | 0.0000000 | 0.00000000 | 0.000000 | 0.000000 | 0.0000000 |\n",
       "\n"
      ],
      "text/plain": [
       "            AE         MAE       MAPE       MSE      RMSE     R_adj    \n",
       "Default_reg -0.0198808 0.4217819 0.03122556 0.384271 0.619896 0.6112549\n",
       "Forward      0.0000000 0.0000000 0.00000000 0.000000 0.000000 0.0000000\n",
       "Backward     0.0000000 0.0000000 0.00000000 0.000000 0.000000 0.0000000\n",
       "Stepwise     0.0000000 0.0000000 0.00000000 0.000000 0.000000 0.0000000"
      ]
     },
     "metadata": {},
     "output_type": "display_data"
    }
   ],
   "source": [
    "####Default####\n",
    "set.seed(1)\n",
    "lm.fit_1=lm(user_rating_scaled~.,data=reg_1_train)\n",
    "#reg_1 predict\n",
    "set.seed(1)\n",
    "p.df_1=predict(lm.fit_1,newdata=reg_1_test)\n",
    "###6Measure###\n",
    "#average error\n",
    "ave.err.df_1=mean(reg_1_test$user_rating_scaled-p.df_1)\n",
    "c_data2.mat[1,1]=ave.err.df_1\n",
    "#mae\n",
    "mae.df_1=mean(abs(reg_1_test$user_rating_scaled-p.df_1))\n",
    "c_data2.mat[1,2]=mae.df_1\n",
    "#mape\n",
    "mape.df_1=0.01*mean(abs(reg_1_test$user_rating_scaled-p.df_1)/abs(reg_1_test$user_rating_scaled))\n",
    "c_data2.mat[1,3]=mape.df_1\n",
    "#mse\n",
    "mse.df_1=mean((reg_1_test$user_rating_scaled-p.df_1)^2)\n",
    "c_data2.mat[1,4]=mse.df_1\n",
    "#rmse\n",
    "rmse.df_1=sqrt(mse.df_1)\n",
    "c_data2.mat[1,5]=rmse.df_1\n",
    "#adj.r.squared\n",
    "adj.df_1=summary(lm.fit_1)$adj.r.squared\n",
    "c_data2.mat[1,6]=adj.df_1\n",
    "c_data2.mat"
   ]
  },
  {
   "cell_type": "markdown",
   "metadata": {},
   "source": [
    "## 3.2 Forward Selection"
   ]
  },
  {
   "cell_type": "code",
   "execution_count": 20,
   "metadata": {},
   "outputs": [
    {
     "name": "stdout",
     "output_type": "stream",
     "text": [
      "Start:  AIC=20.07\n",
      "user_rating_scaled ~ 1\n",
      "\n",
      "                   Df Sum of Sq    RSS     AIC\n",
      "+ user_rating_ver   1    3439.2 2314.9 -5200.8\n",
      "+ ipadSc_urls.num   1     418.8 5335.3  -411.4\n",
      "+ lang.num          1     167.7 5586.4  -147.6\n",
      "+ cont_rating       3     166.4 5587.7  -142.3\n",
      "+ prime_genre       5     107.2 5646.9   -77.8\n",
      "+ rating_count_tot  1      37.9 5716.2   -15.8\n",
      "+ size_mega         1      35.4 5718.7   -13.3\n",
      "+ ver               1      27.0 5727.1    -4.9\n",
      "+ price             1      10.2 5743.9    11.9\n",
      "+ sup_devices.num   1       9.0 5745.1    13.1\n",
      "<none>                          5754.1    20.1\n",
      "\n",
      "Step:  AIC=-5200.83\n",
      "user_rating_scaled ~ user_rating_ver\n",
      "\n",
      "                   Df Sum of Sq    RSS     AIC\n",
      "+ ver               1    48.156 2266.7 -5319.4\n",
      "+ ipadSc_urls.num   1    20.816 2294.1 -5250.6\n",
      "+ lang.num          1     6.896 2308.0 -5215.9\n",
      "+ price             1     5.453 2309.4 -5212.4\n",
      "+ sup_devices.num   1     5.371 2309.5 -5212.2\n",
      "+ prime_genre       5     5.616 2309.3 -5204.8\n",
      "+ rating_count_tot  1     1.334 2313.6 -5202.1\n",
      "<none>                          2314.9 -5200.8\n",
      "+ size_mega         1     0.104 2314.8 -5199.1\n",
      "+ cont_rating       3     1.359 2313.5 -5198.2\n",
      "\n",
      "Step:  AIC=-5319.41\n",
      "user_rating_scaled ~ user_rating_ver + ver\n",
      "\n",
      "                   Df Sum of Sq    RSS     AIC\n",
      "+ ipadSc_urls.num   1   24.8995 2241.8 -5380.8\n",
      "+ price             1    5.6693 2261.1 -5331.8\n",
      "+ lang.num          1    3.1544 2263.6 -5325.4\n",
      "+ cont_rating       3    4.6445 2262.1 -5325.2\n",
      "+ sup_devices.num   1    2.2938 2264.4 -5323.2\n",
      "+ size_mega         1    1.5198 2265.2 -5321.3\n",
      "<none>                          2266.7 -5319.4\n",
      "+ rating_count_tot  1    0.1804 2266.6 -5317.9\n",
      "+ prime_genre       5    2.5581 2264.2 -5315.9\n",
      "\n",
      "Step:  AIC=-5380.77\n",
      "user_rating_scaled ~ user_rating_ver + ver + ipadSc_urls.num\n",
      "\n",
      "                   Df Sum of Sq    RSS     AIC\n",
      "+ price             1    4.3293 2237.5 -5389.9\n",
      "+ lang.num          1    2.2444 2239.6 -5384.5\n",
      "+ sup_devices.num   1    1.7354 2240.1 -5383.2\n",
      "<none>                          2241.8 -5380.8\n",
      "+ cont_rating       3    2.2111 2239.6 -5380.4\n",
      "+ size_mega         1    0.3590 2241.5 -5379.7\n",
      "+ rating_count_tot  1    0.2219 2241.6 -5379.3\n",
      "+ prime_genre       5    1.2705 2240.6 -5374.0\n",
      "\n",
      "Step:  AIC=-5389.86\n",
      "user_rating_scaled ~ user_rating_ver + ver + ipadSc_urls.num + \n",
      "    price\n",
      "\n",
      "                   Df Sum of Sq    RSS     AIC\n",
      "+ lang.num          1   2.32413 2235.2 -5393.8\n",
      "+ sup_devices.num   1   1.21549 2236.3 -5391.0\n",
      "<none>                          2237.5 -5389.9\n",
      "+ cont_rating       3   2.08299 2235.4 -5389.2\n",
      "+ rating_count_tot  1   0.29608 2237.2 -5388.6\n",
      "+ size_mega         1   0.07575 2237.4 -5388.1\n",
      "+ prime_genre       5   1.11246 2236.4 -5382.7\n",
      "\n",
      "Step:  AIC=-5393.82\n",
      "user_rating_scaled ~ user_rating_ver + ver + ipadSc_urls.num + \n",
      "    price + lang.num\n",
      "\n",
      "                   Df Sum of Sq    RSS     AIC\n",
      "+ sup_devices.num   1   1.12757 2234.1 -5394.7\n",
      "<none>                          2235.2 -5393.8\n",
      "+ cont_rating       3   2.33054 2232.9 -5393.8\n",
      "+ rating_count_tot  1   0.15025 2235.0 -5392.2\n",
      "+ size_mega         1   0.07279 2235.1 -5392.0\n",
      "+ prime_genre       5   0.90127 2234.3 -5386.1\n",
      "\n",
      "Step:  AIC=-5394.71\n",
      "user_rating_scaled ~ user_rating_ver + ver + ipadSc_urls.num + \n",
      "    price + lang.num + sup_devices.num\n",
      "\n",
      "                   Df Sum of Sq    RSS     AIC\n",
      "+ cont_rating       3   2.44001 2231.6 -5395.0\n",
      "<none>                          2234.1 -5394.7\n",
      "+ rating_count_tot  1   0.16777 2233.9 -5393.1\n",
      "+ size_mega         1   0.02405 2234.0 -5392.8\n",
      "+ prime_genre       5   0.90004 2233.2 -5387.0\n",
      "\n",
      "Step:  AIC=-5394.98\n",
      "user_rating_scaled ~ user_rating_ver + ver + ipadSc_urls.num + \n",
      "    price + lang.num + sup_devices.num + cont_rating\n",
      "\n",
      "                   Df Sum of Sq    RSS     AIC\n",
      "<none>                          2231.6 -5395.0\n",
      "+ rating_count_tot  1   0.11682 2231.5 -5393.3\n",
      "+ size_mega         1   0.00340 2231.6 -5393.0\n",
      "+ prime_genre       5   0.87015 2230.8 -5387.2\n"
     ]
    }
   ],
   "source": [
    "####Forward####\n",
    "lm.null_1=lm(user_rating_scaled~1,data=reg_1_train)\n",
    "for_1=step(lm.null_1,direction=\"forward\",scope=formula(lm.fit_1))\n",
    "f.for_1=lm(formula(for_1),data=reg_1_train)\n",
    "#reg_1 predict\n",
    "p.for_1=predict(f.for_1,newdata=reg_1_test)\n",
    "###6Measure###\n",
    "\n",
    "#average error\n",
    "ave.err.for_1=mean(reg_1_test$user_rating_scaled-p.for_1)\n",
    "c_data2.mat[2,1]=ave.err.for_1\n",
    "#mae\n",
    "mae.for_1=mean(abs(reg_1_test$user_rating_scaled-p.for_1))\n",
    "c_data2.mat[2,2]=mae.for_1\n",
    "#mape\n",
    "mape.for_1=0.01*mean(abs(reg_1_test$user_rating_scaled-p.for_1)/abs(reg_1_test$user_rating_scaled))\n",
    "c_data2.mat[2,3]=mape.for_1\n",
    "#mse\n",
    "mse.for_1=mean((reg_1_test$user_rating_scaled-p.for_1)^2)\n",
    "c_data2.mat[2,4]=mse.for_1\n",
    "#rmse\n",
    "rmse.for_1=sqrt(mse.for_1)\n",
    "c_data2.mat[2,5]=rmse.for_1\n",
    "#adj.r.squared\n",
    "adj.for_1=summary(for_1)$adj.r.squared\n",
    "c_data2.mat[2,6]=adj.for_1"
   ]
  },
  {
   "cell_type": "code",
   "execution_count": 21,
   "metadata": {},
   "outputs": [
    {
     "data": {
      "text/html": [
       "<table>\n",
       "<caption>A matrix: 4 × 6 of type dbl</caption>\n",
       "<thead>\n",
       "\t<tr><th></th><th scope=col>AE</th><th scope=col>MAE</th><th scope=col>MAPE</th><th scope=col>MSE</th><th scope=col>RMSE</th><th scope=col>R_adj</th></tr>\n",
       "</thead>\n",
       "<tbody>\n",
       "\t<tr><th scope=row>Default_reg</th><td>-0.01988080</td><td>0.4217819</td><td>0.03122556</td><td>0.3842710</td><td>0.6198960</td><td>0.6112549</td></tr>\n",
       "\t<tr><th scope=row>Forward</th><td>-0.02012952</td><td>0.4215807</td><td>0.03124251</td><td>0.3840035</td><td>0.6196801</td><td>0.6115592</td></tr>\n",
       "\t<tr><th scope=row>Backward</th><td> 0.00000000</td><td>0.0000000</td><td>0.00000000</td><td>0.0000000</td><td>0.0000000</td><td>0.0000000</td></tr>\n",
       "\t<tr><th scope=row>Stepwise</th><td> 0.00000000</td><td>0.0000000</td><td>0.00000000</td><td>0.0000000</td><td>0.0000000</td><td>0.0000000</td></tr>\n",
       "</tbody>\n",
       "</table>\n"
      ],
      "text/latex": [
       "A matrix: 4 × 6 of type dbl\n",
       "\\begin{tabular}{r|llllll}\n",
       "  & AE & MAE & MAPE & MSE & RMSE & R\\_adj\\\\\n",
       "\\hline\n",
       "\tDefault\\_reg & -0.01988080 & 0.4217819 & 0.03122556 & 0.3842710 & 0.6198960 & 0.6112549\\\\\n",
       "\tForward & -0.02012952 & 0.4215807 & 0.03124251 & 0.3840035 & 0.6196801 & 0.6115592\\\\\n",
       "\tBackward &  0.00000000 & 0.0000000 & 0.00000000 & 0.0000000 & 0.0000000 & 0.0000000\\\\\n",
       "\tStepwise &  0.00000000 & 0.0000000 & 0.00000000 & 0.0000000 & 0.0000000 & 0.0000000\\\\\n",
       "\\end{tabular}\n"
      ],
      "text/markdown": [
       "\n",
       "A matrix: 4 × 6 of type dbl\n",
       "\n",
       "| <!--/--> | AE | MAE | MAPE | MSE | RMSE | R_adj |\n",
       "|---|---|---|---|---|---|---|\n",
       "| Default_reg | -0.01988080 | 0.4217819 | 0.03122556 | 0.3842710 | 0.6198960 | 0.6112549 |\n",
       "| Forward | -0.02012952 | 0.4215807 | 0.03124251 | 0.3840035 | 0.6196801 | 0.6115592 |\n",
       "| Backward |  0.00000000 | 0.0000000 | 0.00000000 | 0.0000000 | 0.0000000 | 0.0000000 |\n",
       "| Stepwise |  0.00000000 | 0.0000000 | 0.00000000 | 0.0000000 | 0.0000000 | 0.0000000 |\n",
       "\n"
      ],
      "text/plain": [
       "            AE          MAE       MAPE       MSE       RMSE      R_adj    \n",
       "Default_reg -0.01988080 0.4217819 0.03122556 0.3842710 0.6198960 0.6112549\n",
       "Forward     -0.02012952 0.4215807 0.03124251 0.3840035 0.6196801 0.6115592\n",
       "Backward     0.00000000 0.0000000 0.00000000 0.0000000 0.0000000 0.0000000\n",
       "Stepwise     0.00000000 0.0000000 0.00000000 0.0000000 0.0000000 0.0000000"
      ]
     },
     "metadata": {},
     "output_type": "display_data"
    }
   ],
   "source": [
    "c_data2.mat"
   ]
  },
  {
   "cell_type": "markdown",
   "metadata": {},
   "source": [
    "## 3.3 backward elimination"
   ]
  },
  {
   "cell_type": "code",
   "execution_count": 22,
   "metadata": {},
   "outputs": [
    {
     "name": "stdout",
     "output_type": "stream",
     "text": [
      "Start:  AIC=-5383.5\n",
      "user_rating_scaled ~ price + rating_count_tot + user_rating_ver + \n",
      "    ver + cont_rating + prime_genre + sup_devices.num + ipadSc_urls.num + \n",
      "    lang.num + size_mega\n",
      "\n",
      "                   Df Sum of Sq    RSS     AIC\n",
      "- prime_genre       5      0.86 2231.5 -5391.3\n",
      "- size_mega         1      0.00 2230.6 -5385.5\n",
      "- rating_count_tot  1      0.11 2230.7 -5385.2\n",
      "<none>                          2230.6 -5383.5\n",
      "- cont_rating       3      2.35 2233.0 -5383.5\n",
      "- sup_devices.num   1      1.11 2231.7 -5382.7\n",
      "- lang.num          1      2.10 2232.7 -5380.1\n",
      "- price             1      3.60 2234.2 -5376.3\n",
      "- ipadSc_urls.num   1     18.80 2249.4 -5337.4\n",
      "- ver               1     38.41 2269.0 -5287.6\n",
      "- user_rating_ver   1   2782.76 5013.4  -740.3\n",
      "\n",
      "Step:  AIC=-5391.29\n",
      "user_rating_scaled ~ price + rating_count_tot + user_rating_ver + \n",
      "    ver + cont_rating + sup_devices.num + ipadSc_urls.num + lang.num + \n",
      "    size_mega\n",
      "\n",
      "                   Df Sum of Sq    RSS     AIC\n",
      "- size_mega         1      0.00 2231.5 -5393.3\n",
      "- rating_count_tot  1      0.12 2231.6 -5393.0\n",
      "<none>                          2231.5 -5391.3\n",
      "- cont_rating       3      2.37 2233.9 -5391.2\n",
      "- sup_devices.num   1      1.25 2232.7 -5390.1\n",
      "- lang.num          1      2.34 2233.8 -5387.3\n",
      "- price             1      3.75 2235.3 -5383.7\n",
      "- ipadSc_urls.num   1     19.88 2251.4 -5342.4\n",
      "- ver               1     46.21 2277.7 -5275.7\n",
      "- user_rating_ver   1   2826.34 5057.8  -699.7\n",
      "\n",
      "Step:  AIC=-5393.28\n",
      "user_rating_scaled ~ price + rating_count_tot + user_rating_ver + \n",
      "    ver + cont_rating + sup_devices.num + ipadSc_urls.num + lang.num\n",
      "\n",
      "                   Df Sum of Sq    RSS     AIC\n",
      "- rating_count_tot  1      0.12 2231.6 -5395.0\n",
      "<none>                          2231.5 -5393.3\n",
      "- cont_rating       3      2.39 2233.9 -5393.1\n",
      "- sup_devices.num   1      1.25 2232.8 -5392.1\n",
      "- lang.num          1      2.34 2233.8 -5389.3\n",
      "- price             1      3.80 2235.3 -5385.5\n",
      "- ipadSc_urls.num   1     20.07 2251.6 -5343.9\n",
      "- ver               1     46.93 2278.4 -5275.9\n",
      "- user_rating_ver   1   2833.34 5064.8  -693.8\n",
      "\n",
      "Step:  AIC=-5394.98\n",
      "user_rating_scaled ~ price + user_rating_ver + ver + cont_rating + \n",
      "    sup_devices.num + ipadSc_urls.num + lang.num\n",
      "\n",
      "                  Df Sum of Sq    RSS     AIC\n",
      "<none>                         2231.6 -5395.0\n",
      "- cont_rating      3      2.44 2234.1 -5394.7\n",
      "- sup_devices.num  1      1.24 2232.9 -5393.8\n",
      "- lang.num         1      2.48 2234.1 -5390.6\n",
      "- price            1      3.76 2235.4 -5387.3\n",
      "- ipadSc_urls.num  1     20.03 2251.6 -5345.7\n",
      "- ver              1     47.85 2279.5 -5275.3\n",
      "- user_rating_ver  1   2848.09 5079.7  -679.0\n"
     ]
    }
   ],
   "source": [
    "####Backward####\n",
    "back_1=step(lm.fit_1,direction=\"backward\")\n",
    "f.back_1=lm(formula(back_1),data=reg_1_train)\n",
    "#reg_1 predict\n",
    "p.back_1=predict(f.back_1,newdata=reg_1_test)\n",
    "\n",
    "\n",
    "#average error\n",
    "ave.err.back_1=mean(reg_1_test$user_rating_scaled-p.back_1)\n",
    "c_data2.mat[3,1]=ave.err.back_1\n",
    "#mae\n",
    "mae.back_1=mean(abs(reg_1_test$user_rating_scaled-p.back_1))\n",
    "c_data2.mat[3,2]=mae.back_1\n",
    "#mape\n",
    "mape.back_1=0.01*mean(abs(reg_1_test$user_rating_scaled-p.back_1)/abs(reg_1_test$user_rating_scaled))\n",
    "c_data2.mat[3,3]=mape.back_1\n",
    "#mse\n",
    "mse.back_1=mean((reg_1_test$user_rating_scaled-p.back_1)^2)\n",
    "c_data2.mat[3,4]=mse.back_1\n",
    "#rmse\n",
    "rmse.back_1=sqrt(mse.back_1)\n",
    "c_data2.mat[3,5]=rmse.back_1\n",
    "#adj.r.squared\n",
    "adj.back_1=summary(back_1)$adj.r.squared\n",
    "c_data2.mat[3,6]=adj.back_1\n"
   ]
  },
  {
   "cell_type": "code",
   "execution_count": 23,
   "metadata": {},
   "outputs": [
    {
     "data": {
      "text/html": [
       "<table>\n",
       "<caption>A matrix: 4 × 6 of type dbl</caption>\n",
       "<thead>\n",
       "\t<tr><th></th><th scope=col>AE</th><th scope=col>MAE</th><th scope=col>MAPE</th><th scope=col>MSE</th><th scope=col>RMSE</th><th scope=col>R_adj</th></tr>\n",
       "</thead>\n",
       "<tbody>\n",
       "\t<tr><th scope=row>Default_reg</th><td>-0.01988080</td><td>0.4217819</td><td>0.03122556</td><td>0.3842710</td><td>0.6198960</td><td>0.6112549</td></tr>\n",
       "\t<tr><th scope=row>Forward</th><td>-0.02012952</td><td>0.4215807</td><td>0.03124251</td><td>0.3840035</td><td>0.6196801</td><td>0.6115592</td></tr>\n",
       "\t<tr><th scope=row>Backward</th><td>-0.02012952</td><td>0.4215807</td><td>0.03124251</td><td>0.3840035</td><td>0.6196801</td><td>0.6115592</td></tr>\n",
       "\t<tr><th scope=row>Stepwise</th><td> 0.00000000</td><td>0.0000000</td><td>0.00000000</td><td>0.0000000</td><td>0.0000000</td><td>0.0000000</td></tr>\n",
       "</tbody>\n",
       "</table>\n"
      ],
      "text/latex": [
       "A matrix: 4 × 6 of type dbl\n",
       "\\begin{tabular}{r|llllll}\n",
       "  & AE & MAE & MAPE & MSE & RMSE & R\\_adj\\\\\n",
       "\\hline\n",
       "\tDefault\\_reg & -0.01988080 & 0.4217819 & 0.03122556 & 0.3842710 & 0.6198960 & 0.6112549\\\\\n",
       "\tForward & -0.02012952 & 0.4215807 & 0.03124251 & 0.3840035 & 0.6196801 & 0.6115592\\\\\n",
       "\tBackward & -0.02012952 & 0.4215807 & 0.03124251 & 0.3840035 & 0.6196801 & 0.6115592\\\\\n",
       "\tStepwise &  0.00000000 & 0.0000000 & 0.00000000 & 0.0000000 & 0.0000000 & 0.0000000\\\\\n",
       "\\end{tabular}\n"
      ],
      "text/markdown": [
       "\n",
       "A matrix: 4 × 6 of type dbl\n",
       "\n",
       "| <!--/--> | AE | MAE | MAPE | MSE | RMSE | R_adj |\n",
       "|---|---|---|---|---|---|---|\n",
       "| Default_reg | -0.01988080 | 0.4217819 | 0.03122556 | 0.3842710 | 0.6198960 | 0.6112549 |\n",
       "| Forward | -0.02012952 | 0.4215807 | 0.03124251 | 0.3840035 | 0.6196801 | 0.6115592 |\n",
       "| Backward | -0.02012952 | 0.4215807 | 0.03124251 | 0.3840035 | 0.6196801 | 0.6115592 |\n",
       "| Stepwise |  0.00000000 | 0.0000000 | 0.00000000 | 0.0000000 | 0.0000000 | 0.0000000 |\n",
       "\n"
      ],
      "text/plain": [
       "            AE          MAE       MAPE       MSE       RMSE      R_adj    \n",
       "Default_reg -0.01988080 0.4217819 0.03122556 0.3842710 0.6198960 0.6112549\n",
       "Forward     -0.02012952 0.4215807 0.03124251 0.3840035 0.6196801 0.6115592\n",
       "Backward    -0.02012952 0.4215807 0.03124251 0.3840035 0.6196801 0.6115592\n",
       "Stepwise     0.00000000 0.0000000 0.00000000 0.0000000 0.0000000 0.0000000"
      ]
     },
     "metadata": {},
     "output_type": "display_data"
    }
   ],
   "source": [
    "c_data2.mat"
   ]
  },
  {
   "cell_type": "markdown",
   "metadata": {},
   "source": [
    "## 3.4 stepwise "
   ]
  },
  {
   "cell_type": "code",
   "execution_count": 24,
   "metadata": {},
   "outputs": [
    {
     "name": "stdout",
     "output_type": "stream",
     "text": [
      "Start:  AIC=20.07\n",
      "user_rating_scaled ~ 1\n",
      "\n",
      "                   Df Sum of Sq    RSS     AIC\n",
      "+ user_rating_ver   1    3439.2 2314.9 -5200.8\n",
      "+ ipadSc_urls.num   1     418.8 5335.3  -411.4\n",
      "+ lang.num          1     167.7 5586.4  -147.6\n",
      "+ cont_rating       3     166.4 5587.7  -142.3\n",
      "+ prime_genre       5     107.2 5646.9   -77.8\n",
      "+ rating_count_tot  1      37.9 5716.2   -15.8\n",
      "+ size_mega         1      35.4 5718.7   -13.3\n",
      "+ ver               1      27.0 5727.1    -4.9\n",
      "+ price             1      10.2 5743.9    11.9\n",
      "+ sup_devices.num   1       9.0 5745.1    13.1\n",
      "<none>                          5754.1    20.1\n",
      "\n",
      "Step:  AIC=-5200.83\n",
      "user_rating_scaled ~ user_rating_ver\n",
      "\n",
      "                   Df Sum of Sq    RSS     AIC\n",
      "+ ver               1      48.2 2266.7 -5319.4\n",
      "+ ipadSc_urls.num   1      20.8 2294.1 -5250.6\n",
      "+ lang.num          1       6.9 2308.0 -5215.9\n",
      "+ price             1       5.5 2309.4 -5212.4\n",
      "+ sup_devices.num   1       5.4 2309.5 -5212.2\n",
      "+ prime_genre       5       5.6 2309.3 -5204.8\n",
      "+ rating_count_tot  1       1.3 2313.6 -5202.1\n",
      "<none>                          2314.9 -5200.8\n",
      "+ size_mega         1       0.1 2314.8 -5199.1\n",
      "+ cont_rating       3       1.4 2313.5 -5198.2\n",
      "- user_rating_ver   1    3439.2 5754.1    20.1\n",
      "\n",
      "Step:  AIC=-5319.41\n",
      "user_rating_scaled ~ user_rating_ver + ver\n",
      "\n",
      "                   Df Sum of Sq    RSS     AIC\n",
      "+ ipadSc_urls.num   1      24.9 2241.8 -5380.8\n",
      "+ price             1       5.7 2261.1 -5331.8\n",
      "+ lang.num          1       3.2 2263.6 -5325.4\n",
      "+ cont_rating       3       4.6 2262.1 -5325.2\n",
      "+ sup_devices.num   1       2.3 2264.4 -5323.2\n",
      "+ size_mega         1       1.5 2265.2 -5321.3\n",
      "<none>                          2266.7 -5319.4\n",
      "+ rating_count_tot  1       0.2 2266.6 -5317.9\n",
      "+ prime_genre       5       2.6 2264.2 -5315.9\n",
      "- ver               1      48.2 2314.9 -5200.8\n",
      "- user_rating_ver   1    3460.3 5727.1    -4.9\n",
      "\n",
      "Step:  AIC=-5380.77\n",
      "user_rating_scaled ~ user_rating_ver + ver + ipadSc_urls.num\n",
      "\n",
      "                   Df Sum of Sq    RSS     AIC\n",
      "+ price             1      4.33 2237.5 -5389.9\n",
      "+ lang.num          1      2.24 2239.6 -5384.5\n",
      "+ sup_devices.num   1      1.74 2240.1 -5383.2\n",
      "<none>                          2241.8 -5380.8\n",
      "+ cont_rating       3      2.21 2239.6 -5380.4\n",
      "+ size_mega         1      0.36 2241.5 -5379.7\n",
      "+ rating_count_tot  1      0.22 2241.6 -5379.3\n",
      "+ prime_genre       5      1.27 2240.6 -5374.0\n",
      "- ipadSc_urls.num   1     24.90 2266.7 -5319.4\n",
      "- ver               1     52.24 2294.1 -5250.6\n",
      "- user_rating_ver   1   3050.35 5292.2  -455.9\n",
      "\n",
      "Step:  AIC=-5389.86\n",
      "user_rating_scaled ~ user_rating_ver + ver + ipadSc_urls.num + \n",
      "    price\n",
      "\n",
      "                   Df Sum of Sq    RSS     AIC\n",
      "+ lang.num          1      2.32 2235.2 -5393.8\n",
      "+ sup_devices.num   1      1.22 2236.3 -5391.0\n",
      "<none>                          2237.5 -5389.9\n",
      "+ cont_rating       3      2.08 2235.4 -5389.2\n",
      "+ rating_count_tot  1      0.30 2237.2 -5388.6\n",
      "+ size_mega         1      0.08 2237.4 -5388.1\n",
      "+ prime_genre       5      1.11 2236.4 -5382.7\n",
      "- price             1      4.33 2241.8 -5380.8\n",
      "- ipadSc_urls.num   1     23.56 2261.1 -5331.8\n",
      "- ver               1     52.33 2289.8 -5259.3\n",
      "- user_rating_ver   1   3050.96 5288.5  -457.9\n",
      "\n",
      "Step:  AIC=-5393.82\n",
      "user_rating_scaled ~ user_rating_ver + ver + ipadSc_urls.num + \n",
      "    price + lang.num\n",
      "\n",
      "                   Df Sum of Sq    RSS     AIC\n",
      "+ sup_devices.num   1      1.13 2234.1 -5394.7\n",
      "<none>                          2235.2 -5393.8\n",
      "+ cont_rating       3      2.33 2232.9 -5393.8\n",
      "+ rating_count_tot  1      0.15 2235.0 -5392.2\n",
      "+ size_mega         1      0.07 2235.1 -5392.0\n",
      "- lang.num          1      2.32 2237.5 -5389.9\n",
      "+ prime_genre       5      0.90 2234.3 -5386.1\n",
      "- price             1      4.41 2239.6 -5384.5\n",
      "- ipadSc_urls.num   1     22.65 2257.8 -5338.0\n",
      "- ver               1     48.72 2283.9 -5272.1\n",
      "- user_rating_ver   1   2945.83 5181.0  -573.7\n",
      "\n",
      "Step:  AIC=-5394.71\n",
      "user_rating_scaled ~ user_rating_ver + ver + ipadSc_urls.num + \n",
      "    price + lang.num + sup_devices.num\n",
      "\n",
      "                   Df Sum of Sq    RSS     AIC\n",
      "+ cont_rating       3      2.44 2231.6 -5395.0\n",
      "<none>                          2234.1 -5394.7\n",
      "- sup_devices.num   1      1.13 2235.2 -5393.8\n",
      "+ rating_count_tot  1      0.17 2233.9 -5393.1\n",
      "+ size_mega         1      0.02 2234.0 -5392.8\n",
      "- lang.num          1      2.24 2236.3 -5391.0\n",
      "+ prime_genre       5      0.90 2233.2 -5387.0\n",
      "- price             1      3.90 2238.0 -5386.7\n",
      "- ipadSc_urls.num   1     22.31 2256.4 -5339.7\n",
      "- ver               1     46.37 2280.4 -5278.9\n",
      "- user_rating_ver   1   2945.87 5179.9  -572.9\n",
      "\n",
      "Step:  AIC=-5394.98\n",
      "user_rating_scaled ~ user_rating_ver + ver + ipadSc_urls.num + \n",
      "    price + lang.num + sup_devices.num + cont_rating\n",
      "\n",
      "                   Df Sum of Sq    RSS     AIC\n",
      "<none>                          2231.6 -5395.0\n",
      "- cont_rating       3      2.44 2234.1 -5394.7\n",
      "- sup_devices.num   1      1.24 2232.9 -5393.8\n",
      "+ rating_count_tot  1      0.12 2231.5 -5393.3\n",
      "+ size_mega         1      0.00 2231.6 -5393.0\n",
      "- lang.num          1      2.48 2234.1 -5390.6\n",
      "- price             1      3.76 2235.4 -5387.3\n",
      "+ prime_genre       5      0.87 2230.7 -5387.2\n",
      "- ipadSc_urls.num   1     20.03 2251.6 -5345.7\n",
      "- ver               1     47.85 2279.5 -5275.3\n",
      "- user_rating_ver   1   2848.09 5079.7  -679.0\n"
     ]
    }
   ],
   "source": [
    "####Stepwise####\n",
    "lm.null_1=lm(user_rating_scaled~1,data=reg_1_train)\n",
    "step_1=step(lm.null_1,direction=\"both\",scope=formula(lm.fit_1))\n",
    "f.step_1=lm(formula(step_1),data=reg_1_train)\n",
    "#reg_1 predict\n",
    "p.step_1=predict(f.step_1,newdata=reg_1_test)\n",
    "\n",
    "\n",
    "#average error\n",
    "ave.err.step_1=mean(reg_1_test$user_rating_scaled-p.step_1)\n",
    "c_data2.mat[4,1]=ave.err.step_1\n",
    "#mae\n",
    "mae.step_1=mean(abs(reg_1_test$user_rating_scaled-p.step_1))\n",
    "c_data2.mat[4,2]=mae.step_1\n",
    "#mape\n",
    "mape.step_1=0.01*mean(abs(reg_1_test$user_rating_scaled-p.step_1)/abs(reg_1_test$user_rating_scaled))\n",
    "c_data2.mat[4,3]=mape.step_1\n",
    "#mse\n",
    "mse.step_1=mean((reg_1_test$user_rating_scaled-p.step_1)^2)\n",
    "c_data2.mat[4,4]=mse.step_1\n",
    "#rmse\n",
    "rmse.step_1=sqrt(mse.step_1)\n",
    "c_data2.mat[4,5]=rmse.step_1\n",
    "#adj.r.squared\n",
    "adj.step_1=summary(step_1)$adj.r.squared\n",
    "c_data2.mat[4,6]=adj.step_1\n"
   ]
  },
  {
   "cell_type": "code",
   "execution_count": 25,
   "metadata": {},
   "outputs": [
    {
     "data": {
      "text/html": [
       "<table>\n",
       "<caption>A matrix: 4 × 6 of type dbl</caption>\n",
       "<thead>\n",
       "\t<tr><th></th><th scope=col>AE</th><th scope=col>MAE</th><th scope=col>MAPE</th><th scope=col>MSE</th><th scope=col>RMSE</th><th scope=col>R_adj</th></tr>\n",
       "</thead>\n",
       "<tbody>\n",
       "\t<tr><th scope=row>Default_reg</th><td>-0.01988080</td><td>0.4217819</td><td>0.03122556</td><td>0.3842710</td><td>0.6198960</td><td>0.6112549</td></tr>\n",
       "\t<tr><th scope=row>Forward</th><td>-0.02012952</td><td>0.4215807</td><td>0.03124251</td><td>0.3840035</td><td>0.6196801</td><td>0.6115592</td></tr>\n",
       "\t<tr><th scope=row>Backward</th><td>-0.02012952</td><td>0.4215807</td><td>0.03124251</td><td>0.3840035</td><td>0.6196801</td><td>0.6115592</td></tr>\n",
       "\t<tr><th scope=row>Stepwise</th><td>-0.02012952</td><td>0.4215807</td><td>0.03124251</td><td>0.3840035</td><td>0.6196801</td><td>0.6115592</td></tr>\n",
       "</tbody>\n",
       "</table>\n"
      ],
      "text/latex": [
       "A matrix: 4 × 6 of type dbl\n",
       "\\begin{tabular}{r|llllll}\n",
       "  & AE & MAE & MAPE & MSE & RMSE & R\\_adj\\\\\n",
       "\\hline\n",
       "\tDefault\\_reg & -0.01988080 & 0.4217819 & 0.03122556 & 0.3842710 & 0.6198960 & 0.6112549\\\\\n",
       "\tForward & -0.02012952 & 0.4215807 & 0.03124251 & 0.3840035 & 0.6196801 & 0.6115592\\\\\n",
       "\tBackward & -0.02012952 & 0.4215807 & 0.03124251 & 0.3840035 & 0.6196801 & 0.6115592\\\\\n",
       "\tStepwise & -0.02012952 & 0.4215807 & 0.03124251 & 0.3840035 & 0.6196801 & 0.6115592\\\\\n",
       "\\end{tabular}\n"
      ],
      "text/markdown": [
       "\n",
       "A matrix: 4 × 6 of type dbl\n",
       "\n",
       "| <!--/--> | AE | MAE | MAPE | MSE | RMSE | R_adj |\n",
       "|---|---|---|---|---|---|---|\n",
       "| Default_reg | -0.01988080 | 0.4217819 | 0.03122556 | 0.3842710 | 0.6198960 | 0.6112549 |\n",
       "| Forward | -0.02012952 | 0.4215807 | 0.03124251 | 0.3840035 | 0.6196801 | 0.6115592 |\n",
       "| Backward | -0.02012952 | 0.4215807 | 0.03124251 | 0.3840035 | 0.6196801 | 0.6115592 |\n",
       "| Stepwise | -0.02012952 | 0.4215807 | 0.03124251 | 0.3840035 | 0.6196801 | 0.6115592 |\n",
       "\n"
      ],
      "text/plain": [
       "            AE          MAE       MAPE       MSE       RMSE      R_adj    \n",
       "Default_reg -0.01988080 0.4217819 0.03122556 0.3842710 0.6198960 0.6112549\n",
       "Forward     -0.02012952 0.4215807 0.03124251 0.3840035 0.6196801 0.6115592\n",
       "Backward    -0.02012952 0.4215807 0.03124251 0.3840035 0.6196801 0.6115592\n",
       "Stepwise    -0.02012952 0.4215807 0.03124251 0.3840035 0.6196801 0.6115592"
      ]
     },
     "metadata": {},
     "output_type": "display_data"
    }
   ],
   "source": [
    "c_data2.mat"
   ]
  },
  {
   "cell_type": "markdown",
   "metadata": {},
   "source": [
    "# 4. result"
   ]
  },
  {
   "cell_type": "markdown",
   "metadata": {},
   "source": [
    "- 모든 measure에 대하여 변수 선택기법을 적용한 경우 같은 수치가 나왔다.\n",
    "\n",
    "- 그 이유는 3개의 모델이 모두 같은 변수를 선택했기 때문이다.\n",
    "\n",
    "- user_rating_ver, ver, ipadSc_urls.num, price, lang.num, cont_rating~"
   ]
  },
  {
   "cell_type": "code",
   "execution_count": 26,
   "metadata": {
    "scrolled": true
   },
   "outputs": [
    {
     "data": {
      "text/plain": [
       "\n",
       "Call:\n",
       "lm(formula = formula(for_1), data = reg_1_train)\n",
       "\n",
       "Coefficients:\n",
       "    (Intercept)  user_rating_ver            ver.L  ipadSc_urls.num  \n",
       "      -1.292936         0.414882         0.135269         0.031592  \n",
       "          price         lang.num  sup_devices.num   cont_rating17+  \n",
       "       0.004163         0.002730        -0.003973        -0.078198  \n",
       "  cont_rating4+    cont_rating9+  \n",
       "      -0.034431        -0.002569  \n"
      ]
     },
     "metadata": {},
     "output_type": "display_data"
    }
   ],
   "source": [
    "f.for_1"
   ]
  },
  {
   "cell_type": "code",
   "execution_count": 27,
   "metadata": {
    "scrolled": true
   },
   "outputs": [
    {
     "data": {
      "text/plain": [
       "\n",
       "Call:\n",
       "lm(formula = formula(back_1), data = reg_1_train)\n",
       "\n",
       "Coefficients:\n",
       "    (Intercept)            price  user_rating_ver            ver.L  \n",
       "      -1.292936         0.004163         0.414882         0.135269  \n",
       " cont_rating17+    cont_rating4+    cont_rating9+  sup_devices.num  \n",
       "      -0.078198        -0.034431        -0.002569        -0.003973  \n",
       "ipadSc_urls.num         lang.num  \n",
       "       0.031592         0.002730  \n"
      ]
     },
     "metadata": {},
     "output_type": "display_data"
    }
   ],
   "source": [
    "f.back_1"
   ]
  },
  {
   "cell_type": "code",
   "execution_count": 28,
   "metadata": {
    "scrolled": true
   },
   "outputs": [
    {
     "data": {
      "text/plain": [
       "\n",
       "Call:\n",
       "lm(formula = formula(step_1), data = reg_1_train)\n",
       "\n",
       "Coefficients:\n",
       "    (Intercept)  user_rating_ver            ver.L  ipadSc_urls.num  \n",
       "      -1.292936         0.414882         0.135269         0.031592  \n",
       "          price         lang.num  sup_devices.num   cont_rating17+  \n",
       "       0.004163         0.002730        -0.003973        -0.078198  \n",
       "  cont_rating4+    cont_rating9+  \n",
       "      -0.034431        -0.002569  \n"
      ]
     },
     "metadata": {},
     "output_type": "display_data"
    }
   ],
   "source": [
    "f.step_1"
   ]
  },
  {
   "cell_type": "markdown",
   "metadata": {},
   "source": [
    "# 5. final_result"
   ]
  },
  {
   "cell_type": "code",
   "execution_count": 29,
   "metadata": {},
   "outputs": [
    {
     "data": {
      "text/html": [
       "<table>\n",
       "<caption>A matrix: 4 × 6 of type dbl</caption>\n",
       "<thead>\n",
       "\t<tr><th></th><th scope=col>AE</th><th scope=col>MAE</th><th scope=col>MAPE</th><th scope=col>MSE</th><th scope=col>RMSE</th><th scope=col>R_adj</th></tr>\n",
       "</thead>\n",
       "<tbody>\n",
       "\t<tr><th scope=row>Default_reg</th><td>-0.01989207</td><td>0.4217136</td><td>0.03124681</td><td>0.3840257</td><td>0.6196981</td><td>0.6113801</td></tr>\n",
       "\t<tr><th scope=row>Forward</th><td>-0.02012952</td><td>0.4215807</td><td>0.03124251</td><td>0.3840035</td><td>0.6196801</td><td>0.6115592</td></tr>\n",
       "\t<tr><th scope=row>Backward</th><td>-0.02012952</td><td>0.4215807</td><td>0.03124251</td><td>0.3840035</td><td>0.6196801</td><td>0.6115592</td></tr>\n",
       "\t<tr><th scope=row>Stepwise</th><td>-0.02012952</td><td>0.4215807</td><td>0.03124251</td><td>0.3840035</td><td>0.6196801</td><td>0.6115592</td></tr>\n",
       "</tbody>\n",
       "</table>\n"
      ],
      "text/latex": [
       "A matrix: 4 × 6 of type dbl\n",
       "\\begin{tabular}{r|llllll}\n",
       "  & AE & MAE & MAPE & MSE & RMSE & R\\_adj\\\\\n",
       "\\hline\n",
       "\tDefault\\_reg & -0.01989207 & 0.4217136 & 0.03124681 & 0.3840257 & 0.6196981 & 0.6113801\\\\\n",
       "\tForward & -0.02012952 & 0.4215807 & 0.03124251 & 0.3840035 & 0.6196801 & 0.6115592\\\\\n",
       "\tBackward & -0.02012952 & 0.4215807 & 0.03124251 & 0.3840035 & 0.6196801 & 0.6115592\\\\\n",
       "\tStepwise & -0.02012952 & 0.4215807 & 0.03124251 & 0.3840035 & 0.6196801 & 0.6115592\\\\\n",
       "\\end{tabular}\n"
      ],
      "text/markdown": [
       "\n",
       "A matrix: 4 × 6 of type dbl\n",
       "\n",
       "| <!--/--> | AE | MAE | MAPE | MSE | RMSE | R_adj |\n",
       "|---|---|---|---|---|---|---|\n",
       "| Default_reg | -0.01989207 | 0.4217136 | 0.03124681 | 0.3840257 | 0.6196981 | 0.6113801 |\n",
       "| Forward | -0.02012952 | 0.4215807 | 0.03124251 | 0.3840035 | 0.6196801 | 0.6115592 |\n",
       "| Backward | -0.02012952 | 0.4215807 | 0.03124251 | 0.3840035 | 0.6196801 | 0.6115592 |\n",
       "| Stepwise | -0.02012952 | 0.4215807 | 0.03124251 | 0.3840035 | 0.6196801 | 0.6115592 |\n",
       "\n"
      ],
      "text/plain": [
       "            AE          MAE       MAPE       MSE       RMSE      R_adj    \n",
       "Default_reg -0.01989207 0.4217136 0.03124681 0.3840257 0.6196981 0.6113801\n",
       "Forward     -0.02012952 0.4215807 0.03124251 0.3840035 0.6196801 0.6115592\n",
       "Backward    -0.02012952 0.4215807 0.03124251 0.3840035 0.6196801 0.6115592\n",
       "Stepwise    -0.02012952 0.4215807 0.03124251 0.3840035 0.6196801 0.6115592"
      ]
     },
     "metadata": {},
     "output_type": "display_data"
    }
   ],
   "source": [
    "c_data1.mat"
   ]
  },
  {
   "cell_type": "code",
   "execution_count": 30,
   "metadata": {},
   "outputs": [
    {
     "data": {
      "text/html": [
       "<table>\n",
       "<caption>A matrix: 4 × 6 of type dbl</caption>\n",
       "<thead>\n",
       "\t<tr><th></th><th scope=col>AE</th><th scope=col>MAE</th><th scope=col>MAPE</th><th scope=col>MSE</th><th scope=col>RMSE</th><th scope=col>R_adj</th></tr>\n",
       "</thead>\n",
       "<tbody>\n",
       "\t<tr><th scope=row>Default_reg</th><td>-0.01988080</td><td>0.4217819</td><td>0.03122556</td><td>0.3842710</td><td>0.6198960</td><td>0.6112549</td></tr>\n",
       "\t<tr><th scope=row>Forward</th><td>-0.02012952</td><td>0.4215807</td><td>0.03124251</td><td>0.3840035</td><td>0.6196801</td><td>0.6115592</td></tr>\n",
       "\t<tr><th scope=row>Backward</th><td>-0.02012952</td><td>0.4215807</td><td>0.03124251</td><td>0.3840035</td><td>0.6196801</td><td>0.6115592</td></tr>\n",
       "\t<tr><th scope=row>Stepwise</th><td>-0.02012952</td><td>0.4215807</td><td>0.03124251</td><td>0.3840035</td><td>0.6196801</td><td>0.6115592</td></tr>\n",
       "</tbody>\n",
       "</table>\n"
      ],
      "text/latex": [
       "A matrix: 4 × 6 of type dbl\n",
       "\\begin{tabular}{r|llllll}\n",
       "  & AE & MAE & MAPE & MSE & RMSE & R\\_adj\\\\\n",
       "\\hline\n",
       "\tDefault\\_reg & -0.01988080 & 0.4217819 & 0.03122556 & 0.3842710 & 0.6198960 & 0.6112549\\\\\n",
       "\tForward & -0.02012952 & 0.4215807 & 0.03124251 & 0.3840035 & 0.6196801 & 0.6115592\\\\\n",
       "\tBackward & -0.02012952 & 0.4215807 & 0.03124251 & 0.3840035 & 0.6196801 & 0.6115592\\\\\n",
       "\tStepwise & -0.02012952 & 0.4215807 & 0.03124251 & 0.3840035 & 0.6196801 & 0.6115592\\\\\n",
       "\\end{tabular}\n"
      ],
      "text/markdown": [
       "\n",
       "A matrix: 4 × 6 of type dbl\n",
       "\n",
       "| <!--/--> | AE | MAE | MAPE | MSE | RMSE | R_adj |\n",
       "|---|---|---|---|---|---|---|\n",
       "| Default_reg | -0.01988080 | 0.4217819 | 0.03122556 | 0.3842710 | 0.6198960 | 0.6112549 |\n",
       "| Forward | -0.02012952 | 0.4215807 | 0.03124251 | 0.3840035 | 0.6196801 | 0.6115592 |\n",
       "| Backward | -0.02012952 | 0.4215807 | 0.03124251 | 0.3840035 | 0.6196801 | 0.6115592 |\n",
       "| Stepwise | -0.02012952 | 0.4215807 | 0.03124251 | 0.3840035 | 0.6196801 | 0.6115592 |\n",
       "\n"
      ],
      "text/plain": [
       "            AE          MAE       MAPE       MSE       RMSE      R_adj    \n",
       "Default_reg -0.01988080 0.4217819 0.03122556 0.3842710 0.6198960 0.6112549\n",
       "Forward     -0.02012952 0.4215807 0.03124251 0.3840035 0.6196801 0.6115592\n",
       "Backward    -0.02012952 0.4215807 0.03124251 0.3840035 0.6196801 0.6115592\n",
       "Stepwise    -0.02012952 0.4215807 0.03124251 0.3840035 0.6196801 0.6115592"
      ]
     },
     "metadata": {},
     "output_type": "display_data"
    }
   ],
   "source": [
    "c_data2.mat"
   ]
  },
  {
   "cell_type": "code",
   "execution_count": null,
   "metadata": {},
   "outputs": [],
   "source": []
  }
 ],
 "metadata": {
  "kernelspec": {
   "display_name": "R",
   "language": "R",
   "name": "ir"
  },
  "language_info": {
   "codemirror_mode": "r",
   "file_extension": ".r",
   "mimetype": "text/x-r-source",
   "name": "R",
   "pygments_lexer": "r",
   "version": "3.5.3"
  }
 },
 "nbformat": 4,
 "nbformat_minor": 2
}
