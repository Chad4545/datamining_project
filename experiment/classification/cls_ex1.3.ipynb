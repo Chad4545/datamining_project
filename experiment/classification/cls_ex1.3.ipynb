{
 "cells": [
  {
   "cell_type": "code",
   "execution_count": 1,
   "metadata": {},
   "outputs": [
    {
     "data": {
      "text/html": [
       "'/Users/sungjinpark/OneDrive - konkuk.ac.kr/datamining/appstore_2/2experiment'"
      ],
      "text/latex": [
       "'/Users/sungjinpark/OneDrive - konkuk.ac.kr/datamining/appstore\\_2/2experiment'"
      ],
      "text/markdown": [
       "'/Users/sungjinpark/OneDrive - konkuk.ac.kr/datamining/appstore_2/2experiment'"
      ],
      "text/plain": [
       "[1] \"/Users/sungjinpark/OneDrive - konkuk.ac.kr/datamining/appstore_2/2experiment\""
      ]
     },
     "metadata": {},
     "output_type": "display_data"
    }
   ],
   "source": [
    "rm(list=ls())\n",
    "getwd()\n",
    "dir='/Users/sungjinpark/OneDrive - konkuk.ac.kr/datamining/appstore_2/2experiment'\n",
    "setwd(dir)"
   ]
  },
  {
   "cell_type": "markdown",
   "metadata": {},
   "source": [
    "# 5 clasees \n",
    "\n",
    "## 'Education' 'Entertainment' 'Games' 'Photo & Video' 'Utilities' 'etc' Dada"
   ]
  },
  {
   "cell_type": "code",
   "execution_count": 2,
   "metadata": {},
   "outputs": [
    {
     "data": {
      "text/html": [
       "<ol class=list-inline>\n",
       "\t<li>'1'</li>\n",
       "\t<li>'2'</li>\n",
       "\t<li>'3'</li>\n",
       "\t<li>'4'</li>\n",
       "\t<li>'5'</li>\n",
       "</ol>\n"
      ],
      "text/latex": [
       "\\begin{enumerate*}\n",
       "\\item '1'\n",
       "\\item '2'\n",
       "\\item '3'\n",
       "\\item '4'\n",
       "\\item '5'\n",
       "\\end{enumerate*}\n"
      ],
      "text/markdown": [
       "1. '1'\n",
       "2. '2'\n",
       "3. '3'\n",
       "4. '4'\n",
       "5. '5'\n",
       "\n",
       "\n"
      ],
      "text/plain": [
       "[1] \"1\" \"2\" \"3\" \"4\" \"5\""
      ]
     },
     "metadata": {},
     "output_type": "display_data"
    },
    {
     "data": {
      "text/html": [
       "<ol class=list-inline>\n",
       "\t<li>'Education'</li>\n",
       "\t<li>'Entertainment'</li>\n",
       "\t<li>'Games'</li>\n",
       "\t<li>'Photo &amp; Video'</li>\n",
       "\t<li>'Utilities'</li>\n",
       "\t<li>'etc'</li>\n",
       "</ol>\n"
      ],
      "text/latex": [
       "\\begin{enumerate*}\n",
       "\\item 'Education'\n",
       "\\item 'Entertainment'\n",
       "\\item 'Games'\n",
       "\\item 'Photo \\& Video'\n",
       "\\item 'Utilities'\n",
       "\\item 'etc'\n",
       "\\end{enumerate*}\n"
      ],
      "text/markdown": [
       "1. 'Education'\n",
       "2. 'Entertainment'\n",
       "3. 'Games'\n",
       "4. 'Photo &amp; Video'\n",
       "5. 'Utilities'\n",
       "6. 'etc'\n",
       "\n",
       "\n"
      ],
      "text/plain": [
       "[1] \"Education\"     \"Entertainment\" \"Games\"         \"Photo & Video\"\n",
       "[5] \"Utilities\"     \"etc\"          "
      ]
     },
     "metadata": {},
     "output_type": "display_data"
    }
   ],
   "source": [
    "load('cls_3_train.rda')\n",
    "load('cls_3_test.rda')\n",
    "levels(cls_3_train$user_rating)\n",
    "levels(cls_3_train$prime_genre)"
   ]
  },
  {
   "cell_type": "code",
   "execution_count": 4,
   "metadata": {},
   "outputs": [],
   "source": [
    "colnames(cls_3_train)[4] <- \"Y\"\n",
    "colnames(cls_3_test)[4]<- \"Y\"\n",
    "\n",
    "##################################################################\n",
    "# relevel categorical variables\n",
    "##################################################################\n",
    "#str(cls_3_train)\n",
    "cls_3_train <- droplevels(cls_3_train)    \n",
    "cls_3_test <- droplevels(cls_3_test)\n",
    "#str(cls_3_train)\n",
    "library(mcca) # measure\n",
    "library(nnet) # multinom\n",
    "library(rpart) # tree\n",
    "library(e1071) #SVM\n",
    "library(randomForest)#rf\n",
    "library(caret) #select tuning parameters"
   ]
  },
  {
   "cell_type": "markdown",
   "metadata": {},
   "source": [
    "# 2. modeling \n",
    "\n",
    "- multinomial \n",
    "\n",
    "- SVM\n",
    "\n",
    "- Randomforest\n",
    "\n",
    "- 여기서는 hum을 사용할수 없어서 test acc 만을 사용"
   ]
  },
  {
   "cell_type": "code",
   "execution_count": 5,
   "metadata": {},
   "outputs": [
    {
     "data": {
      "text/html": [
       "<table>\n",
       "<caption>A matrix: 1 × 6 of type dbl</caption>\n",
       "<thead>\n",
       "\t<tr><th></th><th scope=col>Multinom</th><th scope=col>SVM.radial</th><th scope=col>SVM.linear</th><th scope=col>SVM.polynomail</th><th scope=col>SVM.sigmoid</th><th scope=col>Rndomforest</th></tr>\n",
       "</thead>\n",
       "<tbody>\n",
       "\t<tr><th scope=row>test Accuracy</th><td>0</td><td>0</td><td>0</td><td>0</td><td>0</td><td>0</td></tr>\n",
       "</tbody>\n",
       "</table>\n"
      ],
      "text/latex": [
       "A matrix: 1 × 6 of type dbl\n",
       "\\begin{tabular}{r|llllll}\n",
       "  & Multinom & SVM.radial & SVM.linear & SVM.polynomail & SVM.sigmoid & Rndomforest\\\\\n",
       "\\hline\n",
       "\ttest Accuracy & 0 & 0 & 0 & 0 & 0 & 0\\\\\n",
       "\\end{tabular}\n"
      ],
      "text/markdown": [
       "\n",
       "A matrix: 1 × 6 of type dbl\n",
       "\n",
       "| <!--/--> | Multinom | SVM.radial | SVM.linear | SVM.polynomail | SVM.sigmoid | Rndomforest |\n",
       "|---|---|---|---|---|---|---|\n",
       "| test Accuracy | 0 | 0 | 0 | 0 | 0 | 0 |\n",
       "\n"
      ],
      "text/plain": [
       "              Multinom SVM.radial SVM.linear SVM.polynomail SVM.sigmoid\n",
       "test Accuracy 0        0          0          0              0          \n",
       "              Rndomforest\n",
       "test Accuracy 0          "
      ]
     },
     "metadata": {},
     "output_type": "display_data"
    }
   ],
   "source": [
    "c_data1.mat = matrix(0,1,6)\n",
    "colnames(c_data1.mat) = c(\"Multinom\",\"SVM.radial\",\"SVM.linear\",\"SVM.polynomail\",\"SVM.sigmoid\",\"Rndomforest\")\n",
    "rownames(c_data1.mat) = c( \"test Accuracy\") \n",
    "c_data1.mat"
   ]
  },
  {
   "cell_type": "markdown",
   "metadata": {},
   "source": [
    "## 2.1 mutinomial"
   ]
  },
  {
   "cell_type": "code",
   "execution_count": 6,
   "metadata": {},
   "outputs": [
    {
     "name": "stdout",
     "output_type": "stream",
     "text": [
      "# weights:  100 (76 variable)\n",
      "initial  value 9231.735866 \n",
      "iter  10 value 8096.198659\n",
      "iter  20 value 7457.623944\n",
      "iter  30 value 6521.484670\n",
      "iter  40 value 6124.980667\n",
      "iter  50 value 5469.505066\n",
      "iter  60 value 5214.738037\n",
      "iter  70 value 5105.226283\n",
      "iter  80 value 5046.072053\n",
      "iter  90 value 5013.096110\n",
      "iter 100 value 4990.416924\n",
      "final  value 4990.416924 \n",
      "stopped after 100 iterations\n"
     ]
    },
    {
     "data": {
      "text/html": [
       "<table>\n",
       "<caption>A matrix: 1 × 6 of type dbl</caption>\n",
       "<thead>\n",
       "\t<tr><th></th><th scope=col>Multinom</th><th scope=col>SVM.radial</th><th scope=col>SVM.linear</th><th scope=col>SVM.polynomail</th><th scope=col>SVM.sigmoid</th><th scope=col>Rndomforest</th></tr>\n",
       "</thead>\n",
       "<tbody>\n",
       "\t<tr><th scope=row>test Accuracy</th><td>0.6150628</td><td>0</td><td>0</td><td>0</td><td>0</td><td>0</td></tr>\n",
       "</tbody>\n",
       "</table>\n"
      ],
      "text/latex": [
       "A matrix: 1 × 6 of type dbl\n",
       "\\begin{tabular}{r|llllll}\n",
       "  & Multinom & SVM.radial & SVM.linear & SVM.polynomail & SVM.sigmoid & Rndomforest\\\\\n",
       "\\hline\n",
       "\ttest Accuracy & 0.6150628 & 0 & 0 & 0 & 0 & 0\\\\\n",
       "\\end{tabular}\n"
      ],
      "text/markdown": [
       "\n",
       "A matrix: 1 × 6 of type dbl\n",
       "\n",
       "| <!--/--> | Multinom | SVM.radial | SVM.linear | SVM.polynomail | SVM.sigmoid | Rndomforest |\n",
       "|---|---|---|---|---|---|---|\n",
       "| test Accuracy | 0.6150628 | 0 | 0 | 0 | 0 | 0 |\n",
       "\n"
      ],
      "text/plain": [
       "              Multinom  SVM.radial SVM.linear SVM.polynomail SVM.sigmoid\n",
       "test Accuracy 0.6150628 0          0          0              0          \n",
       "              Rndomforest\n",
       "test Accuracy 0          "
      ]
     },
     "metadata": {},
     "output_type": "display_data"
    }
   ],
   "source": [
    "#####################################\n",
    "multinom.fit = multinom(Y~.,data=cls_3_train)\n",
    "set.seed(1)\n",
    "tab = table(cls_3_test[,4],predict(multinom.fit,newdata=cls_3_test[,-4]))\n",
    "ts.ccp = sum(diag(tab))/sum(tab);## 2.1 mutinomial\n",
    "c_data1.mat[,1] = c(ts.ccp)\n",
    "c_data1.mat"
   ]
  },
  {
   "cell_type": "markdown",
   "metadata": {},
   "source": [
    "## 2.2 SVM - Radial Kernel"
   ]
  },
  {
   "cell_type": "code",
   "execution_count": 7,
   "metadata": {},
   "outputs": [
    {
     "data": {
      "text/html": [
       "<table>\n",
       "<caption>A matrix: 1 × 6 of type dbl</caption>\n",
       "<thead>\n",
       "\t<tr><th></th><th scope=col>Multinom</th><th scope=col>SVM.radial</th><th scope=col>SVM.linear</th><th scope=col>SVM.polynomail</th><th scope=col>SVM.sigmoid</th><th scope=col>Rndomforest</th></tr>\n",
       "</thead>\n",
       "<tbody>\n",
       "\t<tr><th scope=row>test Accuracy</th><td>0.6150628</td><td>0.665272</td><td>0</td><td>0</td><td>0</td><td>0</td></tr>\n",
       "</tbody>\n",
       "</table>\n"
      ],
      "text/latex": [
       "A matrix: 1 × 6 of type dbl\n",
       "\\begin{tabular}{r|llllll}\n",
       "  & Multinom & SVM.radial & SVM.linear & SVM.polynomail & SVM.sigmoid & Rndomforest\\\\\n",
       "\\hline\n",
       "\ttest Accuracy & 0.6150628 & 0.665272 & 0 & 0 & 0 & 0\\\\\n",
       "\\end{tabular}\n"
      ],
      "text/markdown": [
       "\n",
       "A matrix: 1 × 6 of type dbl\n",
       "\n",
       "| <!--/--> | Multinom | SVM.radial | SVM.linear | SVM.polynomail | SVM.sigmoid | Rndomforest |\n",
       "|---|---|---|---|---|---|---|\n",
       "| test Accuracy | 0.6150628 | 0.665272 | 0 | 0 | 0 | 0 |\n",
       "\n"
      ],
      "text/plain": [
       "              Multinom  SVM.radial SVM.linear SVM.polynomail SVM.sigmoid\n",
       "test Accuracy 0.6150628 0.665272   0          0              0          \n",
       "              Rndomforest\n",
       "test Accuracy 0          "
      ]
     },
     "metadata": {},
     "output_type": "display_data"
    }
   ],
   "source": [
    "#####################################\n",
    "# SVM - radial\n",
    "#####################################\n",
    "set.seed(1)\n",
    "svm.radial.fit = svm(Y~.,data=cls_3_train,kernel=\"radial\",type=\"C\",probability=TRUE)\n",
    "set.seed(1)\n",
    "tab = table(cls_3_test[,4],predict(svm.radial.fit,newdata=cls_3_test[,-4]))\n",
    "ts.ccp = sum(diag(tab))/sum(tab)## 2.2 SVM - Radial Kernel\n",
    "c_data1.mat[,2] = c(ts.ccp)\n",
    "c_data1.mat"
   ]
  },
  {
   "cell_type": "markdown",
   "metadata": {},
   "source": [
    "## 2.3 SVM - Linear"
   ]
  },
  {
   "cell_type": "code",
   "execution_count": 8,
   "metadata": {},
   "outputs": [],
   "source": [
    "#####################################\n",
    "# SVM - linear\n",
    "#####################################\n",
    "set.seed(1)\n",
    "svm.linear.fit = svm(Y~.,data=cls_3_train,kernel=\"linear\",type=\"C\",probability=TRUE)\n",
    "set.seed(1)\n",
    "tab = table(cls_3_test[,4],predict(svm.linear.fit,newdata=cls_3_test[,-4]))\n",
    "ts.ccp = sum(diag(tab))/sum(tab)\n",
    "c_data1.mat[,3] = c(ts.ccp)\n",
    "## 2.3 SVM - Linearc_data1.mat"
   ]
  },
  {
   "cell_type": "markdown",
   "metadata": {},
   "source": [
    "## 2.4 SVM - Poly"
   ]
  },
  {
   "cell_type": "code",
   "execution_count": null,
   "metadata": {},
   "outputs": [],
   "source": [
    "#####################################\n",
    "# SVM - polynomial\n",
    "################ 2.4 SVM - Poly#######################\n",
    "set.seed(1)\n",
    "svm.poly.fit = svm(Y~.,data=cls_3_train,kernel=\"polynomial\",type=\"C\",probability=TRUE)\n",
    "set.seed(1)\n",
    "tab = table(cls_3_test[,4],predict(svm.poly.fit,newdata=cls_3_test[,-4]))\n",
    "ts.ccp = sum(diag(tab))/sum(tab)\n",
    "c_data1.mat[,4] = c(ts.ccp)\n",
    "c_data1.mat"
   ]
  },
  {
   "cell_type": "markdown",
   "metadata": {},
   "source": [
    "## 2.5 SVM - Sigmoid"
   ]
  },
  {
   "cell_type": "code",
   "execution_count": null,
   "metadata": {},
   "outputs": [],
   "source": [
    "#####################################\n",
    "# SVM - sigmoid\n",
    "#####################################\n",
    "set.seed(1)\n",
    "svm.sig.fit = svm(Y~.,data=cls_3_train,kernel=\"sigmoid\",type=\"C\",probability=TRUE)\n",
    "set.seed(1)\n",
    "tab = table(cls_3_test[,4],predict(svm.sig.fit,newdata=cls_3_test[,-4]))\n",
    "ts.ccp = sum(diag(tab))/sum(tab)\n",
    "c_data1.mat[,5] = c(ts.ccp)\n",
    "## 2.5 SVM - Sigmoidc_data1.mat"
   ]
  },
  {
   "cell_type": "markdown",
   "metadata": {},
   "source": [
    "## 2.6 RandomForest"
   ]
  },
  {
   "cell_type": "code",
   "execution_count": null,
   "metadata": {},
   "outputs": [],
   "source": [
    "################################################\n",
    "## Randomforest\n",
    "################################################\n",
    "set.seed(1)\n",
    "rf.fit = randomForest(Y~.,data=cls_3_train,type='C')\n",
    "set.seed(1)## 2.6 RandomForest\n",
    "tab = table(cls_3_test[,4],predict(rf.fit,newdata=cls_3_test[,-4]))\n",
    "ts.ccp = sum(diag(tab))/sum(tab)\n",
    "c_data1.mat[,6] = c(ts.ccp)\n",
    "c_data1.mat"
   ]
  }
 ],
 "metadata": {
  "kernelspec": {
   "display_name": "R",
   "language": "R",
   "name": "ir"
  },
  "language_info": {
   "codemirror_mode": "r",
   "file_extension": ".r",
   "mimetype": "text/x-r-source",
   "name": "R",
   "pygments_lexer": "r",
   "version": "3.5.3"
  }
 },
 "nbformat": 4,
 "nbformat_minor": 2
}
