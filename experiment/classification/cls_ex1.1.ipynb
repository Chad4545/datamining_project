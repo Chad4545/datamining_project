{
 "cells": [
  {
   "cell_type": "code",
   "execution_count": 1,
   "metadata": {},
   "outputs": [
    {
     "data": {
      "text/html": [
       "'/Users/sungjinpark/OneDrive - konkuk.ac.kr/datamining/appstore_2/2experiment'"
      ],
      "text/latex": [
       "'/Users/sungjinpark/OneDrive - konkuk.ac.kr/datamining/appstore\\_2/2experiment'"
      ],
      "text/markdown": [
       "'/Users/sungjinpark/OneDrive - konkuk.ac.kr/datamining/appstore_2/2experiment'"
      ],
      "text/plain": [
       "[1] \"/Users/sungjinpark/OneDrive - konkuk.ac.kr/datamining/appstore_2/2experiment\""
      ]
     },
     "metadata": {},
     "output_type": "display_data"
    }
   ],
   "source": [
    "rm(list=ls())\n",
    "getwd()\n",
    "dir='/Users/sungjinpark/Desktop/datamining_project/experiment/classification'\n",
    "setwd(dir)"
   ]
  },
  {
   "cell_type": "markdown",
   "metadata": {},
   "source": [
    "# 1) 5 classes , Game vs Non-game  data"
   ]
  },
  {
   "cell_type": "code",
   "execution_count": 2,
   "metadata": {},
   "outputs": [
    {
     "data": {
      "text/html": [
       "<ol class=list-inline>\n",
       "\t<li>'price'</li>\n",
       "\t<li>'rating_count_tot'</li>\n",
       "\t<li>'rating_count_ver'</li>\n",
       "\t<li>'user_rating'</li>\n",
       "\t<li>'user_rating_ver'</li>\n",
       "\t<li>'ver'</li>\n",
       "\t<li>'cont_rating'</li>\n",
       "\t<li>'prime_genre'</li>\n",
       "\t<li>'sup_devices.num'</li>\n",
       "\t<li>'ipadSc_urls.num'</li>\n",
       "\t<li>'lang.num'</li>\n",
       "\t<li>'size_mega'</li>\n",
       "\t<li>'sum_rate_ver'</li>\n",
       "</ol>\n"
      ],
      "text/latex": [
       "\\begin{enumerate*}\n",
       "\\item 'price'\n",
       "\\item 'rating\\_count\\_tot'\n",
       "\\item 'rating\\_count\\_ver'\n",
       "\\item 'user\\_rating'\n",
       "\\item 'user\\_rating\\_ver'\n",
       "\\item 'ver'\n",
       "\\item 'cont\\_rating'\n",
       "\\item 'prime\\_genre'\n",
       "\\item 'sup\\_devices.num'\n",
       "\\item 'ipadSc\\_urls.num'\n",
       "\\item 'lang.num'\n",
       "\\item 'size\\_mega'\n",
       "\\item 'sum\\_rate\\_ver'\n",
       "\\end{enumerate*}\n"
      ],
      "text/markdown": [
       "1. 'price'\n",
       "2. 'rating_count_tot'\n",
       "3. 'rating_count_ver'\n",
       "4. 'user_rating'\n",
       "5. 'user_rating_ver'\n",
       "6. 'ver'\n",
       "7. 'cont_rating'\n",
       "8. 'prime_genre'\n",
       "9. 'sup_devices.num'\n",
       "10. 'ipadSc_urls.num'\n",
       "11. 'lang.num'\n",
       "12. 'size_mega'\n",
       "13. 'sum_rate_ver'\n",
       "\n",
       "\n"
      ],
      "text/plain": [
       " [1] \"price\"            \"rating_count_tot\" \"rating_count_ver\" \"user_rating\"     \n",
       " [5] \"user_rating_ver\"  \"ver\"              \"cont_rating\"      \"prime_genre\"     \n",
       " [9] \"sup_devices.num\"  \"ipadSc_urls.num\"  \"lang.num\"         \"size_mega\"       \n",
       "[13] \"sum_rate_ver\"    "
      ]
     },
     "metadata": {},
     "output_type": "display_data"
    }
   ],
   "source": [
    "load('cls_1_train.rda')\n",
    "load('cls_1_test.rda')\n",
    "colnames(cls_1_train)"
   ]
  },
  {
   "cell_type": "code",
   "execution_count": 3,
   "metadata": {},
   "outputs": [
    {
     "data": {
      "text/html": [
       "<ol class=list-inline>\n",
       "\t<li>'1'</li>\n",
       "\t<li>'2'</li>\n",
       "\t<li>'3'</li>\n",
       "\t<li>'4'</li>\n",
       "\t<li>'5'</li>\n",
       "</ol>\n"
      ],
      "text/latex": [
       "\\begin{enumerate*}\n",
       "\\item '1'\n",
       "\\item '2'\n",
       "\\item '3'\n",
       "\\item '4'\n",
       "\\item '5'\n",
       "\\end{enumerate*}\n"
      ],
      "text/markdown": [
       "1. '1'\n",
       "2. '2'\n",
       "3. '3'\n",
       "4. '4'\n",
       "5. '5'\n",
       "\n",
       "\n"
      ],
      "text/plain": [
       "[1] \"1\" \"2\" \"3\" \"4\" \"5\""
      ]
     },
     "metadata": {},
     "output_type": "display_data"
    },
    {
     "data": {
      "text/html": [
       "<ol class=list-inline>\n",
       "\t<li>'Games'</li>\n",
       "\t<li>'Non_Games'</li>\n",
       "</ol>\n"
      ],
      "text/latex": [
       "\\begin{enumerate*}\n",
       "\\item 'Games'\n",
       "\\item 'Non\\_Games'\n",
       "\\end{enumerate*}\n"
      ],
      "text/markdown": [
       "1. 'Games'\n",
       "2. 'Non_Games'\n",
       "\n",
       "\n"
      ],
      "text/plain": [
       "[1] \"Games\"     \"Non_Games\""
      ]
     },
     "metadata": {},
     "output_type": "display_data"
    }
   ],
   "source": [
    "levels(cls_1_train$user_rating)\n",
    "levels(cls_1_train$prime_genre)"
   ]
  },
  {
   "cell_type": "code",
   "execution_count": 6,
   "metadata": {},
   "outputs": [],
   "source": [
    "colnames(cls_1_train)[4] <- \"Y\"\n",
    "colnames(cls_1_test)[4]<- \"Y\"\n",
    "##################################################################\n",
    "# relevel categorical variables\n",
    "##################################################################\n",
    "\n",
    "cls_1_train <- droplevels(cls_1_train)    \n",
    "cls_1_test <- droplevels(cls_1_test)\n",
    "\n",
    "\n",
    "\n",
    "library(mcca) # measure\n",
    "library(nnet) # multinom\n",
    "library(rpart) # tree\n",
    "library(e1071) #SVM\n",
    "library(randomForest)#rf\n",
    "library(caret) #select tuning parameters\n"
   ]
  },
  {
   "cell_type": "markdown",
   "metadata": {},
   "source": [
    "# 2. modeling \n",
    "\n",
    "- multinomial \n",
    "\n",
    "- SVM\n",
    "\n",
    "- Randomforest\n",
    "\n",
    "- 여기서는 hum을 사용할수 없어서 test acc 만을 사용"
   ]
  },
  {
   "cell_type": "code",
   "execution_count": 5,
   "metadata": {},
   "outputs": [
    {
     "data": {
      "text/html": [
       "<table>\n",
       "<caption>A matrix: 1 × 6 of type dbl</caption>\n",
       "<thead>\n",
       "\t<tr><th></th><th scope=col>Multinom</th><th scope=col>SVM.radial</th><th scope=col>SVM.linear</th><th scope=col>SVM.polynomail</th><th scope=col>SVM.sigmoid</th><th scope=col>Rndomforest</th></tr>\n",
       "</thead>\n",
       "<tbody>\n",
       "\t<tr><th scope=row>test Accuracy</th><td>0</td><td>0</td><td>0</td><td>0</td><td>0</td><td>0</td></tr>\n",
       "</tbody>\n",
       "</table>\n"
      ],
      "text/latex": [
       "A matrix: 1 × 6 of type dbl\n",
       "\\begin{tabular}{r|llllll}\n",
       "  & Multinom & SVM.radial & SVM.linear & SVM.polynomail & SVM.sigmoid & Rndomforest\\\\\n",
       "\\hline\n",
       "\ttest Accuracy & 0 & 0 & 0 & 0 & 0 & 0\\\\\n",
       "\\end{tabular}\n"
      ],
      "text/markdown": [
       "\n",
       "A matrix: 1 × 6 of type dbl\n",
       "\n",
       "| <!--/--> | Multinom | SVM.radial | SVM.linear | SVM.polynomail | SVM.sigmoid | Rndomforest |\n",
       "|---|---|---|---|---|---|---|\n",
       "| test Accuracy | 0 | 0 | 0 | 0 | 0 | 0 |\n",
       "\n"
      ],
      "text/plain": [
       "              Multinom SVM.radial SVM.linear SVM.polynomail SVM.sigmoid\n",
       "test Accuracy 0        0          0          0              0          \n",
       "              Rndomforest\n",
       "test Accuracy 0          "
      ]
     },
     "metadata": {},
     "output_type": "display_data"
    }
   ],
   "source": [
    "c_data1.mat = matrix(0,1,6)\n",
    "colnames(c_data1.mat) = c(\"Multinom\",\"SVM.radial\",\"SVM.linear\",\"SVM.polynomail\",\"SVM.sigmoid\",\"Rndomforest\")\n",
    "rownames(c_data1.mat) = c( \"test Accuracy\") \n",
    "c_data1.mat"
   ]
  },
  {
   "cell_type": "markdown",
   "metadata": {},
   "source": [
    "## 2.1 mutinomial"
   ]
  },
  {
   "cell_type": "code",
   "execution_count": 7,
   "metadata": {},
   "outputs": [
    {
     "name": "stdout",
     "output_type": "stream",
     "text": [
      "# weights:  80 (60 variable)\n",
      "initial  value 9231.735866 \n",
      "iter  10 value 8096.205132\n",
      "iter  20 value 7458.332988\n",
      "iter  30 value 6530.303388\n",
      "iter  40 value 6212.032329\n",
      "iter  50 value 5520.243322\n",
      "iter  60 value 5198.556440\n",
      "iter  70 value 5076.050929\n",
      "iter  80 value 5033.819397\n",
      "iter  90 value 5005.168411\n",
      "iter 100 value 4989.372602\n",
      "final  value 4989.372602 \n",
      "stopped after 100 iterations\n"
     ]
    },
    {
     "data": {
      "text/html": [
       "<table>\n",
       "<caption>A matrix: 1 × 6 of type dbl</caption>\n",
       "<thead>\n",
       "\t<tr><th></th><th scope=col>Multinom</th><th scope=col>SVM.radial</th><th scope=col>SVM.linear</th><th scope=col>SVM.polynomail</th><th scope=col>SVM.sigmoid</th><th scope=col>Rndomforest</th></tr>\n",
       "</thead>\n",
       "<tbody>\n",
       "\t<tr><th scope=row>test Accuracy</th><td>0.6178522</td><td>0</td><td>0</td><td>0</td><td>0</td><td>0</td></tr>\n",
       "</tbody>\n",
       "</table>\n"
      ],
      "text/latex": [
       "A matrix: 1 × 6 of type dbl\n",
       "\\begin{tabular}{r|llllll}\n",
       "  & Multinom & SVM.radial & SVM.linear & SVM.polynomail & SVM.sigmoid & Rndomforest\\\\\n",
       "\\hline\n",
       "\ttest Accuracy & 0.6178522 & 0 & 0 & 0 & 0 & 0\\\\\n",
       "\\end{tabular}\n"
      ],
      "text/markdown": [
       "\n",
       "A matrix: 1 × 6 of type dbl\n",
       "\n",
       "| <!--/--> | Multinom | SVM.radial | SVM.linear | SVM.polynomail | SVM.sigmoid | Rndomforest |\n",
       "|---|---|---|---|---|---|---|\n",
       "| test Accuracy | 0.6178522 | 0 | 0 | 0 | 0 | 0 |\n",
       "\n"
      ],
      "text/plain": [
       "              Multinom  SVM.radial SVM.linear SVM.polynomail SVM.sigmoid\n",
       "test Accuracy 0.6178522 0          0          0              0          \n",
       "              Rndomforest\n",
       "test Accuracy 0          "
      ]
     },
     "metadata": {},
     "output_type": "display_data"
    }
   ],
   "source": [
    "set.seed(1)\n",
    "multinom.fit = multinom(Y~.,data=cls_1_train)\n",
    "set.seed(1)\n",
    "tab = table(cls_1_test[,4],predict(multinom.fit,newdata=cls_1_test[,-4]))\n",
    "ts.ccp = sum(diag(tab))/sum(tab);\n",
    "c_data1.mat[,1] = c(ts.ccp)\n",
    "c_data1.mat"
   ]
  },
  {
   "cell_type": "markdown",
   "metadata": {},
   "source": [
    "## 2.2 SVM - Radial Kernel"
   ]
  },
  {
   "cell_type": "code",
   "execution_count": 8,
   "metadata": {},
   "outputs": [
    {
     "data": {
      "text/html": [
       "<table>\n",
       "<caption>A matrix: 1 × 6 of type dbl</caption>\n",
       "<thead>\n",
       "\t<tr><th></th><th scope=col>Multinom</th><th scope=col>SVM.radial</th><th scope=col>SVM.linear</th><th scope=col>SVM.polynomail</th><th scope=col>SVM.sigmoid</th><th scope=col>Rndomforest</th></tr>\n",
       "</thead>\n",
       "<tbody>\n",
       "\t<tr><th scope=row>test Accuracy</th><td>0.6178522</td><td>0.6680614</td><td>0</td><td>0</td><td>0</td><td>0</td></tr>\n",
       "</tbody>\n",
       "</table>\n"
      ],
      "text/latex": [
       "A matrix: 1 × 6 of type dbl\n",
       "\\begin{tabular}{r|llllll}\n",
       "  & Multinom & SVM.radial & SVM.linear & SVM.polynomail & SVM.sigmoid & Rndomforest\\\\\n",
       "\\hline\n",
       "\ttest Accuracy & 0.6178522 & 0.6680614 & 0 & 0 & 0 & 0\\\\\n",
       "\\end{tabular}\n"
      ],
      "text/markdown": [
       "\n",
       "A matrix: 1 × 6 of type dbl\n",
       "\n",
       "| <!--/--> | Multinom | SVM.radial | SVM.linear | SVM.polynomail | SVM.sigmoid | Rndomforest |\n",
       "|---|---|---|---|---|---|---|\n",
       "| test Accuracy | 0.6178522 | 0.6680614 | 0 | 0 | 0 | 0 |\n",
       "\n"
      ],
      "text/plain": [
       "              Multinom  SVM.radial SVM.linear SVM.polynomail SVM.sigmoid\n",
       "test Accuracy 0.6178522 0.6680614  0          0              0          \n",
       "              Rndomforest\n",
       "test Accuracy 0          "
      ]
     },
     "metadata": {},
     "output_type": "display_data"
    }
   ],
   "source": [
    "#####################################\n",
    "# SVM - radial\n",
    "#####################################\n",
    "set.seed(1)\n",
    "svm.radial.fit = svm(Y~.,data=cls_1_train,kernel=\"radial\",type=\"C\",probability=TRUE)\n",
    "set.seed(1)\n",
    "tab = table(cls_1_test[,4],predict(svm.radial.fit,newdata=cls_1_test[,-4]))\n",
    "ts.ccp = sum(diag(tab))/sum(tab)\n",
    "\n",
    "c_data1.mat[,2] = c(ts.ccp)\n",
    "c_data1.mat"
   ]
  },
  {
   "cell_type": "markdown",
   "metadata": {},
   "source": [
    "## 2.3 SVM - Linear"
   ]
  },
  {
   "cell_type": "code",
   "execution_count": 9,
   "metadata": {},
   "outputs": [
    {
     "data": {
      "text/html": [
       "<table>\n",
       "<caption>A matrix: 1 × 6 of type dbl</caption>\n",
       "<thead>\n",
       "\t<tr><th></th><th scope=col>Multinom</th><th scope=col>SVM.radial</th><th scope=col>SVM.linear</th><th scope=col>SVM.polynomail</th><th scope=col>SVM.sigmoid</th><th scope=col>Rndomforest</th></tr>\n",
       "</thead>\n",
       "<tbody>\n",
       "\t<tr><th scope=row>test Accuracy</th><td>0.6178522</td><td>0.6680614</td><td>0.5829847</td><td>0</td><td>0</td><td>0</td></tr>\n",
       "</tbody>\n",
       "</table>\n"
      ],
      "text/latex": [
       "A matrix: 1 × 6 of type dbl\n",
       "\\begin{tabular}{r|llllll}\n",
       "  & Multinom & SVM.radial & SVM.linear & SVM.polynomail & SVM.sigmoid & Rndomforest\\\\\n",
       "\\hline\n",
       "\ttest Accuracy & 0.6178522 & 0.6680614 & 0.5829847 & 0 & 0 & 0\\\\\n",
       "\\end{tabular}\n"
      ],
      "text/markdown": [
       "\n",
       "A matrix: 1 × 6 of type dbl\n",
       "\n",
       "| <!--/--> | Multinom | SVM.radial | SVM.linear | SVM.polynomail | SVM.sigmoid | Rndomforest |\n",
       "|---|---|---|---|---|---|---|\n",
       "| test Accuracy | 0.6178522 | 0.6680614 | 0.5829847 | 0 | 0 | 0 |\n",
       "\n"
      ],
      "text/plain": [
       "              Multinom  SVM.radial SVM.linear SVM.polynomail SVM.sigmoid\n",
       "test Accuracy 0.6178522 0.6680614  0.5829847  0              0          \n",
       "              Rndomforest\n",
       "test Accuracy 0          "
      ]
     },
     "metadata": {},
     "output_type": "display_data"
    }
   ],
   "source": [
    "#####################################\n",
    "# SVM - linear\n",
    "#####################################\n",
    "set.seed(1)\n",
    "svm.linear.fit = svm(Y~.,data=cls_1_train,kernel=\"linear\",type=\"C\",probability=TRUE)\n",
    "set.seed(1)\n",
    "tab = table(cls_1_test[,4],predict(svm.linear.fit,newdata=cls_1_test[,-4]))\n",
    "ts.ccp = sum(diag(tab))/sum(tab)\n",
    "\n",
    "c_data1.mat[,3] = c(ts.ccp)\n",
    "c_data1.mat"
   ]
  },
  {
   "cell_type": "markdown",
   "metadata": {},
   "source": [
    "## 2.4 SVM - Poly"
   ]
  },
  {
   "cell_type": "code",
   "execution_count": 10,
   "metadata": {},
   "outputs": [
    {
     "data": {
      "text/html": [
       "<table>\n",
       "<caption>A matrix: 1 × 6 of type dbl</caption>\n",
       "<thead>\n",
       "\t<tr><th></th><th scope=col>Multinom</th><th scope=col>SVM.radial</th><th scope=col>SVM.linear</th><th scope=col>SVM.polynomail</th><th scope=col>SVM.sigmoid</th><th scope=col>Rndomforest</th></tr>\n",
       "</thead>\n",
       "<tbody>\n",
       "\t<tr><th scope=row>test Accuracy</th><td>0.6178522</td><td>0.6680614</td><td>0.5829847</td><td>0.5822873</td><td>0</td><td>0</td></tr>\n",
       "</tbody>\n",
       "</table>\n"
      ],
      "text/latex": [
       "A matrix: 1 × 6 of type dbl\n",
       "\\begin{tabular}{r|llllll}\n",
       "  & Multinom & SVM.radial & SVM.linear & SVM.polynomail & SVM.sigmoid & Rndomforest\\\\\n",
       "\\hline\n",
       "\ttest Accuracy & 0.6178522 & 0.6680614 & 0.5829847 & 0.5822873 & 0 & 0\\\\\n",
       "\\end{tabular}\n"
      ],
      "text/markdown": [
       "\n",
       "A matrix: 1 × 6 of type dbl\n",
       "\n",
       "| <!--/--> | Multinom | SVM.radial | SVM.linear | SVM.polynomail | SVM.sigmoid | Rndomforest |\n",
       "|---|---|---|---|---|---|---|\n",
       "| test Accuracy | 0.6178522 | 0.6680614 | 0.5829847 | 0.5822873 | 0 | 0 |\n",
       "\n"
      ],
      "text/plain": [
       "              Multinom  SVM.radial SVM.linear SVM.polynomail SVM.sigmoid\n",
       "test Accuracy 0.6178522 0.6680614  0.5829847  0.5822873      0          \n",
       "              Rndomforest\n",
       "test Accuracy 0          "
      ]
     },
     "metadata": {},
     "output_type": "display_data"
    }
   ],
   "source": [
    "#####################################\n",
    "# SVM - polynomial\n",
    "#####################################\n",
    "set.seed(1)\n",
    "svm.poly.fit = svm(Y~.,data=cls_1_train,kernel=\"polynomial\",type=\"C\",probability=TRUE)\n",
    "set.seed(1)\n",
    "tab = table(cls_1_test[,4],predict(svm.poly.fit,newdata=cls_1_test[,-4]))\n",
    "ts.ccp = sum(diag(tab))/sum(tab)\n",
    "\n",
    "c_data1.mat[,4] = c(ts.ccp)\n",
    "c_data1.mat"
   ]
  },
  {
   "cell_type": "markdown",
   "metadata": {},
   "source": [
    "## 2.5 SVM - Sigmoid"
   ]
  },
  {
   "cell_type": "code",
   "execution_count": 11,
   "metadata": {},
   "outputs": [
    {
     "data": {
      "text/html": [
       "<table>\n",
       "<caption>A matrix: 1 × 6 of type dbl</caption>\n",
       "<thead>\n",
       "\t<tr><th></th><th scope=col>Multinom</th><th scope=col>SVM.radial</th><th scope=col>SVM.linear</th><th scope=col>SVM.polynomail</th><th scope=col>SVM.sigmoid</th><th scope=col>Rndomforest</th></tr>\n",
       "</thead>\n",
       "<tbody>\n",
       "\t<tr><th scope=row>test Accuracy</th><td>0.6178522</td><td>0.6680614</td><td>0.5829847</td><td>0.5822873</td><td>0.5069735</td><td>0</td></tr>\n",
       "</tbody>\n",
       "</table>\n"
      ],
      "text/latex": [
       "A matrix: 1 × 6 of type dbl\n",
       "\\begin{tabular}{r|llllll}\n",
       "  & Multinom & SVM.radial & SVM.linear & SVM.polynomail & SVM.sigmoid & Rndomforest\\\\\n",
       "\\hline\n",
       "\ttest Accuracy & 0.6178522 & 0.6680614 & 0.5829847 & 0.5822873 & 0.5069735 & 0\\\\\n",
       "\\end{tabular}\n"
      ],
      "text/markdown": [
       "\n",
       "A matrix: 1 × 6 of type dbl\n",
       "\n",
       "| <!--/--> | Multinom | SVM.radial | SVM.linear | SVM.polynomail | SVM.sigmoid | Rndomforest |\n",
       "|---|---|---|---|---|---|---|\n",
       "| test Accuracy | 0.6178522 | 0.6680614 | 0.5829847 | 0.5822873 | 0.5069735 | 0 |\n",
       "\n"
      ],
      "text/plain": [
       "              Multinom  SVM.radial SVM.linear SVM.polynomail SVM.sigmoid\n",
       "test Accuracy 0.6178522 0.6680614  0.5829847  0.5822873      0.5069735  \n",
       "              Rndomforest\n",
       "test Accuracy 0          "
      ]
     },
     "metadata": {},
     "output_type": "display_data"
    }
   ],
   "source": [
    "#####################################\n",
    "# SVM - sigmoid\n",
    "#####################################\n",
    "set.seed(1)\n",
    "svm.sig.fit = svm(Y~.,data=cls_1_train,kernel=\"sigmoid\",type=\"C\",probability=TRUE)\n",
    "set.seed(1)\n",
    "tab = table(cls_1_test[,4],predict(svm.sig.fit,newdata=cls_1_test[,-4]))\n",
    "ts.ccp = sum(diag(tab))/sum(tab);\n",
    "\n",
    "c_data1.mat[,5] = c(ts.ccp)\n",
    "c_data1.mat"
   ]
  },
  {
   "cell_type": "markdown",
   "metadata": {},
   "source": [
    "## 2.6 RandomForest"
   ]
  },
  {
   "cell_type": "code",
   "execution_count": 12,
   "metadata": {},
   "outputs": [
    {
     "data": {
      "text/html": [
       "<table>\n",
       "<caption>A matrix: 1 × 6 of type dbl</caption>\n",
       "<thead>\n",
       "\t<tr><th></th><th scope=col>Multinom</th><th scope=col>SVM.radial</th><th scope=col>SVM.linear</th><th scope=col>SVM.polynomail</th><th scope=col>SVM.sigmoid</th><th scope=col>Rndomforest</th></tr>\n",
       "</thead>\n",
       "<tbody>\n",
       "\t<tr><th scope=row>test Accuracy</th><td>0.6178522</td><td>0.6680614</td><td>0.5829847</td><td>0.5822873</td><td>0.5069735</td><td>0.735007</td></tr>\n",
       "</tbody>\n",
       "</table>\n"
      ],
      "text/latex": [
       "A matrix: 1 × 6 of type dbl\n",
       "\\begin{tabular}{r|llllll}\n",
       "  & Multinom & SVM.radial & SVM.linear & SVM.polynomail & SVM.sigmoid & Rndomforest\\\\\n",
       "\\hline\n",
       "\ttest Accuracy & 0.6178522 & 0.6680614 & 0.5829847 & 0.5822873 & 0.5069735 & 0.735007\\\\\n",
       "\\end{tabular}\n"
      ],
      "text/markdown": [
       "\n",
       "A matrix: 1 × 6 of type dbl\n",
       "\n",
       "| <!--/--> | Multinom | SVM.radial | SVM.linear | SVM.polynomail | SVM.sigmoid | Rndomforest |\n",
       "|---|---|---|---|---|---|---|\n",
       "| test Accuracy | 0.6178522 | 0.6680614 | 0.5829847 | 0.5822873 | 0.5069735 | 0.735007 |\n",
       "\n"
      ],
      "text/plain": [
       "              Multinom  SVM.radial SVM.linear SVM.polynomail SVM.sigmoid\n",
       "test Accuracy 0.6178522 0.6680614  0.5829847  0.5822873      0.5069735  \n",
       "              Rndomforest\n",
       "test Accuracy 0.735007   "
      ]
     },
     "metadata": {},
     "output_type": "display_data"
    }
   ],
   "source": [
    "library(randomForest)\n",
    "set.seed(1)\n",
    "rf.fit = randomForest(Y~.,data=cls_1_train,type='C')\n",
    "set.seed(1)\n",
    "tab = table(cls_1_test[,4],predict(rf.fit,newdata=cls_1_test[,-4]))\n",
    "ts.ccp = sum(diag(tab))/sum(tab);\n",
    "\n",
    "c_data1.mat[,6] = c(ts.ccp)\n",
    "c_data1.mat"
   ]
  },
  {
   "cell_type": "code",
   "execution_count": null,
   "metadata": {},
   "outputs": [],
   "source": []
  }
 ],
 "metadata": {
  "kernelspec": {
   "display_name": "R",
   "language": "R",
   "name": "ir"
  },
  "language_info": {
   "codemirror_mode": "r",
   "file_extension": ".r",
   "mimetype": "text/x-r-source",
   "name": "R",
   "pygments_lexer": "r",
   "version": "3.5.3"
  }
 },
 "nbformat": 4,
 "nbformat_minor": 2
}
