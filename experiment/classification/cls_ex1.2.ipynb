{
 "cells": [
  {
   "cell_type": "code",
   "execution_count": 1,
   "metadata": {},
   "outputs": [
    {
     "data": {
      "text/html": [
       "'/Users/sungjinpark/OneDrive - konkuk.ac.kr/datamining/appstore_2/2experiment'"
      ],
      "text/latex": [
       "'/Users/sungjinpark/OneDrive - konkuk.ac.kr/datamining/appstore\\_2/2experiment'"
      ],
      "text/markdown": [
       "'/Users/sungjinpark/OneDrive - konkuk.ac.kr/datamining/appstore_2/2experiment'"
      ],
      "text/plain": [
       "[1] \"/Users/sungjinpark/OneDrive - konkuk.ac.kr/datamining/appstore_2/2experiment\""
      ]
     },
     "metadata": {},
     "output_type": "display_data"
    }
   ],
   "source": [
    "rm(list=ls())\n",
    "getwd()\n",
    "dir='/Users/sungjinpark/OneDrive - konkuk.ac.kr/datamining/appstore_2/2experiment'\n",
    "setwd(dir)"
   ]
  },
  {
   "cell_type": "markdown",
   "metadata": {},
   "source": [
    "# 10 classes , Game_Nongame data"
   ]
  },
  {
   "cell_type": "code",
   "execution_count": 2,
   "metadata": {},
   "outputs": [],
   "source": [
    "load('cls_2_train.rda')\n",
    "load('cls_2_test.rda')"
   ]
  },
  {
   "cell_type": "code",
   "execution_count": 3,
   "metadata": {},
   "outputs": [
    {
     "data": {
      "text/html": [
       "<ol class=list-inline>\n",
       "\t<li>'0'</li>\n",
       "\t<li>'1'</li>\n",
       "\t<li>'1.5'</li>\n",
       "\t<li>'2'</li>\n",
       "\t<li>'2.5'</li>\n",
       "\t<li>'3'</li>\n",
       "\t<li>'3.5'</li>\n",
       "\t<li>'4'</li>\n",
       "\t<li>'4.5'</li>\n",
       "\t<li>'5'</li>\n",
       "</ol>\n"
      ],
      "text/latex": [
       "\\begin{enumerate*}\n",
       "\\item '0'\n",
       "\\item '1'\n",
       "\\item '1.5'\n",
       "\\item '2'\n",
       "\\item '2.5'\n",
       "\\item '3'\n",
       "\\item '3.5'\n",
       "\\item '4'\n",
       "\\item '4.5'\n",
       "\\item '5'\n",
       "\\end{enumerate*}\n"
      ],
      "text/markdown": [
       "1. '0'\n",
       "2. '1'\n",
       "3. '1.5'\n",
       "4. '2'\n",
       "5. '2.5'\n",
       "6. '3'\n",
       "7. '3.5'\n",
       "8. '4'\n",
       "9. '4.5'\n",
       "10. '5'\n",
       "\n",
       "\n"
      ],
      "text/plain": [
       " [1] \"0\"   \"1\"   \"1.5\" \"2\"   \"2.5\" \"3\"   \"3.5\" \"4\"   \"4.5\" \"5\"  "
      ]
     },
     "metadata": {},
     "output_type": "display_data"
    },
    {
     "data": {
      "text/html": [
       "<ol class=list-inline>\n",
       "\t<li>'Games'</li>\n",
       "\t<li>'Non_Games'</li>\n",
       "</ol>\n"
      ],
      "text/latex": [
       "\\begin{enumerate*}\n",
       "\\item 'Games'\n",
       "\\item 'Non\\_Games'\n",
       "\\end{enumerate*}\n"
      ],
      "text/markdown": [
       "1. 'Games'\n",
       "2. 'Non_Games'\n",
       "\n",
       "\n"
      ],
      "text/plain": [
       "[1] \"Games\"     \"Non_Games\""
      ]
     },
     "metadata": {},
     "output_type": "display_data"
    }
   ],
   "source": [
    "levels(cls_2_train$user_rating)\n",
    "levels(cls_2_train$prime_genre)"
   ]
  },
  {
   "cell_type": "code",
   "execution_count": 5,
   "metadata": {},
   "outputs": [],
   "source": [
    "colnames(cls_2_train)[4] <- \"Y\"\n",
    "colnames(cls_2_test)[4]<- \"Y\"\n",
    "\n",
    "##################################################################\n",
    "# relevel categorical variables\n",
    "##################################################################\n",
    "#str(cls_2_train)\n",
    "cls_2_train <- droplevels(cls_2_train)    \n",
    "cls_2_test <- droplevels(cls_2_test)\n",
    "#str(cls_2_train)\n",
    "\n",
    "library(mcca) # measure\n",
    "library(nnet) # multinom\n",
    "library(rpart) # tree\n",
    "library(e1071) #SVM\n",
    "library(randomForest)#rf\n",
    "library(caret) #select tuning parameters\n",
    "library(randomForest)"
   ]
  },
  {
   "cell_type": "markdown",
   "metadata": {},
   "source": [
    "# 2. modeling \n",
    "\n",
    "- multinomial \n",
    "\n",
    "- SVM\n",
    "\n",
    "- Randomforest\n",
    "\n",
    "- 여기서는 hum을 사용할수 없어서 test acc 만을 사용"
   ]
  },
  {
   "cell_type": "code",
   "execution_count": 6,
   "metadata": {},
   "outputs": [
    {
     "data": {
      "text/html": [
       "<table>\n",
       "<caption>A matrix: 1 × 6 of type dbl</caption>\n",
       "<thead>\n",
       "\t<tr><th></th><th scope=col>Multinom</th><th scope=col>SVM.radial</th><th scope=col>SVM.linear</th><th scope=col>SVM.polynomail</th><th scope=col>SVM.sigmoid</th><th scope=col>Rndomforest</th></tr>\n",
       "</thead>\n",
       "<tbody>\n",
       "\t<tr><th scope=row>test Accuracy</th><td>0</td><td>0</td><td>0</td><td>0</td><td>0</td><td>0</td></tr>\n",
       "</tbody>\n",
       "</table>\n"
      ],
      "text/latex": [
       "A matrix: 1 × 6 of type dbl\n",
       "\\begin{tabular}{r|llllll}\n",
       "  & Multinom & SVM.radial & SVM.linear & SVM.polynomail & SVM.sigmoid & Rndomforest\\\\\n",
       "\\hline\n",
       "\ttest Accuracy & 0 & 0 & 0 & 0 & 0 & 0\\\\\n",
       "\\end{tabular}\n"
      ],
      "text/markdown": [
       "\n",
       "A matrix: 1 × 6 of type dbl\n",
       "\n",
       "| <!--/--> | Multinom | SVM.radial | SVM.linear | SVM.polynomail | SVM.sigmoid | Rndomforest |\n",
       "|---|---|---|---|---|---|---|\n",
       "| test Accuracy | 0 | 0 | 0 | 0 | 0 | 0 |\n",
       "\n"
      ],
      "text/plain": [
       "              Multinom SVM.radial SVM.linear SVM.polynomail SVM.sigmoid\n",
       "test Accuracy 0        0          0          0              0          \n",
       "              Rndomforest\n",
       "test Accuracy 0          "
      ]
     },
     "metadata": {},
     "output_type": "display_data"
    }
   ],
   "source": [
    "c_data1.mat = matrix(0,1,6)\n",
    "colnames(c_data1.mat) = c(\"Multinom\",\"SVM.radial\",\"SVM.linear\",\"SVM.polynomail\",\"SVM.sigmoid\",\"Rndomforest\")\n",
    "rownames(c_data1.mat) = c( \"test Accuracy\") \n",
    "c_data1.mat"
   ]
  },
  {
   "cell_type": "markdown",
   "metadata": {},
   "source": [
    "## 2.1 mutinomial"
   ]
  },
  {
   "cell_type": "code",
   "execution_count": 7,
   "metadata": {
    "scrolled": true
   },
   "outputs": [
    {
     "name": "stdout",
     "output_type": "stream",
     "text": [
      "# weights:  160 (135 variable)\n",
      "initial  value 13207.628093 \n",
      "iter  10 value 12203.403286\n",
      "iter  20 value 11551.211345\n",
      "iter  30 value 10570.254826\n",
      "iter  40 value 10260.251688\n",
      "iter  50 value 9815.626123\n",
      "iter  60 value 9129.748563\n",
      "iter  70 value 8965.284542\n",
      "iter  80 value 8570.961141\n",
      "iter  90 value 8290.649822\n",
      "iter 100 value 7980.949348\n",
      "final  value 7980.949348 \n",
      "stopped after 100 iterations\n"
     ]
    },
    {
     "data": {
      "text/html": [
       "<table>\n",
       "<caption>A matrix: 1 × 6 of type dbl</caption>\n",
       "<thead>\n",
       "\t<tr><th></th><th scope=col>Multinom</th><th scope=col>SVM.radial</th><th scope=col>SVM.linear</th><th scope=col>SVM.polynomail</th><th scope=col>SVM.sigmoid</th><th scope=col>Rndomforest</th></tr>\n",
       "</thead>\n",
       "<tbody>\n",
       "\t<tr><th scope=row>test Accuracy</th><td>0.4986053</td><td>0</td><td>0</td><td>0</td><td>0</td><td>0</td></tr>\n",
       "</tbody>\n",
       "</table>\n"
      ],
      "text/latex": [
       "A matrix: 1 × 6 of type dbl\n",
       "\\begin{tabular}{r|llllll}\n",
       "  & Multinom & SVM.radial & SVM.linear & SVM.polynomail & SVM.sigmoid & Rndomforest\\\\\n",
       "\\hline\n",
       "\ttest Accuracy & 0.4986053 & 0 & 0 & 0 & 0 & 0\\\\\n",
       "\\end{tabular}\n"
      ],
      "text/markdown": [
       "\n",
       "A matrix: 1 × 6 of type dbl\n",
       "\n",
       "| <!--/--> | Multinom | SVM.radial | SVM.linear | SVM.polynomail | SVM.sigmoid | Rndomforest |\n",
       "|---|---|---|---|---|---|---|\n",
       "| test Accuracy | 0.4986053 | 0 | 0 | 0 | 0 | 0 |\n",
       "\n"
      ],
      "text/plain": [
       "              Multinom  SVM.radial SVM.linear SVM.polynomail SVM.sigmoid\n",
       "test Accuracy 0.4986053 0          0          0              0          \n",
       "              Rndomforest\n",
       "test Accuracy 0          "
      ]
     },
     "metadata": {},
     "output_type": "display_data"
    }
   ],
   "source": [
    "#####################################\n",
    "# multinomial logistic data_1\n",
    "#####################################\n",
    "set.seed(1)\n",
    "multinom.fit = multinom(Y~.,data=cls_2_train)\n",
    "set.seed(1)\n",
    "tab = table(cls_2_test[,4],predict(multinom.fit,newdata=cls_2_test[,-4]))\n",
    "ts.ccp = sum(diag(tab))/sum(tab)\n",
    "c_data1.mat[,1] = c(ts.ccp)\n",
    "c_data1.mat"
   ]
  },
  {
   "cell_type": "markdown",
   "metadata": {},
   "source": [
    "## 2.2 SVM - Radial Kernel"
   ]
  },
  {
   "cell_type": "code",
   "execution_count": 8,
   "metadata": {},
   "outputs": [
    {
     "data": {
      "text/html": [
       "<table>\n",
       "<caption>A matrix: 1 × 6 of type dbl</caption>\n",
       "<thead>\n",
       "\t<tr><th></th><th scope=col>Multinom</th><th scope=col>SVM.radial</th><th scope=col>SVM.linear</th><th scope=col>SVM.polynomail</th><th scope=col>SVM.sigmoid</th><th scope=col>Rndomforest</th></tr>\n",
       "</thead>\n",
       "<tbody>\n",
       "\t<tr><th scope=row>test Accuracy</th><td>0.4986053</td><td>0.5209205</td><td>0</td><td>0</td><td>0</td><td>0</td></tr>\n",
       "</tbody>\n",
       "</table>\n"
      ],
      "text/latex": [
       "A matrix: 1 × 6 of type dbl\n",
       "\\begin{tabular}{r|llllll}\n",
       "  & Multinom & SVM.radial & SVM.linear & SVM.polynomail & SVM.sigmoid & Rndomforest\\\\\n",
       "\\hline\n",
       "\ttest Accuracy & 0.4986053 & 0.5209205 & 0 & 0 & 0 & 0\\\\\n",
       "\\end{tabular}\n"
      ],
      "text/markdown": [
       "\n",
       "A matrix: 1 × 6 of type dbl\n",
       "\n",
       "| <!--/--> | Multinom | SVM.radial | SVM.linear | SVM.polynomail | SVM.sigmoid | Rndomforest |\n",
       "|---|---|---|---|---|---|---|\n",
       "| test Accuracy | 0.4986053 | 0.5209205 | 0 | 0 | 0 | 0 |\n",
       "\n"
      ],
      "text/plain": [
       "              Multinom  SVM.radial SVM.linear SVM.polynomail SVM.sigmoid\n",
       "test Accuracy 0.4986053 0.5209205  0          0              0          \n",
       "              Rndomforest\n",
       "test Accuracy 0          "
      ]
     },
     "metadata": {},
     "output_type": "display_data"
    }
   ],
   "source": [
    "#####################################\n",
    "# SVM - radial\n",
    "#####################################\n",
    "set.seed(1)## 2.2 SVM - Radial Kernel\n",
    "svm.radial.fit = svm(Y~.,data=cls_2_train,kernel=\"radial\",type=\"C\",probability=TRUE)\n",
    "set.seed(1)\n",
    "tab = table(cls_2_test[,4],predict(svm.radial.fit,newdata=cls_2_test[,-4]))\n",
    "ts.ccp = sum(diag(tab))/sum(tab)\n",
    "c_data1.mat[,2] = c(ts.ccp)\n",
    "c_data1.mat"
   ]
  },
  {
   "cell_type": "markdown",
   "metadata": {},
   "source": [
    "## 2.3 SVM - Linear"
   ]
  },
  {
   "cell_type": "code",
   "execution_count": null,
   "metadata": {},
   "outputs": [],
   "source": [
    "#####################################\n",
    "# SVM - linear\n",
    "#####################################\n",
    "set.seed(1)## 2.3 SVM - Linear\n",
    "svm.linear.fit = svm(Y~.,data=cls_2_train,kernel=\"linear\",type=\"C\",probability=TRUE)\n",
    "set.seed(1)\n",
    "tab = table(cls_2_test[,4],predict(svm.linear.fit,newdata=cls_2_test[,-4]))\n",
    "ts.ccp = sum(diag(tab))/sum(tab)\n",
    "c_data1.mat[,3] = c(ts.ccp)\n",
    "c_data1.mat"
   ]
  },
  {
   "cell_type": "markdown",
   "metadata": {},
   "source": [
    "## 2.4 SVM - Poly"
   ]
  },
  {
   "cell_type": "code",
   "execution_count": null,
   "metadata": {},
   "outputs": [],
   "source": [
    "#####################################\n",
    "# SVM - polynomial\n",
    "#####################################\n",
    "set.seed(1)## 2.4 SVM - Poly\n",
    "svm.poly.fit = svm(Y~.,data=cls_2_train,kernel=\"polynomial\",type=\"C\",probability=TRUE)\n",
    "set.seed(1)\n",
    "tab = table(cls_2_test[,4],predict(svm.poly.fit,newdata=cls_2_test[,-4]))\n",
    "ts.ccp = sum(diag(tab))/sum(tab)\n",
    "c_data1.mat[,4] = c(ts.ccp)\n",
    "c_data1.mat"
   ]
  },
  {
   "cell_type": "markdown",
   "metadata": {},
   "source": [
    "## 2.5 SVM - Sigmoid"
   ]
  },
  {
   "cell_type": "code",
   "execution_count": null,
   "metadata": {},
   "outputs": [],
   "source": [
    "#####################################\n",
    "# SVM - sigmoid\n",
    "####################################### 2.5 SVM - Sigmoid\n",
    "set.seed(1)\n",
    "svm.sig.fit = svm(Y~.,data=cls_2_train,kernel=\"sigmoid\",type=\"C\",probability=TRUE)\n",
    "set.seed(1)\n",
    "tab = table(cls_2_test[,4],predict(svm.sig.fit,newdata=cls_2_test[,-4]))\n",
    "ts.ccp = sum(diag(tab))/sum(tab)\n",
    "c_data1.mat[,5] = c(ts.ccp)\n",
    "c_data1.mat"
   ]
  },
  {
   "cell_type": "markdown",
   "metadata": {},
   "source": [
    "## 2.6 RandomForest"
   ]
  },
  {
   "cell_type": "code",
   "execution_count": null,
   "metadata": {},
   "outputs": [],
   "source": [
    "## 2.6 RandomForest################################################\n",
    "## Randomforest\n",
    "################################################\n",
    "set.seed(1)\n",
    "rf.fit = randomForest(Y~.,data=cls_2_train,type='C')\n",
    "set.seed(1)\n",
    "tab = table(cls_2_test[,4],predict(rf.fit,newdata=cls_2_test[,-4]))\n",
    "ts.ccp = sum(diag(tab))/sum(tab)\n",
    "c_data1.mat[,6] = c(ts.ccp)\n",
    "c_data1.mat"
   ]
  },
  {
   "cell_type": "code",
   "execution_count": null,
   "metadata": {},
   "outputs": [],
   "source": []
  }
 ],
 "metadata": {
  "kernelspec": {
   "display_name": "R",
   "language": "R",
   "name": "ir"
  },
  "language_info": {
   "codemirror_mode": "r",
   "file_extension": ".r",
   "mimetype": "text/x-r-source",
   "name": "R",
   "pygments_lexer": "r",
   "version": "3.5.3"
  }
 },
 "nbformat": 4,
 "nbformat_minor": 2
}
